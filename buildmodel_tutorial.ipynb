{
 "cells": [
  {
   "cell_type": "code",
   "execution_count": 1,
   "id": "57f8fece",
   "metadata": {
    "collapsed": false,
    "execution": {
     "iopub.execute_input": "2024-07-26T22:04:05.265972Z",
     "iopub.status.busy": "2024-07-26T22:04:05.265565Z",
     "iopub.status.idle": "2024-07-26T22:04:05.282430Z",
     "shell.execute_reply": "2024-07-26T22:04:05.281201Z"
    },
    "jupyter": {
     "outputs_hidden": false
    },
    "papermill": {
     "duration": 0.030813,
     "end_time": "2024-07-26T22:04:05.285559",
     "exception": false,
     "start_time": "2024-07-26T22:04:05.254746",
     "status": "completed"
    },
    "tags": []
   },
   "outputs": [],
   "source": [
    "# For tips on running notebooks in Google Colab, see\n",
    "# https://pytorch.org/tutorials/beginner/colab\n",
    "%matplotlib inline"
   ]
  },
  {
   "cell_type": "markdown",
   "id": "2f818695",
   "metadata": {
    "papermill": {
     "duration": 0.008298,
     "end_time": "2024-07-26T22:04:05.302438",
     "exception": false,
     "start_time": "2024-07-26T22:04:05.294140",
     "status": "completed"
    },
    "tags": []
   },
   "source": [
    "[Learn the Basics](intro.html) \\|\\|\n",
    "[Quickstart](quickstart_tutorial.html) \\|\\|\n",
    "[Tensors](tensorqs_tutorial.html) \\|\\| [Datasets &\n",
    "DataLoaders](data_tutorial.html) \\|\\|\n",
    "[Transforms](transforms_tutorial.html) \\|\\| **Build Model** \\|\\|\n",
    "[Autograd](autogradqs_tutorial.html) \\|\\|\n",
    "[Optimization](optimization_tutorial.html) \\|\\| [Save & Load\n",
    "Model](saveloadrun_tutorial.html)\n",
    "\n",
    "Build the Neural Network\n",
    "========================\n",
    "\n",
    "Neural networks comprise of layers/modules that perform operations on\n",
    "data. The [torch.nn](https://pytorch.org/docs/stable/nn.html) namespace\n",
    "provides all the building blocks you need to build your own neural\n",
    "network. Every module in PyTorch subclasses the\n",
    "[nn.Module](https://pytorch.org/docs/stable/generated/torch.nn.Module.html).\n",
    "A neural network is a module itself that consists of other modules\n",
    "(layers). This nested structure allows for building and managing complex\n",
    "architectures easily.\n",
    "\n",
    "In the following sections, we\\'ll build a neural network to classify\n",
    "images in the FashionMNIST dataset.\n"
   ]
  },
  {
   "cell_type": "code",
   "execution_count": 2,
   "id": "220ecc15",
   "metadata": {
    "collapsed": false,
    "execution": {
     "iopub.execute_input": "2024-07-26T22:04:05.320932Z",
     "iopub.status.busy": "2024-07-26T22:04:05.320529Z",
     "iopub.status.idle": "2024-07-26T22:04:11.514424Z",
     "shell.execute_reply": "2024-07-26T22:04:11.513058Z"
    },
    "jupyter": {
     "outputs_hidden": false
    },
    "papermill": {
     "duration": 6.206843,
     "end_time": "2024-07-26T22:04:11.517616",
     "exception": false,
     "start_time": "2024-07-26T22:04:05.310773",
     "status": "completed"
    },
    "tags": []
   },
   "outputs": [],
   "source": [
    "import os\n",
    "import torch\n",
    "from torch import nn\n",
    "from torch.utils.data import DataLoader\n",
    "from torchvision import datasets, transforms"
   ]
  },
  {
   "cell_type": "markdown",
   "id": "d2d196b0",
   "metadata": {
    "papermill": {
     "duration": 0.007965,
     "end_time": "2024-07-26T22:04:11.534458",
     "exception": false,
     "start_time": "2024-07-26T22:04:11.526493",
     "status": "completed"
    },
    "tags": []
   },
   "source": [
    "Get Device for Training\n",
    "=======================\n",
    "\n",
    "We want to be able to train our model on a hardware accelerator like the\n",
    "GPU or MPS, if available. Let\\'s check to see if\n",
    "[torch.cuda](https://pytorch.org/docs/stable/notes/cuda.html) or\n",
    "[torch.backends.mps](https://pytorch.org/docs/stable/notes/mps.html) are\n",
    "available, otherwise we use the CPU.\n"
   ]
  },
  {
   "cell_type": "code",
   "execution_count": 3,
   "id": "a7c59b61",
   "metadata": {
    "collapsed": false,
    "execution": {
     "iopub.execute_input": "2024-07-26T22:04:11.553998Z",
     "iopub.status.busy": "2024-07-26T22:04:11.553134Z",
     "iopub.status.idle": "2024-07-26T22:04:11.562127Z",
     "shell.execute_reply": "2024-07-26T22:04:11.560497Z"
    },
    "jupyter": {
     "outputs_hidden": false
    },
    "papermill": {
     "duration": 0.022292,
     "end_time": "2024-07-26T22:04:11.565208",
     "exception": false,
     "start_time": "2024-07-26T22:04:11.542916",
     "status": "completed"
    },
    "tags": []
   },
   "outputs": [
    {
     "name": "stdout",
     "output_type": "stream",
     "text": [
      "Using cpu device\n"
     ]
    }
   ],
   "source": [
    "device = (\n",
    "    \"cuda\"\n",
    "    if torch.cuda.is_available()\n",
    "    else \"mps\"\n",
    "    if torch.backends.mps.is_available()\n",
    "    else \"cpu\"\n",
    ")\n",
    "print(f\"Using {device} device\")"
   ]
  },
  {
   "cell_type": "markdown",
   "id": "45431bad",
   "metadata": {
    "papermill": {
     "duration": 0.008141,
     "end_time": "2024-07-26T22:04:11.582292",
     "exception": false,
     "start_time": "2024-07-26T22:04:11.574151",
     "status": "completed"
    },
    "tags": []
   },
   "source": [
    "Define the Class\n",
    "================\n",
    "\n",
    "We define our neural network by subclassing `nn.Module`, and initialize\n",
    "the neural network layers in `__init__`. Every `nn.Module` subclass\n",
    "implements the operations on input data in the `forward` method.\n"
   ]
  },
  {
   "cell_type": "code",
   "execution_count": 4,
   "id": "9436ef7f",
   "metadata": {
    "collapsed": false,
    "execution": {
     "iopub.execute_input": "2024-07-26T22:04:11.600825Z",
     "iopub.status.busy": "2024-07-26T22:04:11.600409Z",
     "iopub.status.idle": "2024-07-26T22:04:11.608793Z",
     "shell.execute_reply": "2024-07-26T22:04:11.607448Z"
    },
    "jupyter": {
     "outputs_hidden": false
    },
    "papermill": {
     "duration": 0.020925,
     "end_time": "2024-07-26T22:04:11.611623",
     "exception": false,
     "start_time": "2024-07-26T22:04:11.590698",
     "status": "completed"
    },
    "tags": []
   },
   "outputs": [],
   "source": [
    "class NeuralNetwork(nn.Module):\n",
    "    def __init__(self):\n",
    "        super().__init__()\n",
    "        self.flatten = nn.Flatten()\n",
    "        self.linear_relu_stack = nn.Sequential(\n",
    "            nn.Linear(28*28, 512),\n",
    "            nn.ReLU(),\n",
    "            nn.Linear(512, 512),\n",
    "            nn.ReLU(),\n",
    "            nn.Linear(512, 10),\n",
    "        )\n",
    "\n",
    "    def forward(self, x):\n",
    "        x = self.flatten(x)\n",
    "        logits = self.linear_relu_stack(x)\n",
    "        return logits"
   ]
  },
  {
   "cell_type": "markdown",
   "id": "155fc083",
   "metadata": {
    "papermill": {
     "duration": 0.008378,
     "end_time": "2024-07-26T22:04:11.628786",
     "exception": false,
     "start_time": "2024-07-26T22:04:11.620408",
     "status": "completed"
    },
    "tags": []
   },
   "source": [
    "We create an instance of `NeuralNetwork`, and move it to the `device`,\n",
    "and print its structure.\n"
   ]
  },
  {
   "cell_type": "code",
   "execution_count": 5,
   "id": "672ca4f9",
   "metadata": {
    "collapsed": false,
    "execution": {
     "iopub.execute_input": "2024-07-26T22:04:11.648540Z",
     "iopub.status.busy": "2024-07-26T22:04:11.648034Z",
     "iopub.status.idle": "2024-07-26T22:04:11.705383Z",
     "shell.execute_reply": "2024-07-26T22:04:11.703787Z"
    },
    "jupyter": {
     "outputs_hidden": false
    },
    "papermill": {
     "duration": 0.07073,
     "end_time": "2024-07-26T22:04:11.708261",
     "exception": false,
     "start_time": "2024-07-26T22:04:11.637531",
     "status": "completed"
    },
    "tags": []
   },
   "outputs": [
    {
     "name": "stdout",
     "output_type": "stream",
     "text": [
      "NeuralNetwork(\n",
      "  (flatten): Flatten(start_dim=1, end_dim=-1)\n",
      "  (linear_relu_stack): Sequential(\n",
      "    (0): Linear(in_features=784, out_features=512, bias=True)\n",
      "    (1): ReLU()\n",
      "    (2): Linear(in_features=512, out_features=512, bias=True)\n",
      "    (3): ReLU()\n",
      "    (4): Linear(in_features=512, out_features=10, bias=True)\n",
      "  )\n",
      ")\n"
     ]
    }
   ],
   "source": [
    "model = NeuralNetwork().to(device)\n",
    "print(model)"
   ]
  },
  {
   "cell_type": "markdown",
   "id": "bafeaa76",
   "metadata": {
    "papermill": {
     "duration": 0.008311,
     "end_time": "2024-07-26T22:04:11.725748",
     "exception": false,
     "start_time": "2024-07-26T22:04:11.717437",
     "status": "completed"
    },
    "tags": []
   },
   "source": [
    "To use the model, we pass it the input data. This executes the model\\'s\n",
    "`forward`, along with some [background\n",
    "operations](https://github.com/pytorch/pytorch/blob/270111b7b611d174967ed204776985cefca9c144/torch/nn/modules/module.py#L866).\n",
    "Do not call `model.forward()` directly!\n",
    "\n",
    "Calling the model on the input returns a 2-dimensional tensor with dim=0\n",
    "corresponding to each output of 10 raw predicted values for each class,\n",
    "and dim=1 corresponding to the individual values of each output. We get\n",
    "the prediction probabilities by passing it through an instance of the\n",
    "`nn.Softmax` module.\n"
   ]
  },
  {
   "cell_type": "code",
   "execution_count": 6,
   "id": "3eab78e8",
   "metadata": {
    "collapsed": false,
    "execution": {
     "iopub.execute_input": "2024-07-26T22:04:11.745593Z",
     "iopub.status.busy": "2024-07-26T22:04:11.745098Z",
     "iopub.status.idle": "2024-07-26T22:04:11.816828Z",
     "shell.execute_reply": "2024-07-26T22:04:11.815189Z"
    },
    "jupyter": {
     "outputs_hidden": false
    },
    "papermill": {
     "duration": 0.08531,
     "end_time": "2024-07-26T22:04:11.819933",
     "exception": false,
     "start_time": "2024-07-26T22:04:11.734623",
     "status": "completed"
    },
    "tags": []
   },
   "outputs": [
    {
     "name": "stdout",
     "output_type": "stream",
     "text": [
      "Predicted class: tensor([2])\n"
     ]
    }
   ],
   "source": [
    "X = torch.rand(1, 28, 28, device=device)\n",
    "logits = model(X)\n",
    "pred_probab = nn.Softmax(dim=1)(logits)\n",
    "y_pred = pred_probab.argmax(1)\n",
    "print(f\"Predicted class: {y_pred}\")"
   ]
  },
  {
   "cell_type": "markdown",
   "id": "9aedc2a3",
   "metadata": {
    "papermill": {
     "duration": 0.009205,
     "end_time": "2024-07-26T22:04:11.838065",
     "exception": false,
     "start_time": "2024-07-26T22:04:11.828860",
     "status": "completed"
    },
    "tags": []
   },
   "source": [
    "------------------------------------------------------------------------\n"
   ]
  },
  {
   "cell_type": "markdown",
   "id": "05e04252",
   "metadata": {
    "papermill": {
     "duration": 0.008313,
     "end_time": "2024-07-26T22:04:11.856109",
     "exception": false,
     "start_time": "2024-07-26T22:04:11.847796",
     "status": "completed"
    },
    "tags": []
   },
   "source": [
    "Model Layers\n",
    "============\n",
    "\n",
    "Let\\'s break down the layers in the FashionMNIST model. To illustrate\n",
    "it, we will take a sample minibatch of 3 images of size 28x28 and see\n",
    "what happens to it as we pass it through the network.\n"
   ]
  },
  {
   "cell_type": "code",
   "execution_count": 7,
   "id": "5e345b38",
   "metadata": {
    "collapsed": false,
    "execution": {
     "iopub.execute_input": "2024-07-26T22:04:11.875340Z",
     "iopub.status.busy": "2024-07-26T22:04:11.874857Z",
     "iopub.status.idle": "2024-07-26T22:04:11.882187Z",
     "shell.execute_reply": "2024-07-26T22:04:11.880783Z"
    },
    "jupyter": {
     "outputs_hidden": false
    },
    "papermill": {
     "duration": 0.020236,
     "end_time": "2024-07-26T22:04:11.884920",
     "exception": false,
     "start_time": "2024-07-26T22:04:11.864684",
     "status": "completed"
    },
    "tags": []
   },
   "outputs": [
    {
     "name": "stdout",
     "output_type": "stream",
     "text": [
      "torch.Size([3, 28, 28])\n"
     ]
    }
   ],
   "source": [
    "input_image = torch.rand(3,28,28)\n",
    "print(input_image.size())"
   ]
  },
  {
   "cell_type": "markdown",
   "id": "2727b56f",
   "metadata": {
    "papermill": {
     "duration": 0.008581,
     "end_time": "2024-07-26T22:04:11.902469",
     "exception": false,
     "start_time": "2024-07-26T22:04:11.893888",
     "status": "completed"
    },
    "tags": []
   },
   "source": [
    "nn.Flatten\n",
    "==========\n",
    "\n",
    "We initialize the\n",
    "[nn.Flatten](https://pytorch.org/docs/stable/generated/torch.nn.Flatten.html)\n",
    "layer to convert each 2D 28x28 image into a contiguous array of 784\n",
    "pixel values ( the minibatch dimension (at dim=0) is maintained).\n"
   ]
  },
  {
   "cell_type": "code",
   "execution_count": 8,
   "id": "3b960d97",
   "metadata": {
    "collapsed": false,
    "execution": {
     "iopub.execute_input": "2024-07-26T22:04:11.922337Z",
     "iopub.status.busy": "2024-07-26T22:04:11.921845Z",
     "iopub.status.idle": "2024-07-26T22:04:11.930381Z",
     "shell.execute_reply": "2024-07-26T22:04:11.928657Z"
    },
    "jupyter": {
     "outputs_hidden": false
    },
    "papermill": {
     "duration": 0.021814,
     "end_time": "2024-07-26T22:04:11.933086",
     "exception": false,
     "start_time": "2024-07-26T22:04:11.911272",
     "status": "completed"
    },
    "tags": []
   },
   "outputs": [
    {
     "name": "stdout",
     "output_type": "stream",
     "text": [
      "torch.Size([3, 784])\n"
     ]
    }
   ],
   "source": [
    "flatten = nn.Flatten()\n",
    "flat_image = flatten(input_image)\n",
    "print(flat_image.size())"
   ]
  },
  {
   "cell_type": "markdown",
   "id": "7cb7f97b",
   "metadata": {
    "papermill": {
     "duration": 0.008621,
     "end_time": "2024-07-26T22:04:11.950804",
     "exception": false,
     "start_time": "2024-07-26T22:04:11.942183",
     "status": "completed"
    },
    "tags": []
   },
   "source": [
    "nn.Linear\n",
    "=========\n",
    "\n",
    "The [linear\n",
    "layer](https://pytorch.org/docs/stable/generated/torch.nn.Linear.html)\n",
    "is a module that applies a linear transformation on the input using its\n",
    "stored weights and biases.\n"
   ]
  },
  {
   "cell_type": "code",
   "execution_count": 9,
   "id": "07ec75c9",
   "metadata": {
    "collapsed": false,
    "execution": {
     "iopub.execute_input": "2024-07-26T22:04:11.970488Z",
     "iopub.status.busy": "2024-07-26T22:04:11.970042Z",
     "iopub.status.idle": "2024-07-26T22:04:11.979629Z",
     "shell.execute_reply": "2024-07-26T22:04:11.978045Z"
    },
    "jupyter": {
     "outputs_hidden": false
    },
    "papermill": {
     "duration": 0.022772,
     "end_time": "2024-07-26T22:04:11.982482",
     "exception": false,
     "start_time": "2024-07-26T22:04:11.959710",
     "status": "completed"
    },
    "tags": []
   },
   "outputs": [
    {
     "name": "stdout",
     "output_type": "stream",
     "text": [
      "torch.Size([3, 20])\n"
     ]
    }
   ],
   "source": [
    "layer1 = nn.Linear(in_features=28*28, out_features=20)\n",
    "hidden1 = layer1(flat_image)\n",
    "print(hidden1.size())"
   ]
  },
  {
   "cell_type": "markdown",
   "id": "03aeba2e",
   "metadata": {
    "papermill": {
     "duration": 0.01003,
     "end_time": "2024-07-26T22:04:12.002219",
     "exception": false,
     "start_time": "2024-07-26T22:04:11.992189",
     "status": "completed"
    },
    "tags": []
   },
   "source": [
    "nn.ReLU\n",
    "=======\n",
    "\n",
    "Non-linear activations are what create the complex mappings between the\n",
    "model\\'s inputs and outputs. They are applied after linear\n",
    "transformations to introduce *nonlinearity*, helping neural networks\n",
    "learn a wide variety of phenomena.\n",
    "\n",
    "In this model, we use\n",
    "[nn.ReLU](https://pytorch.org/docs/stable/generated/torch.nn.ReLU.html)\n",
    "between our linear layers, but there\\'s other activations to introduce\n",
    "non-linearity in your model.\n"
   ]
  },
  {
   "cell_type": "code",
   "execution_count": 10,
   "id": "45401208",
   "metadata": {
    "collapsed": false,
    "execution": {
     "iopub.execute_input": "2024-07-26T22:04:12.026839Z",
     "iopub.status.busy": "2024-07-26T22:04:12.026420Z",
     "iopub.status.idle": "2024-07-26T22:04:12.071216Z",
     "shell.execute_reply": "2024-07-26T22:04:12.069906Z"
    },
    "jupyter": {
     "outputs_hidden": false
    },
    "papermill": {
     "duration": 0.05942,
     "end_time": "2024-07-26T22:04:12.074451",
     "exception": false,
     "start_time": "2024-07-26T22:04:12.015031",
     "status": "completed"
    },
    "tags": []
   },
   "outputs": [
    {
     "name": "stdout",
     "output_type": "stream",
     "text": [
      "Before ReLU: tensor([[ 0.0417,  0.2374, -0.3845, -0.3046, -0.5657, -0.0341,  0.4347, -0.2073,\n",
      "         -0.0963,  0.0254,  0.7966,  0.2829, -0.2180,  0.0789, -0.0131,  0.1121,\n",
      "         -0.2632,  0.2078,  0.0355,  0.2582],\n",
      "        [ 0.1086,  0.3707, -0.0596, -0.2086, -0.7877, -0.1126,  0.2213, -0.0424,\n",
      "          0.2385, -0.0506,  0.4207,  0.1885,  0.0744, -0.1965,  0.2247,  0.2681,\n",
      "         -0.0232, -0.2352,  0.0817,  0.3655],\n",
      "        [-0.0620,  0.2194,  0.0159,  0.0735, -0.5088, -0.4060, -0.0212, -0.5683,\n",
      "         -0.1803,  0.0939,  0.7711,  0.1617,  0.1596,  0.0717,  0.0453,  0.0270,\n",
      "         -0.0457, -0.0671, -0.0528, -0.1379]], grad_fn=<AddmmBackward0>)\n",
      "\n",
      "\n",
      "After ReLU: tensor([[0.0417, 0.2374, 0.0000, 0.0000, 0.0000, 0.0000, 0.4347, 0.0000, 0.0000,\n",
      "         0.0254, 0.7966, 0.2829, 0.0000, 0.0789, 0.0000, 0.1121, 0.0000, 0.2078,\n",
      "         0.0355, 0.2582],\n",
      "        [0.1086, 0.3707, 0.0000, 0.0000, 0.0000, 0.0000, 0.2213, 0.0000, 0.2385,\n",
      "         0.0000, 0.4207, 0.1885, 0.0744, 0.0000, 0.2247, 0.2681, 0.0000, 0.0000,\n",
      "         0.0817, 0.3655],\n",
      "        [0.0000, 0.2194, 0.0159, 0.0735, 0.0000, 0.0000, 0.0000, 0.0000, 0.0000,\n",
      "         0.0939, 0.7711, 0.1617, 0.1596, 0.0717, 0.0453, 0.0270, 0.0000, 0.0000,\n",
      "         0.0000, 0.0000]], grad_fn=<ReluBackward0>)\n"
     ]
    }
   ],
   "source": [
    "print(f\"Before ReLU: {hidden1}\\n\\n\")\n",
    "hidden1 = nn.ReLU()(hidden1)\n",
    "print(f\"After ReLU: {hidden1}\")"
   ]
  },
  {
   "cell_type": "markdown",
   "id": "9fd7d1e0",
   "metadata": {
    "papermill": {
     "duration": 0.009159,
     "end_time": "2024-07-26T22:04:12.093564",
     "exception": false,
     "start_time": "2024-07-26T22:04:12.084405",
     "status": "completed"
    },
    "tags": []
   },
   "source": [
    "nn.Sequential\n",
    "=============\n",
    "\n",
    "[nn.Sequential](https://pytorch.org/docs/stable/generated/torch.nn.Sequential.html)\n",
    "is an ordered container of modules. The data is passed through all the\n",
    "modules in the same order as defined. You can use sequential containers\n",
    "to put together a quick network like `seq_modules`.\n"
   ]
  },
  {
   "cell_type": "code",
   "execution_count": 11,
   "id": "bf9af482",
   "metadata": {
    "collapsed": false,
    "execution": {
     "iopub.execute_input": "2024-07-26T22:04:12.116253Z",
     "iopub.status.busy": "2024-07-26T22:04:12.115774Z",
     "iopub.status.idle": "2024-07-26T22:04:12.124173Z",
     "shell.execute_reply": "2024-07-26T22:04:12.122797Z"
    },
    "jupyter": {
     "outputs_hidden": false
    },
    "papermill": {
     "duration": 0.024122,
     "end_time": "2024-07-26T22:04:12.127250",
     "exception": false,
     "start_time": "2024-07-26T22:04:12.103128",
     "status": "completed"
    },
    "tags": []
   },
   "outputs": [],
   "source": [
    "seq_modules = nn.Sequential(\n",
    "    flatten,\n",
    "    layer1,\n",
    "    nn.ReLU(),\n",
    "    nn.Linear(20, 10)\n",
    ")\n",
    "input_image = torch.rand(3,28,28)\n",
    "logits = seq_modules(input_image)"
   ]
  },
  {
   "cell_type": "markdown",
   "id": "3cac01bf",
   "metadata": {
    "papermill": {
     "duration": 0.009114,
     "end_time": "2024-07-26T22:04:12.146130",
     "exception": false,
     "start_time": "2024-07-26T22:04:12.137016",
     "status": "completed"
    },
    "tags": []
   },
   "source": [
    "nn.Softmax\n",
    "==========\n",
    "\n",
    "The last linear layer of the neural network returns [logits]{.title-ref}\n",
    "- raw values in \\[-infty, infty\\] - which are passed to the\n",
    "[nn.Softmax](https://pytorch.org/docs/stable/generated/torch.nn.Softmax.html)\n",
    "module. The logits are scaled to values \\[0, 1\\] representing the\n",
    "model\\'s predicted probabilities for each class. `dim` parameter\n",
    "indicates the dimension along which the values must sum to 1.\n"
   ]
  },
  {
   "cell_type": "code",
   "execution_count": 12,
   "id": "37292516",
   "metadata": {
    "collapsed": false,
    "execution": {
     "iopub.execute_input": "2024-07-26T22:04:12.167474Z",
     "iopub.status.busy": "2024-07-26T22:04:12.166481Z",
     "iopub.status.idle": "2024-07-26T22:04:12.173928Z",
     "shell.execute_reply": "2024-07-26T22:04:12.172611Z"
    },
    "jupyter": {
     "outputs_hidden": false
    },
    "papermill": {
     "duration": 0.021331,
     "end_time": "2024-07-26T22:04:12.176774",
     "exception": false,
     "start_time": "2024-07-26T22:04:12.155443",
     "status": "completed"
    },
    "tags": []
   },
   "outputs": [],
   "source": [
    "softmax = nn.Softmax(dim=1)\n",
    "pred_probab = softmax(logits)"
   ]
  },
  {
   "cell_type": "markdown",
   "id": "2c962bec",
   "metadata": {
    "papermill": {
     "duration": 0.009659,
     "end_time": "2024-07-26T22:04:12.196530",
     "exception": false,
     "start_time": "2024-07-26T22:04:12.186871",
     "status": "completed"
    },
    "tags": []
   },
   "source": [
    "Model Parameters\n",
    "================\n",
    "\n",
    "Many layers inside a neural network are *parameterized*, i.e. have\n",
    "associated weights and biases that are optimized during training.\n",
    "Subclassing `nn.Module` automatically tracks all fields defined inside\n",
    "your model object, and makes all parameters accessible using your\n",
    "model\\'s `parameters()` or `named_parameters()` methods.\n",
    "\n",
    "In this example, we iterate over each parameter, and print its size and\n",
    "a preview of its values.\n"
   ]
  },
  {
   "cell_type": "code",
   "execution_count": 13,
   "id": "0d0f3460",
   "metadata": {
    "collapsed": false,
    "execution": {
     "iopub.execute_input": "2024-07-26T22:04:12.219620Z",
     "iopub.status.busy": "2024-07-26T22:04:12.218307Z",
     "iopub.status.idle": "2024-07-26T22:04:12.241256Z",
     "shell.execute_reply": "2024-07-26T22:04:12.239953Z"
    },
    "jupyter": {
     "outputs_hidden": false
    },
    "papermill": {
     "duration": 0.037918,
     "end_time": "2024-07-26T22:04:12.244308",
     "exception": false,
     "start_time": "2024-07-26T22:04:12.206390",
     "status": "completed"
    },
    "tags": []
   },
   "outputs": [
    {
     "name": "stdout",
     "output_type": "stream",
     "text": [
      "Model structure: NeuralNetwork(\n",
      "  (flatten): Flatten(start_dim=1, end_dim=-1)\n",
      "  (linear_relu_stack): Sequential(\n",
      "    (0): Linear(in_features=784, out_features=512, bias=True)\n",
      "    (1): ReLU()\n",
      "    (2): Linear(in_features=512, out_features=512, bias=True)\n",
      "    (3): ReLU()\n",
      "    (4): Linear(in_features=512, out_features=10, bias=True)\n",
      "  )\n",
      ")\n",
      "\n",
      "\n",
      "Layer: linear_relu_stack.0.weight | Size: torch.Size([512, 784]) | Values : tensor([[ 0.0346,  0.0030, -0.0297,  ..., -0.0268,  0.0298,  0.0038],\n",
      "        [-0.0128, -0.0137, -0.0140,  ..., -0.0027,  0.0024,  0.0204]],\n",
      "       grad_fn=<SliceBackward0>) \n",
      "\n",
      "Layer: linear_relu_stack.0.bias | Size: torch.Size([512]) | Values : tensor([ 0.0164, -0.0189], grad_fn=<SliceBackward0>) \n",
      "\n",
      "Layer: linear_relu_stack.2.weight | Size: torch.Size([512, 512]) | Values : tensor([[ 0.0150, -0.0096, -0.0004,  ...,  0.0046,  0.0245, -0.0197],\n",
      "        [ 0.0007, -0.0145, -0.0131,  ...,  0.0179,  0.0321, -0.0058]],\n",
      "       grad_fn=<SliceBackward0>) \n",
      "\n",
      "Layer: linear_relu_stack.2.bias | Size: torch.Size([512]) | Values : tensor([0.0440, 0.0055], grad_fn=<SliceBackward0>) \n",
      "\n",
      "Layer: linear_relu_stack.4.weight | Size: torch.Size([10, 512]) | Values : tensor([[-0.0223,  0.0342, -0.0360,  ...,  0.0414,  0.0437, -0.0330],\n",
      "        [ 0.0247,  0.0314,  0.0177,  ...,  0.0072,  0.0204,  0.0288]],\n",
      "       grad_fn=<SliceBackward0>) \n",
      "\n",
      "Layer: linear_relu_stack.4.bias | Size: torch.Size([10]) | Values : tensor([-0.0134,  0.0337], grad_fn=<SliceBackward0>) \n",
      "\n"
     ]
    }
   ],
   "source": [
    "print(f\"Model structure: {model}\\n\\n\")\n",
    "\n",
    "for name, param in model.named_parameters():\n",
    "    print(f\"Layer: {name} | Size: {param.size()} | Values : {param[:2]} \\n\")"
   ]
  },
  {
   "cell_type": "markdown",
   "id": "8028198a",
   "metadata": {
    "papermill": {
     "duration": 0.009845,
     "end_time": "2024-07-26T22:04:12.264155",
     "exception": false,
     "start_time": "2024-07-26T22:04:12.254310",
     "status": "completed"
    },
    "tags": []
   },
   "source": [
    "------------------------------------------------------------------------\n"
   ]
  },
  {
   "cell_type": "markdown",
   "id": "91188c7b",
   "metadata": {
    "papermill": {
     "duration": 0.00951,
     "end_time": "2024-07-26T22:04:12.283398",
     "exception": false,
     "start_time": "2024-07-26T22:04:12.273888",
     "status": "completed"
    },
    "tags": []
   },
   "source": [
    "Further Reading\n",
    "===============\n",
    "\n",
    "-   [torch.nn API](https://pytorch.org/docs/stable/nn.html)\n"
   ]
  }
 ],
 "metadata": {
  "kaggle": {
   "accelerator": "none",
   "dataSources": [],
   "isGpuEnabled": false,
   "isInternetEnabled": true,
   "language": "python",
   "sourceType": "notebook"
  },
  "kernelspec": {
   "display_name": "Python 3",
   "language": "python",
   "name": "python3"
  },
  "language_info": {
   "codemirror_mode": {
    "name": "ipython",
    "version": 3
   },
   "file_extension": ".py",
   "mimetype": "text/x-python",
   "name": "python",
   "nbconvert_exporter": "python",
   "pygments_lexer": "ipython3",
   "version": "3.10.13"
  },
  "papermill": {
   "default_parameters": {},
   "duration": 11.694687,
   "end_time": "2024-07-26T22:04:13.620411",
   "environment_variables": {},
   "exception": null,
   "input_path": "__notebook__.ipynb",
   "output_path": "__notebook__.ipynb",
   "parameters": {},
   "start_time": "2024-07-26T22:04:01.925724",
   "version": "2.5.0"
  }
 },
 "nbformat": 4,
 "nbformat_minor": 5
}
