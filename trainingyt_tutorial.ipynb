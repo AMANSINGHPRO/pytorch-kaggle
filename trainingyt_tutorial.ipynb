{
 "cells": [
  {
   "cell_type": "code",
   "execution_count": 1,
   "id": "8c339238",
   "metadata": {
    "collapsed": false,
    "execution": {
     "iopub.execute_input": "2024-07-26T23:25:32.507422Z",
     "iopub.status.busy": "2024-07-26T23:25:32.506952Z",
     "iopub.status.idle": "2024-07-26T23:25:32.520893Z",
     "shell.execute_reply": "2024-07-26T23:25:32.519676Z"
    },
    "jupyter": {
     "outputs_hidden": false
    },
    "papermill": {
     "duration": 0.023621,
     "end_time": "2024-07-26T23:25:32.523894",
     "exception": false,
     "start_time": "2024-07-26T23:25:32.500273",
     "status": "completed"
    },
    "tags": []
   },
   "outputs": [],
   "source": [
    "# For tips on running notebooks in Google Colab, see\n",
    "# https://pytorch.org/tutorials/beginner/colab\n",
    "%matplotlib inline"
   ]
  },
  {
   "cell_type": "markdown",
   "id": "bc350f01",
   "metadata": {
    "papermill": {
     "duration": 0.004131,
     "end_time": "2024-07-26T23:25:32.532838",
     "exception": false,
     "start_time": "2024-07-26T23:25:32.528707",
     "status": "completed"
    },
    "tags": []
   },
   "source": [
    "[Introduction](introyt1_tutorial.html) \\|\\|\n",
    "[Tensors](tensors_deeper_tutorial.html) \\|\\|\n",
    "[Autograd](autogradyt_tutorial.html) \\|\\| [Building\n",
    "Models](modelsyt_tutorial.html) \\|\\| [TensorBoard\n",
    "Support](tensorboardyt_tutorial.html) \\|\\| **Training Models** \\|\\|\n",
    "[Model Understanding](captumyt.html)\n",
    "\n",
    "Training with PyTorch\n",
    "=====================\n",
    "\n",
    "Follow along with the video below or on\n",
    "[youtube](https://www.youtube.com/watch?v=jF43_wj_DCQ).\n",
    "\n"
   ]
  },
  {
   "cell_type": "code",
   "execution_count": 2,
   "id": "847426ea",
   "metadata": {
    "execution": {
     "iopub.execute_input": "2024-07-26T23:25:32.543603Z",
     "iopub.status.busy": "2024-07-26T23:25:32.543212Z",
     "iopub.status.idle": "2024-07-26T23:25:32.552278Z",
     "shell.execute_reply": "2024-07-26T23:25:32.551040Z"
    },
    "papermill": {
     "duration": 0.017469,
     "end_time": "2024-07-26T23:25:32.554859",
     "exception": false,
     "start_time": "2024-07-26T23:25:32.537390",
     "status": "completed"
    },
    "tags": []
   },
   "outputs": [
    {
     "data": {
      "text/html": [
       "\n",
       "<div style=\"margin-top:10px; margin-bottom:10px;\">\n",
       "  <iframe width=\"560\" height=\"315\" src=\"https://www.youtube.com/embed/jF43_wj_DCQ\" frameborder=\"0\" allow=\"accelerometer; encrypted-media; gyroscope; picture-in-picture\" allowfullscreen></iframe>\n",
       "</div>\n"
      ],
      "text/plain": [
       "<IPython.core.display.HTML object>"
      ]
     },
     "metadata": {},
     "output_type": "display_data"
    }
   ],
   "source": [
    "# Run this cell to load the video\n",
    "from IPython.display import display, HTML\n",
    "html_code = \"\"\"\n",
    "<div style=\"margin-top:10px; margin-bottom:10px;\">\n",
    "  <iframe width=\"560\" height=\"315\" src=\"https://www.youtube.com/embed/jF43_wj_DCQ\" frameborder=\"0\" allow=\"accelerometer; encrypted-media; gyroscope; picture-in-picture\" allowfullscreen></iframe>\n",
    "</div>\n",
    "\"\"\"\n",
    "display(HTML(html_code))"
   ]
  },
  {
   "cell_type": "markdown",
   "id": "67d8dd6b",
   "metadata": {
    "papermill": {
     "duration": 0.004475,
     "end_time": "2024-07-26T23:25:32.564342",
     "exception": false,
     "start_time": "2024-07-26T23:25:32.559867",
     "status": "completed"
    },
    "tags": []
   },
   "source": [
    "\n",
    "\n",
    "Introduction\n",
    "------------\n",
    "\n",
    "In past videos, we've discussed and demonstrated:\n",
    "\n",
    "-   Building models with the neural network layers and functions of the\n",
    "    torch.nn module\n",
    "-   The mechanics of automated gradient computation, which is central to\n",
    "    gradient-based model training\n",
    "-   Using TensorBoard to visualize training progress and other\n",
    "    activities\n",
    "\n",
    "In this video, we'll be adding some new tools to your inventory:\n",
    "\n",
    "-   We'll get familiar with the dataset and dataloader abstractions, and\n",
    "    how they ease the process of feeding data to your model during a\n",
    "    training loop\n",
    "-   We'll discuss specific loss functions and when to use them\n",
    "-   We'll look at PyTorch optimizers, which implement algorithms to\n",
    "    adjust model weights based on the outcome of a loss function\n",
    "\n",
    "Finally, we'll pull all of these together and see a full PyTorch\n",
    "training loop in action.\n",
    "\n",
    "Dataset and DataLoader\n",
    "----------------------\n",
    "\n",
    "The `Dataset` and `DataLoader` classes encapsulate the process of\n",
    "pulling your data from storage and exposing it to your training loop in\n",
    "batches.\n",
    "\n",
    "The `Dataset` is responsible for accessing and processing single\n",
    "instances of data.\n",
    "\n",
    "The `DataLoader` pulls instances of data from the `Dataset` (either\n",
    "automatically or with a sampler that you define), collects them in\n",
    "batches, and returns them for consumption by your training loop. The\n",
    "`DataLoader` works with all kinds of datasets, regardless of the type of\n",
    "data they contain.\n",
    "\n",
    "For this tutorial, we'll be using the Fashion-MNIST dataset provided by\n",
    "TorchVision. We use `torchvision.transforms.Normalize()` to zero-center\n",
    "and normalize the distribution of the image tile content, and download\n",
    "both training and validation data splits.\n"
   ]
  },
  {
   "cell_type": "code",
   "execution_count": 3,
   "id": "e4efd31a",
   "metadata": {
    "collapsed": false,
    "execution": {
     "iopub.execute_input": "2024-07-26T23:25:32.576008Z",
     "iopub.status.busy": "2024-07-26T23:25:32.574910Z",
     "iopub.status.idle": "2024-07-26T23:25:55.516250Z",
     "shell.execute_reply": "2024-07-26T23:25:55.514533Z"
    },
    "jupyter": {
     "outputs_hidden": false
    },
    "papermill": {
     "duration": 22.950104,
     "end_time": "2024-07-26T23:25:55.519072",
     "exception": false,
     "start_time": "2024-07-26T23:25:32.568968",
     "status": "completed"
    },
    "tags": []
   },
   "outputs": [
    {
     "name": "stderr",
     "output_type": "stream",
     "text": [
      "2024-07-26 23:25:41.103325: E external/local_xla/xla/stream_executor/cuda/cuda_dnn.cc:9261] Unable to register cuDNN factory: Attempting to register factory for plugin cuDNN when one has already been registered\n",
      "2024-07-26 23:25:41.103463: E external/local_xla/xla/stream_executor/cuda/cuda_fft.cc:607] Unable to register cuFFT factory: Attempting to register factory for plugin cuFFT when one has already been registered\n",
      "2024-07-26 23:25:41.272267: E external/local_xla/xla/stream_executor/cuda/cuda_blas.cc:1515] Unable to register cuBLAS factory: Attempting to register factory for plugin cuBLAS when one has already been registered\n"
     ]
    },
    {
     "name": "stdout",
     "output_type": "stream",
     "text": [
      "Downloading http://fashion-mnist.s3-website.eu-central-1.amazonaws.com/train-images-idx3-ubyte.gz\n",
      "Downloading http://fashion-mnist.s3-website.eu-central-1.amazonaws.com/train-images-idx3-ubyte.gz to ./data/FashionMNIST/raw/train-images-idx3-ubyte.gz\n"
     ]
    },
    {
     "name": "stderr",
     "output_type": "stream",
     "text": [
      "100%|██████████| 26421880/26421880 [00:00<00:00, 51111033.87it/s]\n"
     ]
    },
    {
     "name": "stdout",
     "output_type": "stream",
     "text": [
      "Extracting ./data/FashionMNIST/raw/train-images-idx3-ubyte.gz to ./data/FashionMNIST/raw\n",
      "\n",
      "Downloading http://fashion-mnist.s3-website.eu-central-1.amazonaws.com/train-labels-idx1-ubyte.gz\n",
      "Downloading http://fashion-mnist.s3-website.eu-central-1.amazonaws.com/train-labels-idx1-ubyte.gz to ./data/FashionMNIST/raw/train-labels-idx1-ubyte.gz\n"
     ]
    },
    {
     "name": "stderr",
     "output_type": "stream",
     "text": [
      "100%|██████████| 29515/29515 [00:00<00:00, 4278230.67it/s]"
     ]
    },
    {
     "name": "stdout",
     "output_type": "stream",
     "text": [
      "Extracting ./data/FashionMNIST/raw/train-labels-idx1-ubyte.gz to ./data/FashionMNIST/raw\n",
      "\n",
      "Downloading http://fashion-mnist.s3-website.eu-central-1.amazonaws.com/t10k-images-idx3-ubyte.gz\n",
      "Downloading http://fashion-mnist.s3-website.eu-central-1.amazonaws.com/t10k-images-idx3-ubyte.gz to ./data/FashionMNIST/raw/t10k-images-idx3-ubyte.gz\n"
     ]
    },
    {
     "name": "stderr",
     "output_type": "stream",
     "text": [
      "\n",
      "100%|██████████| 4422102/4422102 [00:00<00:00, 57902568.04it/s]\n"
     ]
    },
    {
     "name": "stdout",
     "output_type": "stream",
     "text": [
      "Extracting ./data/FashionMNIST/raw/t10k-images-idx3-ubyte.gz to ./data/FashionMNIST/raw\n",
      "\n",
      "Downloading http://fashion-mnist.s3-website.eu-central-1.amazonaws.com/t10k-labels-idx1-ubyte.gz\n",
      "Downloading http://fashion-mnist.s3-website.eu-central-1.amazonaws.com/t10k-labels-idx1-ubyte.gz to ./data/FashionMNIST/raw/t10k-labels-idx1-ubyte.gz\n"
     ]
    },
    {
     "name": "stderr",
     "output_type": "stream",
     "text": [
      "100%|██████████| 5148/5148 [00:00<00:00, 8759544.42it/s]\n"
     ]
    },
    {
     "name": "stdout",
     "output_type": "stream",
     "text": [
      "Extracting ./data/FashionMNIST/raw/t10k-labels-idx1-ubyte.gz to ./data/FashionMNIST/raw\n",
      "\n",
      "Training set has 60000 instances\n",
      "Validation set has 10000 instances\n"
     ]
    }
   ],
   "source": [
    "import torch\n",
    "import torchvision\n",
    "import torchvision.transforms as transforms\n",
    "\n",
    "# PyTorch TensorBoard support\n",
    "from torch.utils.tensorboard import SummaryWriter\n",
    "from datetime import datetime\n",
    "\n",
    "\n",
    "transform = transforms.Compose(\n",
    "    [transforms.ToTensor(),\n",
    "    transforms.Normalize((0.5,), (0.5,))])\n",
    "\n",
    "# Create datasets for training & validation, download if necessary\n",
    "training_set = torchvision.datasets.FashionMNIST('./data', train=True, transform=transform, download=True)\n",
    "validation_set = torchvision.datasets.FashionMNIST('./data', train=False, transform=transform, download=True)\n",
    "\n",
    "# Create data loaders for our datasets; shuffle for training, not for validation\n",
    "training_loader = torch.utils.data.DataLoader(training_set, batch_size=4, shuffle=True)\n",
    "validation_loader = torch.utils.data.DataLoader(validation_set, batch_size=4, shuffle=False)\n",
    "\n",
    "# Class labels\n",
    "classes = ('T-shirt/top', 'Trouser', 'Pullover', 'Dress', 'Coat',\n",
    "        'Sandal', 'Shirt', 'Sneaker', 'Bag', 'Ankle Boot')\n",
    "\n",
    "# Report split sizes\n",
    "print('Training set has {} instances'.format(len(training_set)))\n",
    "print('Validation set has {} instances'.format(len(validation_set)))"
   ]
  },
  {
   "cell_type": "markdown",
   "id": "fe0e22ec",
   "metadata": {
    "papermill": {
     "duration": 0.006119,
     "end_time": "2024-07-26T23:25:55.531838",
     "exception": false,
     "start_time": "2024-07-26T23:25:55.525719",
     "status": "completed"
    },
    "tags": []
   },
   "source": [
    "As always, let's visualize the data as a sanity check:\n"
   ]
  },
  {
   "cell_type": "code",
   "execution_count": 4,
   "id": "366cfa41",
   "metadata": {
    "collapsed": false,
    "execution": {
     "iopub.execute_input": "2024-07-26T23:25:55.546900Z",
     "iopub.status.busy": "2024-07-26T23:25:55.546178Z",
     "iopub.status.idle": "2024-07-26T23:25:55.886320Z",
     "shell.execute_reply": "2024-07-26T23:25:55.885027Z"
    },
    "jupyter": {
     "outputs_hidden": false
    },
    "papermill": {
     "duration": 0.350456,
     "end_time": "2024-07-26T23:25:55.888843",
     "exception": false,
     "start_time": "2024-07-26T23:25:55.538387",
     "status": "completed"
    },
    "tags": []
   },
   "outputs": [
    {
     "name": "stdout",
     "output_type": "stream",
     "text": [
      "Bag  Ankle Boot  Trouser  Pullover\n"
     ]
    },
    {
     "data": {
      "image/png": "[encoded data removed]",
      "text/plain": [
       "<Figure size 640x480 with 1 Axes>"
      ]
     },
     "metadata": {},
     "output_type": "display_data"
    }
   ],
   "source": [
    "import matplotlib.pyplot as plt\n",
    "import numpy as np\n",
    "\n",
    "# Helper function for inline image display\n",
    "def matplotlib_imshow(img, one_channel=False):\n",
    "    if one_channel:\n",
    "        img = img.mean(dim=0)\n",
    "    img = img / 2 + 0.5     # unnormalize\n",
    "    npimg = img.numpy()\n",
    "    if one_channel:\n",
    "        plt.imshow(npimg, cmap=\"Greys\")\n",
    "    else:\n",
    "        plt.imshow(np.transpose(npimg, (1, 2, 0)))\n",
    "\n",
    "dataiter = iter(training_loader)\n",
    "images, labels = next(dataiter)\n",
    "\n",
    "# Create a grid from the images and show them\n",
    "img_grid = torchvision.utils.make_grid(images)\n",
    "matplotlib_imshow(img_grid, one_channel=True)\n",
    "print('  '.join(classes[labels[j]] for j in range(4)))"
   ]
  },
  {
   "cell_type": "markdown",
   "id": "aebab297",
   "metadata": {
    "papermill": {
     "duration": 0.006696,
     "end_time": "2024-07-26T23:25:55.902595",
     "exception": false,
     "start_time": "2024-07-26T23:25:55.895899",
     "status": "completed"
    },
    "tags": []
   },
   "source": [
    "The Model\n",
    "=========\n",
    "\n",
    "The model we'll use in this example is a variant of LeNet-5 - it should\n",
    "be familiar if you've watched the previous videos in this series.\n"
   ]
  },
  {
   "cell_type": "code",
   "execution_count": 5,
   "id": "3913d6f8",
   "metadata": {
    "collapsed": false,
    "execution": {
     "iopub.execute_input": "2024-07-26T23:25:55.918323Z",
     "iopub.status.busy": "2024-07-26T23:25:55.917794Z",
     "iopub.status.idle": "2024-07-26T23:25:55.930942Z",
     "shell.execute_reply": "2024-07-26T23:25:55.929847Z"
    },
    "jupyter": {
     "outputs_hidden": false
    },
    "papermill": {
     "duration": 0.024214,
     "end_time": "2024-07-26T23:25:55.933650",
     "exception": false,
     "start_time": "2024-07-26T23:25:55.909436",
     "status": "completed"
    },
    "tags": []
   },
   "outputs": [],
   "source": [
    "import torch.nn as nn\n",
    "import torch.nn.functional as F\n",
    "\n",
    "# PyTorch models inherit from torch.nn.Module\n",
    "class GarmentClassifier(nn.Module):\n",
    "    def __init__(self):\n",
    "        super(GarmentClassifier, self).__init__()\n",
    "        self.conv1 = nn.Conv2d(1, 6, 5)\n",
    "        self.pool = nn.MaxPool2d(2, 2)\n",
    "        self.conv2 = nn.Conv2d(6, 16, 5)\n",
    "        self.fc1 = nn.Linear(16 * 4 * 4, 120)\n",
    "        self.fc2 = nn.Linear(120, 84)\n",
    "        self.fc3 = nn.Linear(84, 10)\n",
    "\n",
    "    def forward(self, x):\n",
    "        x = self.pool(F.relu(self.conv1(x)))\n",
    "        x = self.pool(F.relu(self.conv2(x)))\n",
    "        x = x.view(-1, 16 * 4 * 4)\n",
    "        x = F.relu(self.fc1(x))\n",
    "        x = F.relu(self.fc2(x))\n",
    "        x = self.fc3(x)\n",
    "        return x\n",
    "    \n",
    "\n",
    "model = GarmentClassifier()"
   ]
  },
  {
   "cell_type": "markdown",
   "id": "09c94ad0",
   "metadata": {
    "papermill": {
     "duration": 0.006674,
     "end_time": "2024-07-26T23:25:55.947799",
     "exception": false,
     "start_time": "2024-07-26T23:25:55.941125",
     "status": "completed"
    },
    "tags": []
   },
   "source": [
    "Loss Function\n",
    "=============\n",
    "\n",
    "For this example, we'll be using a cross-entropy loss. For demonstration\n",
    "purposes, we'll create batches of dummy output and label values, run\n",
    "them through the loss function, and examine the result.\n"
   ]
  },
  {
   "cell_type": "code",
   "execution_count": 6,
   "id": "5b584e24",
   "metadata": {
    "collapsed": false,
    "execution": {
     "iopub.execute_input": "2024-07-26T23:25:55.963526Z",
     "iopub.status.busy": "2024-07-26T23:25:55.963102Z",
     "iopub.status.idle": "2024-07-26T23:25:56.003666Z",
     "shell.execute_reply": "2024-07-26T23:25:56.002304Z"
    },
    "jupyter": {
     "outputs_hidden": false
    },
    "papermill": {
     "duration": 0.051538,
     "end_time": "2024-07-26T23:25:56.006274",
     "exception": false,
     "start_time": "2024-07-26T23:25:55.954736",
     "status": "completed"
    },
    "tags": []
   },
   "outputs": [
    {
     "name": "stdout",
     "output_type": "stream",
     "text": [
      "tensor([[0.9661, 0.5455, 0.3048, 0.7344, 0.5526, 0.5086, 0.1488, 0.6910, 0.8793,\n",
      "         0.2462],\n",
      "        [0.8224, 0.6166, 0.7612, 0.1442, 0.8609, 0.9619, 0.1145, 0.2219, 0.1413,\n",
      "         0.9457],\n",
      "        [0.1111, 0.3050, 0.6153, 0.0557, 0.5674, 0.6416, 0.7438, 0.0581, 0.2357,\n",
      "         0.1982],\n",
      "        [0.5039, 0.2814, 0.5076, 0.7434, 0.3386, 0.8038, 0.0593, 0.4566, 0.2683,\n",
      "         0.7945]])\n",
      "tensor([1, 5, 3, 7])\n",
      "Total loss for this batch: 2.32102108001709\n"
     ]
    }
   ],
   "source": [
    "loss_fn = torch.nn.CrossEntropyLoss()\n",
    "\n",
    "# NB: Loss functions expect data in batches, so we're creating batches of 4\n",
    "# Represents the model's confidence in each of the 10 classes for a given input\n",
    "dummy_outputs = torch.rand(4, 10)\n",
    "# Represents the correct class among the 10 being tested\n",
    "dummy_labels = torch.tensor([1, 5, 3, 7])\n",
    "    \n",
    "print(dummy_outputs)\n",
    "print(dummy_labels)\n",
    "\n",
    "loss = loss_fn(dummy_outputs, dummy_labels)\n",
    "print('Total loss for this batch: {}'.format(loss.item()))"
   ]
  },
  {
   "cell_type": "markdown",
   "id": "69d7bca2",
   "metadata": {
    "papermill": {
     "duration": 0.006778,
     "end_time": "2024-07-26T23:25:56.020180",
     "exception": false,
     "start_time": "2024-07-26T23:25:56.013402",
     "status": "completed"
    },
    "tags": []
   },
   "source": [
    "Optimizer\n",
    "=========\n",
    "\n",
    "For this example, we'll be using simple [stochastic gradient\n",
    "descent](https://pytorch.org/docs/stable/optim.html) with momentum.\n",
    "\n",
    "It can be instructive to try some variations on this optimization\n",
    "scheme:\n",
    "\n",
    "-   Learning rate determines the size of the steps the optimizer takes.\n",
    "    What does a different learning rate do to the your training results,\n",
    "    in terms of accuracy and convergence time?\n",
    "-   Momentum nudges the optimizer in the direction of strongest gradient\n",
    "    over multiple steps. What does changing this value do to your\n",
    "    results?\n",
    "-   Try some different optimization algorithms, such as averaged SGD,\n",
    "    Adagrad, or Adam. How do your results differ?\n"
   ]
  },
  {
   "cell_type": "code",
   "execution_count": 7,
   "id": "ff4f8c97",
   "metadata": {
    "collapsed": false,
    "execution": {
     "iopub.execute_input": "2024-07-26T23:25:56.042839Z",
     "iopub.status.busy": "2024-07-26T23:25:56.041915Z",
     "iopub.status.idle": "2024-07-26T23:25:56.049667Z",
     "shell.execute_reply": "2024-07-26T23:25:56.048277Z"
    },
    "jupyter": {
     "outputs_hidden": false
    },
    "papermill": {
     "duration": 0.024267,
     "end_time": "2024-07-26T23:25:56.053445",
     "exception": false,
     "start_time": "2024-07-26T23:25:56.029178",
     "status": "completed"
    },
    "tags": []
   },
   "outputs": [],
   "source": [
    "# Optimizers specified in the torch.optim package\n",
    "optimizer = torch.optim.SGD(model.parameters(), lr=0.001, momentum=0.9)"
   ]
  },
  {
   "cell_type": "markdown",
   "id": "28c5a141",
   "metadata": {
    "papermill": {
     "duration": 0.006802,
     "end_time": "2024-07-26T23:25:56.070006",
     "exception": false,
     "start_time": "2024-07-26T23:25:56.063204",
     "status": "completed"
    },
    "tags": []
   },
   "source": [
    "The Training Loop\n",
    "=================\n",
    "\n",
    "Below, we have a function that performs one training epoch. It\n",
    "enumerates data from the DataLoader, and on each pass of the loop does\n",
    "the following:\n",
    "\n",
    "-   Gets a batch of training data from the DataLoader\n",
    "-   Zeros the optimizer's gradients\n",
    "-   Performs an inference - that is, gets predictions from the model for\n",
    "    an input batch\n",
    "-   Calculates the loss for that set of predictions vs. the labels on\n",
    "    the dataset\n",
    "-   Calculates the backward gradients over the learning weights\n",
    "-   Tells the optimizer to perform one learning step - that is, adjust\n",
    "    the model's learning weights based on the observed gradients for\n",
    "    this batch, according to the optimization algorithm we chose\n",
    "-   It reports on the loss for every 1000 batches.\n",
    "-   Finally, it reports the average per-batch loss for the last 1000\n",
    "    batches, for comparison with a validation run\n"
   ]
  },
  {
   "cell_type": "code",
   "execution_count": 8,
   "id": "0c15b9c1",
   "metadata": {
    "collapsed": false,
    "execution": {
     "iopub.execute_input": "2024-07-26T23:25:56.086171Z",
     "iopub.status.busy": "2024-07-26T23:25:56.085743Z",
     "iopub.status.idle": "2024-07-26T23:25:56.094410Z",
     "shell.execute_reply": "2024-07-26T23:25:56.093007Z"
    },
    "jupyter": {
     "outputs_hidden": false
    },
    "papermill": {
     "duration": 0.019882,
     "end_time": "2024-07-26T23:25:56.097087",
     "exception": false,
     "start_time": "2024-07-26T23:25:56.077205",
     "status": "completed"
    },
    "tags": []
   },
   "outputs": [],
   "source": [
    "def train_one_epoch(epoch_index, tb_writer):\n",
    "    running_loss = 0.\n",
    "    last_loss = 0.\n",
    "    \n",
    "    # Here, we use enumerate(training_loader) instead of\n",
    "    # iter(training_loader) so that we can track the batch\n",
    "    # index and do some intra-epoch reporting\n",
    "    for i, data in enumerate(training_loader):\n",
    "        # Every data instance is an input + label pair\n",
    "        inputs, labels = data\n",
    "        \n",
    "        # Zero your gradients for every batch!\n",
    "        optimizer.zero_grad()\n",
    "        \n",
    "        # Make predictions for this batch\n",
    "        outputs = model(inputs)\n",
    "        \n",
    "        # Compute the loss and its gradients\n",
    "        loss = loss_fn(outputs, labels)\n",
    "        loss.backward()\n",
    "        \n",
    "        # Adjust learning weights\n",
    "        optimizer.step()\n",
    "        \n",
    "        # Gather data and report\n",
    "        running_loss += loss.item()\n",
    "        if i % 1000 == 999:\n",
    "            last_loss = running_loss / 1000 # loss per batch\n",
    "            print('  batch {} loss: {}'.format(i + 1, last_loss))\n",
    "            tb_x = epoch_index * len(training_loader) + i + 1\n",
    "            tb_writer.add_scalar('Loss/train', last_loss, tb_x)\n",
    "            running_loss = 0.\n",
    "            \n",
    "    return last_loss"
   ]
  },
  {
   "cell_type": "markdown",
   "id": "8e42a0ae",
   "metadata": {
    "papermill": {
     "duration": 0.00742,
     "end_time": "2024-07-26T23:25:56.112193",
     "exception": false,
     "start_time": "2024-07-26T23:25:56.104773",
     "status": "completed"
    },
    "tags": []
   },
   "source": [
    "Per-Epoch Activity\n",
    "==================\n",
    "\n",
    "There are a couple of things we'll want to do once per epoch:\n",
    "\n",
    "-   Perform validation by checking our relative loss on a set of data\n",
    "    that was not used for training, and report this\n",
    "-   Save a copy of the model\n",
    "\n",
    "Here, we'll do our reporting in TensorBoard. This will require going to\n",
    "the command line to start TensorBoard, and opening it in another browser\n",
    "tab.\n"
   ]
  },
  {
   "cell_type": "code",
   "execution_count": 9,
   "id": "a088ccfd",
   "metadata": {
    "collapsed": false,
    "execution": {
     "iopub.execute_input": "2024-07-26T23:25:56.129209Z",
     "iopub.status.busy": "2024-07-26T23:25:56.128806Z",
     "iopub.status.idle": "2024-07-26T23:31:11.158917Z",
     "shell.execute_reply": "2024-07-26T23:31:11.157475Z"
    },
    "jupyter": {
     "outputs_hidden": false
    },
    "papermill": {
     "duration": 315.055104,
     "end_time": "2024-07-26T23:31:11.175400",
     "exception": false,
     "start_time": "2024-07-26T23:25:56.120296",
     "status": "completed"
    },
    "tags": []
   },
   "outputs": [
    {
     "name": "stdout",
     "output_type": "stream",
     "text": [
      "EPOCH 1:\n",
      "  batch 1000 loss: 1.832970290079713\n",
      "  batch 2000 loss: 0.8936003026552498\n",
      "  batch 3000 loss: 0.6946758412886411\n",
      "  batch 4000 loss: 0.6508353345766663\n",
      "  batch 5000 loss: 0.6257443009475246\n",
      "  batch 6000 loss: 0.5536828644452616\n",
      "  batch 7000 loss: 0.5367712732364889\n",
      "  batch 8000 loss: 0.5229717268191744\n",
      "  batch 9000 loss: 0.5091896361903054\n",
      "  batch 10000 loss: 0.4875533453518292\n",
      "  batch 11000 loss: 0.4600027410389157\n",
      "  batch 12000 loss: 0.4520031564755482\n",
      "  batch 13000 loss: 0.4351388576580211\n",
      "  batch 14000 loss: 0.4345333330028516\n",
      "  batch 15000 loss: 0.42759960518265144\n",
      "LOSS train 0.42759960518265144 valid 0.4341856837272644\n",
      "EPOCH 2:\n",
      "  batch 1000 loss: 0.4245619654011098\n",
      "  batch 2000 loss: 0.3962336029947619\n",
      "  batch 3000 loss: 0.3920847722267499\n",
      "  batch 4000 loss: 0.38340376497636314\n",
      "  batch 5000 loss: 0.39197313699155345\n",
      "  batch 6000 loss: 0.35336554455541774\n",
      "  batch 7000 loss: 0.3790500440529431\n",
      "  batch 8000 loss: 0.3707509277168283\n",
      "  batch 9000 loss: 0.3626263211487676\n",
      "  batch 10000 loss: 0.36849522728982265\n",
      "  batch 11000 loss: 0.3568883306306088\n",
      "  batch 12000 loss: 0.3555672926364932\n",
      "  batch 13000 loss: 0.3683520095139975\n",
      "  batch 14000 loss: 0.3579223962443066\n",
      "  batch 15000 loss: 0.3534230796327174\n",
      "LOSS train 0.3534230796327174 valid 0.3840968608856201\n",
      "EPOCH 3:\n",
      "  batch 1000 loss: 0.35643556913835345\n",
      "  batch 2000 loss: 0.34283413286096764\n",
      "  batch 3000 loss: 0.32007548288223914\n",
      "  batch 4000 loss: 0.334494031029215\n",
      "  batch 5000 loss: 0.32631355186065775\n",
      "  batch 6000 loss: 0.3193481675542571\n",
      "  batch 7000 loss: 0.32490339517960093\n",
      "  batch 8000 loss: 0.31984800691806503\n",
      "  batch 9000 loss: 0.3038091977387303\n",
      "  batch 10000 loss: 0.3298173087238538\n",
      "  batch 11000 loss: 0.3341341093775409\n",
      "  batch 12000 loss: 0.3098876109866978\n",
      "  batch 13000 loss: 0.30679194024665046\n",
      "  batch 14000 loss: 0.32157767396760756\n",
      "  batch 15000 loss: 0.3157516344301839\n",
      "LOSS train 0.3157516344301839 valid 0.34790223836898804\n",
      "EPOCH 4:\n",
      "  batch 1000 loss: 0.2973616973761964\n",
      "  batch 2000 loss: 0.32894679710880154\n",
      "  batch 3000 loss: 0.2860472586351534\n",
      "  batch 4000 loss: 0.31580612963277965\n",
      "  batch 5000 loss: 0.3023235625374509\n",
      "  batch 6000 loss: 0.2895238924580608\n",
      "  batch 7000 loss: 0.28699050252595043\n",
      "  batch 8000 loss: 0.3030055625734385\n",
      "  batch 9000 loss: 0.3004914439273416\n",
      "  batch 10000 loss: 0.2974082680098218\n",
      "  batch 11000 loss: 0.29139059034968523\n",
      "  batch 12000 loss: 0.32003861463908106\n",
      "  batch 13000 loss: 0.2752831543129432\n",
      "  batch 14000 loss: 0.28655240783189945\n",
      "  batch 15000 loss: 0.2799528827403701\n",
      "LOSS train 0.2799528827403701 valid 0.32477623224258423\n",
      "EPOCH 5:\n",
      "  batch 1000 loss: 0.2757909023203756\n",
      "  batch 2000 loss: 0.28109738474083135\n",
      "  batch 3000 loss: 0.28418704532261474\n",
      "  batch 4000 loss: 0.2675765532713194\n",
      "  batch 5000 loss: 0.26074913163138264\n",
      "  batch 6000 loss: 0.29340893292680265\n",
      "  batch 7000 loss: 0.2771430475597499\n",
      "  batch 8000 loss: 0.2998253600071912\n",
      "  batch 9000 loss: 0.27438674093912413\n",
      "  batch 10000 loss: 0.2661353682780537\n",
      "  batch 11000 loss: 0.26846761186909496\n",
      "  batch 12000 loss: 0.2925263915275718\n",
      "  batch 13000 loss: 0.2804372869962917\n",
      "  batch 14000 loss: 0.28471692709431046\n",
      "  batch 15000 loss: 0.26252663399715676\n",
      "LOSS train 0.26252663399715676 valid 0.30489614605903625\n"
     ]
    }
   ],
   "source": [
    "# Initializing in a separate cell so we can easily add more epochs to the same run\n",
    "timestamp = datetime.now().strftime('%Y%m%d_%H%M%S')\n",
    "writer = SummaryWriter('runs/fashion_trainer_{}'.format(timestamp))\n",
    "epoch_number = 0\n",
    "\n",
    "EPOCHS = 5\n",
    "\n",
    "best_vloss = 1_000_000.\n",
    "\n",
    "for epoch in range(EPOCHS):\n",
    "    print('EPOCH {}:'.format(epoch_number + 1))\n",
    "    \n",
    "    # Make sure gradient tracking is on, and do a pass over the data\n",
    "    model.train(True)\n",
    "    avg_loss = train_one_epoch(epoch_number, writer)\n",
    "    \n",
    "\n",
    "    running_vloss = 0.0\n",
    "    # Set the model to evaluation mode, disabling dropout and using population \n",
    "    # statistics for batch normalization.\n",
    "    model.eval()\n",
    "\n",
    "    # Disable gradient computation and reduce memory consumption.\n",
    "    with torch.no_grad():\n",
    "        for i, vdata in enumerate(validation_loader):\n",
    "            vinputs, vlabels = vdata\n",
    "            voutputs = model(vinputs)\n",
    "            vloss = loss_fn(voutputs, vlabels)\n",
    "            running_vloss += vloss\n",
    "    \n",
    "    avg_vloss = running_vloss / (i + 1)\n",
    "    print('LOSS train {} valid {}'.format(avg_loss, avg_vloss))\n",
    "    \n",
    "    # Log the running loss averaged per batch\n",
    "    # for both training and validation\n",
    "    writer.add_scalars('Training vs. Validation Loss',\n",
    "                    { 'Training' : avg_loss, 'Validation' : avg_vloss },\n",
    "                    epoch_number + 1)\n",
    "    writer.flush()\n",
    "    \n",
    "    # Track best performance, and save the model's state\n",
    "    if avg_vloss < best_vloss:\n",
    "        best_vloss = avg_vloss\n",
    "        model_path = 'model_{}_{}'.format(timestamp, epoch_number)\n",
    "        torch.save(model.state_dict(), model_path)\n",
    "    \n",
    "    epoch_number += 1"
   ]
  },
  {
   "cell_type": "markdown",
   "id": "49edfba9",
   "metadata": {
    "papermill": {
     "duration": 0.012732,
     "end_time": "2024-07-26T23:31:11.201365",
     "exception": false,
     "start_time": "2024-07-26T23:31:11.188633",
     "status": "completed"
    },
    "tags": []
   },
   "source": [
    "To load a saved version of the model:\n",
    "\n",
    "``` {.sourceCode .python}\n",
    "saved_model = GarmentClassifier()\n",
    "saved_model.load_state_dict(torch.load(PATH))\n",
    "```\n",
    "\n",
    "Once you've loaded the model, it's ready for whatever you need it for\n",
    "-more training, inference, or analysis.\n",
    "\n",
    "Note that if your model has constructor parameters that affect model\n",
    "structure, you'll need to provide them and configure the model\n",
    "identically to the state in which it was saved.\n",
    "\n",
    "Other Resources\n",
    "===============\n",
    "\n",
    "-   Docs on the [data\n",
    "    utilities](https://pytorch.org/docs/stable/data.html), including\n",
    "    Dataset and DataLoader, at pytorch.org\n",
    "-   A [note on the use of pinned\n",
    "    memory](https://pytorch.org/docs/stable/notes/cuda.html#cuda-memory-pinning)\n",
    "    for GPU training\n",
    "-   Documentation on the datasets available in\n",
    "    [TorchVision](https://pytorch.org/vision/stable/datasets.html),\n",
    "    [TorchText](https://pytorch.org/text/stable/datasets.html), and\n",
    "    [TorchAudio](https://pytorch.org/audio/stable/datasets.html)\n",
    "-   Documentation on the [loss\n",
    "    functions](https://pytorch.org/docs/stable/nn.html#loss-functions)\n",
    "    available in PyTorch\n",
    "-   Documentation on the [torch.optim\n",
    "    package](https://pytorch.org/docs/stable/optim.html), which includes\n",
    "    optimizers and related tools, such as learning rate scheduling\n",
    "-   A detailed [tutorial on saving and loading\n",
    "    models](https://pytorch.org/tutorials/beginner/saving_loading_models.html)\n",
    "-   The [Tutorials section of\n",
    "    pytorch.org](https://pytorch.org/tutorials/) contains tutorials on a\n",
    "    broad variety of training tasks, including classification in\n",
    "    different domains, generative adversarial networks, reinforcement\n",
    "    learning, and more\n"
   ]
  }
 ],
 "metadata": {
  "kaggle": {
   "accelerator": "none",
   "dataSources": [],
   "isGpuEnabled": false,
   "isInternetEnabled": true,
   "language": "python",
   "sourceType": "notebook"
  },
  "kernelspec": {
   "display_name": "Python 3",
   "language": "python",
   "name": "python3"
  },
  "language_info": {
   "codemirror_mode": {
    "name": "ipython",
    "version": 3
   },
   "file_extension": ".py",
   "mimetype": "text/x-python",
   "name": "python",
   "nbconvert_exporter": "python",
   "pygments_lexer": "ipython3",
   "version": "3.10.13"
  },
  "papermill": {
   "default_parameters": {},
   "duration": 344.719833,
   "end_time": "2024-07-26T23:31:13.842947",
   "environment_variables": {},
   "exception": null,
   "input_path": "__notebook__.ipynb",
   "output_path": "__notebook__.ipynb",
   "parameters": {},
   "start_time": "2024-07-26T23:25:29.123114",
   "version": "2.5.0"
  }
 },
 "nbformat": 4,
 "nbformat_minor": 5
}
