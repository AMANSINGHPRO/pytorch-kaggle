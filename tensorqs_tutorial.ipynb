{
 "cells": [
  {
   "cell_type": "code",
   "execution_count": 1,
   "id": "1a4014ed",
   "metadata": {
    "collapsed": false,
    "execution": {
     "iopub.execute_input": "2024-07-26T21:50:05.300860Z",
     "iopub.status.busy": "2024-07-26T21:50:05.300205Z",
     "iopub.status.idle": "2024-07-26T21:50:05.313451Z",
     "shell.execute_reply": "2024-07-26T21:50:05.312101Z"
    },
    "jupyter": {
     "outputs_hidden": false
    },
    "papermill": {
     "duration": 0.026817,
     "end_time": "2024-07-26T21:50:05.316480",
     "exception": false,
     "start_time": "2024-07-26T21:50:05.289663",
     "status": "completed"
    },
    "tags": []
   },
   "outputs": [],
   "source": [
    "# For tips on running notebooks in Google Colab, see\n",
    "# https://pytorch.org/tutorials/beginner/colab\n",
    "%matplotlib inline"
   ]
  },
  {
   "cell_type": "markdown",
   "id": "7ae2f3c5",
   "metadata": {
    "papermill": {
     "duration": 0.008189,
     "end_time": "2024-07-26T21:50:05.332800",
     "exception": false,
     "start_time": "2024-07-26T21:50:05.324611",
     "status": "completed"
    },
    "tags": []
   },
   "source": [
    "[Learn the Basics](intro.html) \\|\\|\n",
    "[Quickstart](quickstart_tutorial.html) \\|\\| **Tensors** \\|\\| [Datasets &\n",
    "DataLoaders](data_tutorial.html) \\|\\|\n",
    "[Transforms](transforms_tutorial.html) \\|\\| [Build\n",
    "Model](buildmodel_tutorial.html) \\|\\|\n",
    "[Autograd](autogradqs_tutorial.html) \\|\\|\n",
    "[Optimization](optimization_tutorial.html) \\|\\| [Save & Load\n",
    "Model](saveloadrun_tutorial.html)\n",
    "\n",
    "Tensors\n",
    "=======\n",
    "\n",
    "Tensors are a specialized data structure that are very similar to arrays\n",
    "and matrices. In PyTorch, we use tensors to encode the inputs and\n",
    "outputs of a model, as well as the model's parameters.\n",
    "\n",
    "Tensors are similar to [NumPy's](https://numpy.org/) ndarrays, except\n",
    "that tensors can run on GPUs or other hardware accelerators. In fact,\n",
    "tensors and NumPy arrays can often share the same underlying memory,\n",
    "eliminating the need to copy data (see\n",
    "`bridge-to-np-label`{.interpreted-text role=\"ref\"}). Tensors are also\n",
    "optimized for automatic differentiation (we\\'ll see more about that\n",
    "later in the [Autograd](autogradqs_tutorial.html) section). If you're\n",
    "familiar with ndarrays, you'll be right at home with the Tensor API. If\n",
    "not, follow along!\n"
   ]
  },
  {
   "cell_type": "code",
   "execution_count": 2,
   "id": "a512ff2f",
   "metadata": {
    "collapsed": false,
    "execution": {
     "iopub.execute_input": "2024-07-26T21:50:05.351861Z",
     "iopub.status.busy": "2024-07-26T21:50:05.351422Z",
     "iopub.status.idle": "2024-07-26T21:50:08.988855Z",
     "shell.execute_reply": "2024-07-26T21:50:08.987777Z"
    },
    "jupyter": {
     "outputs_hidden": false
    },
    "papermill": {
     "duration": 3.650997,
     "end_time": "2024-07-26T21:50:08.991786",
     "exception": false,
     "start_time": "2024-07-26T21:50:05.340789",
     "status": "completed"
    },
    "tags": []
   },
   "outputs": [],
   "source": [
    "import torch\n",
    "import numpy as np"
   ]
  },
  {
   "cell_type": "markdown",
   "id": "5c446cb2",
   "metadata": {
    "papermill": {
     "duration": 0.007206,
     "end_time": "2024-07-26T21:50:09.007116",
     "exception": false,
     "start_time": "2024-07-26T21:50:08.999910",
     "status": "completed"
    },
    "tags": []
   },
   "source": [
    "Initializing a Tensor\n",
    "=====================\n",
    "\n",
    "Tensors can be initialized in various ways. Take a look at the following\n",
    "examples:\n",
    "\n",
    "**Directly from data**\n",
    "\n",
    "Tensors can be created directly from data. The data type is\n",
    "automatically inferred.\n"
   ]
  },
  {
   "cell_type": "code",
   "execution_count": 3,
   "id": "32ac2b60",
   "metadata": {
    "collapsed": false,
    "execution": {
     "iopub.execute_input": "2024-07-26T21:50:09.023776Z",
     "iopub.status.busy": "2024-07-26T21:50:09.023269Z",
     "iopub.status.idle": "2024-07-26T21:50:09.043649Z",
     "shell.execute_reply": "2024-07-26T21:50:09.042442Z"
    },
    "jupyter": {
     "outputs_hidden": false
    },
    "papermill": {
     "duration": 0.03172,
     "end_time": "2024-07-26T21:50:09.046271",
     "exception": false,
     "start_time": "2024-07-26T21:50:09.014551",
     "status": "completed"
    },
    "tags": []
   },
   "outputs": [],
   "source": [
    "data = [[1, 2],[3, 4]]\n",
    "x_data = torch.tensor(data)"
   ]
  },
  {
   "cell_type": "markdown",
   "id": "1b8b91e6",
   "metadata": {
    "papermill": {
     "duration": 0.007113,
     "end_time": "2024-07-26T21:50:09.061380",
     "exception": false,
     "start_time": "2024-07-26T21:50:09.054267",
     "status": "completed"
    },
    "tags": []
   },
   "source": [
    "**From a NumPy array**\n",
    "\n",
    "Tensors can be created from NumPy arrays (and vice versa - see\n",
    "`bridge-to-np-label`{.interpreted-text role=\"ref\"}).\n"
   ]
  },
  {
   "cell_type": "code",
   "execution_count": 4,
   "id": "4808a820",
   "metadata": {
    "collapsed": false,
    "execution": {
     "iopub.execute_input": "2024-07-26T21:50:09.078939Z",
     "iopub.status.busy": "2024-07-26T21:50:09.078471Z",
     "iopub.status.idle": "2024-07-26T21:50:09.085434Z",
     "shell.execute_reply": "2024-07-26T21:50:09.084096Z"
    },
    "jupyter": {
     "outputs_hidden": false
    },
    "papermill": {
     "duration": 0.01852,
     "end_time": "2024-07-26T21:50:09.087787",
     "exception": false,
     "start_time": "2024-07-26T21:50:09.069267",
     "status": "completed"
    },
    "tags": []
   },
   "outputs": [],
   "source": [
    "np_array = np.array(data)\n",
    "x_np = torch.from_numpy(np_array)"
   ]
  },
  {
   "cell_type": "markdown",
   "id": "c2b60ad1",
   "metadata": {
    "papermill": {
     "duration": 0.007768,
     "end_time": "2024-07-26T21:50:09.103901",
     "exception": false,
     "start_time": "2024-07-26T21:50:09.096133",
     "status": "completed"
    },
    "tags": []
   },
   "source": [
    "**From another tensor:**\n",
    "\n",
    "The new tensor retains the properties (shape, datatype) of the argument\n",
    "tensor, unless explicitly overridden.\n"
   ]
  },
  {
   "cell_type": "code",
   "execution_count": 5,
   "id": "3207046c",
   "metadata": {
    "collapsed": false,
    "execution": {
     "iopub.execute_input": "2024-07-26T21:50:09.120581Z",
     "iopub.status.busy": "2024-07-26T21:50:09.120171Z",
     "iopub.status.idle": "2024-07-26T21:50:09.222147Z",
     "shell.execute_reply": "2024-07-26T21:50:09.220703Z"
    },
    "jupyter": {
     "outputs_hidden": false
    },
    "papermill": {
     "duration": 0.113281,
     "end_time": "2024-07-26T21:50:09.224675",
     "exception": false,
     "start_time": "2024-07-26T21:50:09.111394",
     "status": "completed"
    },
    "tags": []
   },
   "outputs": [
    {
     "name": "stdout",
     "output_type": "stream",
     "text": [
      "Ones Tensor: \n",
      " tensor([[1, 1],\n",
      "        [1, 1]]) \n",
      "\n",
      "Random Tensor: \n",
      " tensor([[0.0097, 0.5000],\n",
      "        [0.0291, 0.0810]]) \n",
      "\n"
     ]
    }
   ],
   "source": [
    "x_ones = torch.ones_like(x_data) # retains the properties of x_data\n",
    "print(f\"Ones Tensor: \\n {x_ones} \\n\")\n",
    "\n",
    "x_rand = torch.rand_like(x_data, dtype=torch.float) # overrides the datatype of x_data\n",
    "print(f\"Random Tensor: \\n {x_rand} \\n\")"
   ]
  },
  {
   "cell_type": "markdown",
   "id": "7daa0fe9",
   "metadata": {
    "papermill": {
     "duration": 0.007897,
     "end_time": "2024-07-26T21:50:09.240141",
     "exception": false,
     "start_time": "2024-07-26T21:50:09.232244",
     "status": "completed"
    },
    "tags": []
   },
   "source": [
    "**With random or constant values:**\n",
    "\n",
    "`shape` is a tuple of tensor dimensions. In the functions below, it\n",
    "determines the dimensionality of the output tensor.\n"
   ]
  },
  {
   "cell_type": "code",
   "execution_count": 6,
   "id": "97bdf8dc",
   "metadata": {
    "collapsed": false,
    "execution": {
     "iopub.execute_input": "2024-07-26T21:50:09.257588Z",
     "iopub.status.busy": "2024-07-26T21:50:09.257184Z",
     "iopub.status.idle": "2024-07-26T21:50:09.269695Z",
     "shell.execute_reply": "2024-07-26T21:50:09.268282Z"
    },
    "jupyter": {
     "outputs_hidden": false
    },
    "papermill": {
     "duration": 0.024274,
     "end_time": "2024-07-26T21:50:09.272153",
     "exception": false,
     "start_time": "2024-07-26T21:50:09.247879",
     "status": "completed"
    },
    "tags": []
   },
   "outputs": [
    {
     "name": "stdout",
     "output_type": "stream",
     "text": [
      "Random Tensor: \n",
      " tensor([[0.8324, 0.4922, 0.4249],\n",
      "        [0.4099, 0.7874, 0.1538]]) \n",
      "\n",
      "Ones Tensor: \n",
      " tensor([[1., 1., 1.],\n",
      "        [1., 1., 1.]]) \n",
      "\n",
      "Zeros Tensor: \n",
      " tensor([[0., 0., 0.],\n",
      "        [0., 0., 0.]])\n"
     ]
    }
   ],
   "source": [
    "shape = (2,3,)\n",
    "rand_tensor = torch.rand(shape)\n",
    "ones_tensor = torch.ones(shape)\n",
    "zeros_tensor = torch.zeros(shape)\n",
    "\n",
    "print(f\"Random Tensor: \\n {rand_tensor} \\n\")\n",
    "print(f\"Ones Tensor: \\n {ones_tensor} \\n\")\n",
    "print(f\"Zeros Tensor: \\n {zeros_tensor}\")"
   ]
  },
  {
   "cell_type": "markdown",
   "id": "0b1191c2",
   "metadata": {
    "papermill": {
     "duration": 0.007911,
     "end_time": "2024-07-26T21:50:09.288297",
     "exception": false,
     "start_time": "2024-07-26T21:50:09.280386",
     "status": "completed"
    },
    "tags": []
   },
   "source": [
    "------------------------------------------------------------------------\n"
   ]
  },
  {
   "cell_type": "markdown",
   "id": "be7c5f97",
   "metadata": {
    "papermill": {
     "duration": 0.008049,
     "end_time": "2024-07-26T21:50:09.304445",
     "exception": false,
     "start_time": "2024-07-26T21:50:09.296396",
     "status": "completed"
    },
    "tags": []
   },
   "source": [
    "Attributes of a Tensor\n",
    "======================\n",
    "\n",
    "Tensor attributes describe their shape, datatype, and the device on\n",
    "which they are stored.\n"
   ]
  },
  {
   "cell_type": "code",
   "execution_count": 7,
   "id": "d9a1f04c",
   "metadata": {
    "collapsed": false,
    "execution": {
     "iopub.execute_input": "2024-07-26T21:50:09.322930Z",
     "iopub.status.busy": "2024-07-26T21:50:09.322506Z",
     "iopub.status.idle": "2024-07-26T21:50:09.329667Z",
     "shell.execute_reply": "2024-07-26T21:50:09.328443Z"
    },
    "jupyter": {
     "outputs_hidden": false
    },
    "papermill": {
     "duration": 0.018987,
     "end_time": "2024-07-26T21:50:09.332210",
     "exception": false,
     "start_time": "2024-07-26T21:50:09.313223",
     "status": "completed"
    },
    "tags": []
   },
   "outputs": [
    {
     "name": "stdout",
     "output_type": "stream",
     "text": [
      "Shape of tensor: torch.Size([3, 4])\n",
      "Datatype of tensor: torch.float32\n",
      "Device tensor is stored on: cpu\n"
     ]
    }
   ],
   "source": [
    "tensor = torch.rand(3,4)\n",
    "\n",
    "print(f\"Shape of tensor: {tensor.shape}\")\n",
    "print(f\"Datatype of tensor: {tensor.dtype}\")\n",
    "print(f\"Device tensor is stored on: {tensor.device}\")"
   ]
  },
  {
   "cell_type": "markdown",
   "id": "500af6de",
   "metadata": {
    "papermill": {
     "duration": 0.008393,
     "end_time": "2024-07-26T21:50:09.349181",
     "exception": false,
     "start_time": "2024-07-26T21:50:09.340788",
     "status": "completed"
    },
    "tags": []
   },
   "source": [
    "------------------------------------------------------------------------\n"
   ]
  },
  {
   "cell_type": "markdown",
   "id": "1790e8b7",
   "metadata": {
    "papermill": {
     "duration": 0.00811,
     "end_time": "2024-07-26T21:50:09.365992",
     "exception": false,
     "start_time": "2024-07-26T21:50:09.357882",
     "status": "completed"
    },
    "tags": []
   },
   "source": [
    "Operations on Tensors\n",
    "=====================\n",
    "\n",
    "Over 100 tensor operations, including arithmetic, linear algebra, matrix\n",
    "manipulation (transposing, indexing, slicing), sampling and more are\n",
    "comprehensively described\n",
    "[here](https://pytorch.org/docs/stable/torch.html).\n",
    "\n",
    "Each of these operations can be run on the GPU (at typically higher\n",
    "speeds than on a CPU). If you're using Colab, allocate a GPU by going to\n",
    "Runtime \\> Change runtime type \\> GPU.\n",
    "\n",
    "By default, tensors are created on the CPU. We need to explicitly move\n",
    "tensors to the GPU using `.to` method (after checking for GPU\n",
    "availability). Keep in mind that copying large tensors across devices\n",
    "can be expensive in terms of time and memory!\n"
   ]
  },
  {
   "cell_type": "code",
   "execution_count": 8,
   "id": "ed9f0f30",
   "metadata": {
    "collapsed": false,
    "execution": {
     "iopub.execute_input": "2024-07-26T21:50:09.384316Z",
     "iopub.status.busy": "2024-07-26T21:50:09.383762Z",
     "iopub.status.idle": "2024-07-26T21:50:09.391375Z",
     "shell.execute_reply": "2024-07-26T21:50:09.389518Z"
    },
    "jupyter": {
     "outputs_hidden": false
    },
    "papermill": {
     "duration": 0.020536,
     "end_time": "2024-07-26T21:50:09.394410",
     "exception": false,
     "start_time": "2024-07-26T21:50:09.373874",
     "status": "completed"
    },
    "tags": []
   },
   "outputs": [],
   "source": [
    "# We move our tensor to the GPU if available\n",
    "if torch.cuda.is_available():\n",
    "    tensor = tensor.to(\"cuda\")"
   ]
  },
  {
   "cell_type": "markdown",
   "id": "1aeb2e5b",
   "metadata": {
    "papermill": {
     "duration": 0.008378,
     "end_time": "2024-07-26T21:50:09.412618",
     "exception": false,
     "start_time": "2024-07-26T21:50:09.404240",
     "status": "completed"
    },
    "tags": []
   },
   "source": [
    "Try out some of the operations from the list. If you\\'re familiar with\n",
    "the NumPy API, you\\'ll find the Tensor API a breeze to use.\n"
   ]
  },
  {
   "cell_type": "markdown",
   "id": "82f17c0d",
   "metadata": {
    "papermill": {
     "duration": 0.008005,
     "end_time": "2024-07-26T21:50:09.429557",
     "exception": false,
     "start_time": "2024-07-26T21:50:09.421552",
     "status": "completed"
    },
    "tags": []
   },
   "source": [
    "**Standard numpy-like indexing and slicing:**\n"
   ]
  },
  {
   "cell_type": "code",
   "execution_count": 9,
   "id": "66ff13c0",
   "metadata": {
    "collapsed": false,
    "execution": {
     "iopub.execute_input": "2024-07-26T21:50:09.448989Z",
     "iopub.status.busy": "2024-07-26T21:50:09.448587Z",
     "iopub.status.idle": "2024-07-26T21:50:09.471792Z",
     "shell.execute_reply": "2024-07-26T21:50:09.470122Z"
    },
    "jupyter": {
     "outputs_hidden": false
    },
    "papermill": {
     "duration": 0.036233,
     "end_time": "2024-07-26T21:50:09.474364",
     "exception": false,
     "start_time": "2024-07-26T21:50:09.438131",
     "status": "completed"
    },
    "tags": []
   },
   "outputs": [
    {
     "name": "stdout",
     "output_type": "stream",
     "text": [
      "First row: tensor([1., 1., 1., 1.])\n",
      "First column: tensor([1., 1., 1., 1.])\n",
      "Last column: tensor([1., 1., 1., 1.])\n",
      "tensor([[1., 0., 1., 1.],\n",
      "        [1., 0., 1., 1.],\n",
      "        [1., 0., 1., 1.],\n",
      "        [1., 0., 1., 1.]])\n"
     ]
    }
   ],
   "source": [
    "tensor = torch.ones(4, 4)\n",
    "print(f\"First row: {tensor[0]}\")\n",
    "print(f\"First column: {tensor[:, 0]}\")\n",
    "print(f\"Last column: {tensor[..., -1]}\")\n",
    "tensor[:,1] = 0\n",
    "print(tensor)"
   ]
  },
  {
   "cell_type": "markdown",
   "id": "e236e4b2",
   "metadata": {
    "papermill": {
     "duration": 0.008265,
     "end_time": "2024-07-26T21:50:09.490966",
     "exception": false,
     "start_time": "2024-07-26T21:50:09.482701",
     "status": "completed"
    },
    "tags": []
   },
   "source": [
    "**Joining tensors** You can use `torch.cat` to concatenate a sequence of\n",
    "tensors along a given dimension. See also\n",
    "[torch.stack](https://pytorch.org/docs/stable/generated/torch.stack.html),\n",
    "another tensor joining operator that is subtly different from\n",
    "`torch.cat`.\n"
   ]
  },
  {
   "cell_type": "code",
   "execution_count": 10,
   "id": "aa1e3a8f",
   "metadata": {
    "collapsed": false,
    "execution": {
     "iopub.execute_input": "2024-07-26T21:50:09.510507Z",
     "iopub.status.busy": "2024-07-26T21:50:09.509429Z",
     "iopub.status.idle": "2024-07-26T21:50:09.521844Z",
     "shell.execute_reply": "2024-07-26T21:50:09.519930Z"
    },
    "jupyter": {
     "outputs_hidden": false
    },
    "papermill": {
     "duration": 0.026365,
     "end_time": "2024-07-26T21:50:09.525565",
     "exception": false,
     "start_time": "2024-07-26T21:50:09.499200",
     "status": "completed"
    },
    "tags": []
   },
   "outputs": [
    {
     "name": "stdout",
     "output_type": "stream",
     "text": [
      "tensor([[1., 0., 1., 1., 1., 0., 1., 1., 1., 0., 1., 1.],\n",
      "        [1., 0., 1., 1., 1., 0., 1., 1., 1., 0., 1., 1.],\n",
      "        [1., 0., 1., 1., 1., 0., 1., 1., 1., 0., 1., 1.],\n",
      "        [1., 0., 1., 1., 1., 0., 1., 1., 1., 0., 1., 1.]])\n"
     ]
    }
   ],
   "source": [
    "t1 = torch.cat([tensor, tensor, tensor], dim=1)\n",
    "print(t1)"
   ]
  },
  {
   "cell_type": "markdown",
   "id": "da584cfa",
   "metadata": {
    "papermill": {
     "duration": 0.008022,
     "end_time": "2024-07-26T21:50:09.542141",
     "exception": false,
     "start_time": "2024-07-26T21:50:09.534119",
     "status": "completed"
    },
    "tags": []
   },
   "source": [
    "**Arithmetic operations**\n"
   ]
  },
  {
   "cell_type": "code",
   "execution_count": 11,
   "id": "a2ac8d0b",
   "metadata": {
    "collapsed": false,
    "execution": {
     "iopub.execute_input": "2024-07-26T21:50:09.560924Z",
     "iopub.status.busy": "2024-07-26T21:50:09.560464Z",
     "iopub.status.idle": "2024-07-26T21:50:09.583106Z",
     "shell.execute_reply": "2024-07-26T21:50:09.581612Z"
    },
    "jupyter": {
     "outputs_hidden": false
    },
    "papermill": {
     "duration": 0.034872,
     "end_time": "2024-07-26T21:50:09.585782",
     "exception": false,
     "start_time": "2024-07-26T21:50:09.550910",
     "status": "completed"
    },
    "tags": []
   },
   "outputs": [
    {
     "data": {
      "text/plain": [
       "tensor([[1., 0., 1., 1.],\n",
       "        [1., 0., 1., 1.],\n",
       "        [1., 0., 1., 1.],\n",
       "        [1., 0., 1., 1.]])"
      ]
     },
     "execution_count": 11,
     "metadata": {},
     "output_type": "execute_result"
    }
   ],
   "source": [
    "# This computes the matrix multiplication between two tensors. y1, y2, y3 will have the same value\n",
    "# ``tensor.T`` returns the transpose of a tensor\n",
    "y1 = tensor @ tensor.T\n",
    "y2 = tensor.matmul(tensor.T)\n",
    "\n",
    "y3 = torch.rand_like(y1)\n",
    "torch.matmul(tensor, tensor.T, out=y3)\n",
    "\n",
    "\n",
    "# This computes the element-wise product. z1, z2, z3 will have the same value\n",
    "z1 = tensor * tensor\n",
    "z2 = tensor.mul(tensor)\n",
    "\n",
    "z3 = torch.rand_like(tensor)\n",
    "torch.mul(tensor, tensor, out=z3)"
   ]
  },
  {
   "cell_type": "markdown",
   "id": "8dc7a22d",
   "metadata": {
    "papermill": {
     "duration": 0.008061,
     "end_time": "2024-07-26T21:50:09.602408",
     "exception": false,
     "start_time": "2024-07-26T21:50:09.594347",
     "status": "completed"
    },
    "tags": []
   },
   "source": [
    "**Single-element tensors** If you have a one-element tensor, for example\n",
    "by aggregating all values of a tensor into one value, you can convert it\n",
    "to a Python numerical value using `item()`:\n"
   ]
  },
  {
   "cell_type": "code",
   "execution_count": 12,
   "id": "e7d9399e",
   "metadata": {
    "collapsed": false,
    "execution": {
     "iopub.execute_input": "2024-07-26T21:50:09.621057Z",
     "iopub.status.busy": "2024-07-26T21:50:09.620629Z",
     "iopub.status.idle": "2024-07-26T21:50:09.630410Z",
     "shell.execute_reply": "2024-07-26T21:50:09.628342Z"
    },
    "jupyter": {
     "outputs_hidden": false
    },
    "papermill": {
     "duration": 0.022768,
     "end_time": "2024-07-26T21:50:09.633624",
     "exception": false,
     "start_time": "2024-07-26T21:50:09.610856",
     "status": "completed"
    },
    "tags": []
   },
   "outputs": [
    {
     "name": "stdout",
     "output_type": "stream",
     "text": [
      "12.0 <class 'float'>\n"
     ]
    }
   ],
   "source": [
    "agg = tensor.sum()\n",
    "agg_item = agg.item()\n",
    "print(agg_item, type(agg_item))"
   ]
  },
  {
   "cell_type": "markdown",
   "id": "970fad81",
   "metadata": {
    "papermill": {
     "duration": 0.008184,
     "end_time": "2024-07-26T21:50:09.651382",
     "exception": false,
     "start_time": "2024-07-26T21:50:09.643198",
     "status": "completed"
    },
    "tags": []
   },
   "source": [
    "**In-place operations** Operations that store the result into the\n",
    "operand are called in-place. They are denoted by a `_` suffix. For\n",
    "example: `x.copy_(y)`, `x.t_()`, will change `x`.\n"
   ]
  },
  {
   "cell_type": "code",
   "execution_count": 13,
   "id": "af78321b",
   "metadata": {
    "collapsed": false,
    "execution": {
     "iopub.execute_input": "2024-07-26T21:50:09.673558Z",
     "iopub.status.busy": "2024-07-26T21:50:09.673123Z",
     "iopub.status.idle": "2024-07-26T21:50:09.687763Z",
     "shell.execute_reply": "2024-07-26T21:50:09.685746Z"
    },
    "jupyter": {
     "outputs_hidden": false
    },
    "papermill": {
     "duration": 0.029146,
     "end_time": "2024-07-26T21:50:09.691312",
     "exception": false,
     "start_time": "2024-07-26T21:50:09.662166",
     "status": "completed"
    },
    "tags": []
   },
   "outputs": [
    {
     "name": "stdout",
     "output_type": "stream",
     "text": [
      "tensor([[1., 0., 1., 1.],\n",
      "        [1., 0., 1., 1.],\n",
      "        [1., 0., 1., 1.],\n",
      "        [1., 0., 1., 1.]]) \n",
      "\n",
      "tensor([[6., 5., 6., 6.],\n",
      "        [6., 5., 6., 6.],\n",
      "        [6., 5., 6., 6.],\n",
      "        [6., 5., 6., 6.]])\n"
     ]
    }
   ],
   "source": [
    "print(f\"{tensor} \\n\")\n",
    "tensor.add_(5)\n",
    "print(tensor)"
   ]
  },
  {
   "cell_type": "markdown",
   "id": "fe183e57",
   "metadata": {
    "papermill": {
     "duration": 0.010245,
     "end_time": "2024-07-26T21:50:09.712095",
     "exception": false,
     "start_time": "2024-07-26T21:50:09.701850",
     "status": "completed"
    },
    "tags": []
   },
   "source": [
    "<div style=\"background-color: #54c7ec; color: #fff; font-weight: 700; padding-left: 10px; padding-top: 5px; padding-bottom: 5px\"><strong>NOTE:</strong></div>\n",
    "<div style=\"background-color: #f3f4f7; padding-left: 10px; padding-top: 10px; padding-bottom: 10px; padding-right: 10px\">\n",
    "<p>In-place operations save some memory, but can be problematic when computing derivatives because of an immediate lossof history. Hence, their use is discouraged.</p>\n",
    "</div>\n"
   ]
  },
  {
   "cell_type": "markdown",
   "id": "1bf5dc20",
   "metadata": {
    "papermill": {
     "duration": 0.008644,
     "end_time": "2024-07-26T21:50:09.730279",
     "exception": false,
     "start_time": "2024-07-26T21:50:09.721635",
     "status": "completed"
    },
    "tags": []
   },
   "source": [
    "------------------------------------------------------------------------\n"
   ]
  },
  {
   "cell_type": "markdown",
   "id": "ce8219d8",
   "metadata": {
    "papermill": {
     "duration": 0.008464,
     "end_time": "2024-07-26T21:50:09.747504",
     "exception": false,
     "start_time": "2024-07-26T21:50:09.739040",
     "status": "completed"
    },
    "tags": []
   },
   "source": [
    "Bridge with NumPy {#bridge-to-np-label}\n",
    "=================\n",
    "\n",
    "Tensors on the CPU and NumPy arrays can share their underlying memory\n",
    "locations, and changing one will change the other.\n"
   ]
  },
  {
   "cell_type": "markdown",
   "id": "8d3a209c",
   "metadata": {
    "papermill": {
     "duration": 0.008411,
     "end_time": "2024-07-26T21:50:09.764699",
     "exception": false,
     "start_time": "2024-07-26T21:50:09.756288",
     "status": "completed"
    },
    "tags": []
   },
   "source": [
    "Tensor to NumPy array\n",
    "=====================\n"
   ]
  },
  {
   "cell_type": "code",
   "execution_count": 14,
   "id": "b27fe427",
   "metadata": {
    "collapsed": false,
    "execution": {
     "iopub.execute_input": "2024-07-26T21:50:09.783472Z",
     "iopub.status.busy": "2024-07-26T21:50:09.783099Z",
     "iopub.status.idle": "2024-07-26T21:50:09.792919Z",
     "shell.execute_reply": "2024-07-26T21:50:09.791738Z"
    },
    "jupyter": {
     "outputs_hidden": false
    },
    "papermill": {
     "duration": 0.022062,
     "end_time": "2024-07-26T21:50:09.795400",
     "exception": false,
     "start_time": "2024-07-26T21:50:09.773338",
     "status": "completed"
    },
    "tags": []
   },
   "outputs": [
    {
     "name": "stdout",
     "output_type": "stream",
     "text": [
      "t: tensor([1., 1., 1., 1., 1.])\n",
      "n: [1. 1. 1. 1. 1.]\n"
     ]
    }
   ],
   "source": [
    "t = torch.ones(5)\n",
    "print(f\"t: {t}\")\n",
    "n = t.numpy()\n",
    "print(f\"n: {n}\")"
   ]
  },
  {
   "cell_type": "markdown",
   "id": "250f428f",
   "metadata": {
    "papermill": {
     "duration": 0.008478,
     "end_time": "2024-07-26T21:50:09.812713",
     "exception": false,
     "start_time": "2024-07-26T21:50:09.804235",
     "status": "completed"
    },
    "tags": []
   },
   "source": [
    "A change in the tensor reflects in the NumPy array.\n"
   ]
  },
  {
   "cell_type": "code",
   "execution_count": 15,
   "id": "4f87f5d6",
   "metadata": {
    "collapsed": false,
    "execution": {
     "iopub.execute_input": "2024-07-26T21:50:09.832696Z",
     "iopub.status.busy": "2024-07-26T21:50:09.832269Z",
     "iopub.status.idle": "2024-07-26T21:50:09.840812Z",
     "shell.execute_reply": "2024-07-26T21:50:09.839176Z"
    },
    "jupyter": {
     "outputs_hidden": false
    },
    "papermill": {
     "duration": 0.022619,
     "end_time": "2024-07-26T21:50:09.844176",
     "exception": false,
     "start_time": "2024-07-26T21:50:09.821557",
     "status": "completed"
    },
    "tags": []
   },
   "outputs": [
    {
     "name": "stdout",
     "output_type": "stream",
     "text": [
      "t: tensor([2., 2., 2., 2., 2.])\n",
      "n: [2. 2. 2. 2. 2.]\n"
     ]
    }
   ],
   "source": [
    "t.add_(1)\n",
    "print(f\"t: {t}\")\n",
    "print(f\"n: {n}\")"
   ]
  },
  {
   "cell_type": "markdown",
   "id": "b1bd5a10",
   "metadata": {
    "papermill": {
     "duration": 0.008501,
     "end_time": "2024-07-26T21:50:09.861900",
     "exception": false,
     "start_time": "2024-07-26T21:50:09.853399",
     "status": "completed"
    },
    "tags": []
   },
   "source": [
    "NumPy array to Tensor\n",
    "=====================\n"
   ]
  },
  {
   "cell_type": "code",
   "execution_count": 16,
   "id": "48d7368e",
   "metadata": {
    "collapsed": false,
    "execution": {
     "iopub.execute_input": "2024-07-26T21:50:09.881308Z",
     "iopub.status.busy": "2024-07-26T21:50:09.880941Z",
     "iopub.status.idle": "2024-07-26T21:50:09.887140Z",
     "shell.execute_reply": "2024-07-26T21:50:09.885831Z"
    },
    "jupyter": {
     "outputs_hidden": false
    },
    "papermill": {
     "duration": 0.018907,
     "end_time": "2024-07-26T21:50:09.889623",
     "exception": false,
     "start_time": "2024-07-26T21:50:09.870716",
     "status": "completed"
    },
    "tags": []
   },
   "outputs": [],
   "source": [
    "n = np.ones(5)\n",
    "t = torch.from_numpy(n)"
   ]
  },
  {
   "cell_type": "markdown",
   "id": "c6100eed",
   "metadata": {
    "papermill": {
     "duration": 0.008598,
     "end_time": "2024-07-26T21:50:09.907106",
     "exception": false,
     "start_time": "2024-07-26T21:50:09.898508",
     "status": "completed"
    },
    "tags": []
   },
   "source": [
    "Changes in the NumPy array reflects in the tensor.\n"
   ]
  },
  {
   "cell_type": "code",
   "execution_count": 17,
   "id": "0d034497",
   "metadata": {
    "collapsed": false,
    "execution": {
     "iopub.execute_input": "2024-07-26T21:50:09.927419Z",
     "iopub.status.busy": "2024-07-26T21:50:09.926580Z",
     "iopub.status.idle": "2024-07-26T21:50:09.934057Z",
     "shell.execute_reply": "2024-07-26T21:50:09.932918Z"
    },
    "jupyter": {
     "outputs_hidden": false
    },
    "papermill": {
     "duration": 0.020667,
     "end_time": "2024-07-26T21:50:09.936701",
     "exception": false,
     "start_time": "2024-07-26T21:50:09.916034",
     "status": "completed"
    },
    "tags": []
   },
   "outputs": [
    {
     "name": "stdout",
     "output_type": "stream",
     "text": [
      "t: tensor([2., 2., 2., 2., 2.], dtype=torch.float64)\n",
      "n: [2. 2. 2. 2. 2.]\n"
     ]
    }
   ],
   "source": [
    "np.add(n, 1, out=n)\n",
    "print(f\"t: {t}\")\n",
    "print(f\"n: {n}\")"
   ]
  }
 ],
 "metadata": {
  "kaggle": {
   "accelerator": "none",
   "dataSources": [],
   "isGpuEnabled": false,
   "isInternetEnabled": true,
   "language": "python",
   "sourceType": "notebook"
  },
  "kernelspec": {
   "display_name": "Python 3",
   "language": "python",
   "name": "python3"
  },
  "language_info": {
   "codemirror_mode": {
    "name": "ipython",
    "version": 3
   },
   "file_extension": ".py",
   "mimetype": "text/x-python",
   "name": "python",
   "nbconvert_exporter": "python",
   "pygments_lexer": "ipython3",
   "version": "3.10.13"
  },
  "papermill": {
   "default_parameters": {},
   "duration": 8.496653,
   "end_time": "2024-07-26T21:50:10.768933",
   "environment_variables": {},
   "exception": null,
   "input_path": "__notebook__.ipynb",
   "output_path": "__notebook__.ipynb",
   "parameters": {},
   "start_time": "2024-07-26T21:50:02.272280",
   "version": "2.5.0"
  }
 },
 "nbformat": 4,
 "nbformat_minor": 5
}
