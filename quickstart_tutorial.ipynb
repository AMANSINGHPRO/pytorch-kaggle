{
 "cells": [
  {
   "cell_type": "code",
   "execution_count": 1,
   "id": "2c360a5b",
   "metadata": {
    "collapsed": false,
    "execution": {
     "iopub.execute_input": "2024-07-26T21:42:40.859568Z",
     "iopub.status.busy": "2024-07-26T21:42:40.858620Z",
     "iopub.status.idle": "2024-07-26T21:42:40.872861Z",
     "shell.execute_reply": "2024-07-26T21:42:40.871945Z"
    },
    "jupyter": {
     "outputs_hidden": false
    },
    "papermill": {
     "duration": 0.027972,
     "end_time": "2024-07-26T21:42:40.875244",
     "exception": false,
     "start_time": "2024-07-26T21:42:40.847272",
     "status": "completed"
    },
    "tags": []
   },
   "outputs": [],
   "source": [
    "# For tips on running notebooks in Google Colab, see\n",
    "# https://pytorch.org/tutorials/beginner/colab\n",
    "%matplotlib inline"
   ]
  },
  {
   "cell_type": "markdown",
   "id": "28f9c4d2",
   "metadata": {
    "papermill": {
     "duration": 0.00881,
     "end_time": "2024-07-26T21:42:40.893229",
     "exception": false,
     "start_time": "2024-07-26T21:42:40.884419",
     "status": "completed"
    },
    "tags": []
   },
   "source": [
    "[Learn the Basics](intro.html) \\|\\| **Quickstart** \\|\\|\n",
    "[Tensors](tensorqs_tutorial.html) \\|\\| [Datasets &\n",
    "DataLoaders](data_tutorial.html) \\|\\|\n",
    "[Transforms](transforms_tutorial.html) \\|\\| [Build\n",
    "Model](buildmodel_tutorial.html) \\|\\|\n",
    "[Autograd](autogradqs_tutorial.html) \\|\\|\n",
    "[Optimization](optimization_tutorial.html) \\|\\| [Save & Load\n",
    "Model](saveloadrun_tutorial.html)\n",
    "\n",
    "Quickstart\n",
    "==========\n",
    "\n",
    "This section runs through the API for common tasks in machine learning.\n",
    "Refer to the links in each section to dive deeper.\n",
    "\n",
    "Working with data\n",
    "-----------------\n",
    "\n",
    "PyTorch has two [primitives to work with\n",
    "data](https://pytorch.org/docs/stable/data.html):\n",
    "`torch.utils.data.DataLoader` and `torch.utils.data.Dataset`. `Dataset`\n",
    "stores the samples and their corresponding labels, and `DataLoader`\n",
    "wraps an iterable around the `Dataset`.\n"
   ]
  },
  {
   "cell_type": "code",
   "execution_count": 2,
   "id": "335d877c",
   "metadata": {
    "collapsed": false,
    "execution": {
     "iopub.execute_input": "2024-07-26T21:42:40.912966Z",
     "iopub.status.busy": "2024-07-26T21:42:40.912602Z",
     "iopub.status.idle": "2024-07-26T21:42:46.332341Z",
     "shell.execute_reply": "2024-07-26T21:42:46.330937Z"
    },
    "jupyter": {
     "outputs_hidden": false
    },
    "papermill": {
     "duration": 5.432852,
     "end_time": "2024-07-26T21:42:46.335142",
     "exception": false,
     "start_time": "2024-07-26T21:42:40.902290",
     "status": "completed"
    },
    "tags": []
   },
   "outputs": [],
   "source": [
    "import torch\n",
    "from torch import nn\n",
    "from torch.utils.data import DataLoader\n",
    "from torchvision import datasets\n",
    "from torchvision.transforms import ToTensor"
   ]
  },
  {
   "cell_type": "markdown",
   "id": "418b4b69",
   "metadata": {
    "papermill": {
     "duration": 0.008877,
     "end_time": "2024-07-26T21:42:46.353114",
     "exception": false,
     "start_time": "2024-07-26T21:42:46.344237",
     "status": "completed"
    },
    "tags": []
   },
   "source": [
    "PyTorch offers domain-specific libraries such as\n",
    "[TorchText](https://pytorch.org/text/stable/index.html),\n",
    "[TorchVision](https://pytorch.org/vision/stable/index.html), and\n",
    "[TorchAudio](https://pytorch.org/audio/stable/index.html), all of which\n",
    "include datasets. For this tutorial, we will be using a TorchVision\n",
    "dataset.\n",
    "\n",
    "The `torchvision.datasets` module contains `Dataset` objects for many\n",
    "real-world vision data like CIFAR, COCO ([full list\n",
    "here](https://pytorch.org/vision/stable/datasets.html)). In this\n",
    "tutorial, we use the FashionMNIST dataset. Every TorchVision `Dataset`\n",
    "includes two arguments: `transform` and `target_transform` to modify the\n",
    "samples and labels respectively.\n"
   ]
  },
  {
   "cell_type": "code",
   "execution_count": 3,
   "id": "00665aa7",
   "metadata": {
    "collapsed": false,
    "execution": {
     "iopub.execute_input": "2024-07-26T21:42:46.373320Z",
     "iopub.status.busy": "2024-07-26T21:42:46.372512Z",
     "iopub.status.idle": "2024-07-26T21:42:48.237229Z",
     "shell.execute_reply": "2024-07-26T21:42:48.236205Z"
    },
    "jupyter": {
     "outputs_hidden": false
    },
    "papermill": {
     "duration": 1.878069,
     "end_time": "2024-07-26T21:42:48.240091",
     "exception": false,
     "start_time": "2024-07-26T21:42:46.362022",
     "status": "completed"
    },
    "tags": []
   },
   "outputs": [
    {
     "name": "stdout",
     "output_type": "stream",
     "text": [
      "Downloading http://fashion-mnist.s3-website.eu-central-1.amazonaws.com/train-images-idx3-ubyte.gz\n",
      "Downloading http://fashion-mnist.s3-website.eu-central-1.amazonaws.com/train-images-idx3-ubyte.gz to data/FashionMNIST/raw/train-images-idx3-ubyte.gz\n"
     ]
    },
    {
     "name": "stderr",
     "output_type": "stream",
     "text": [
      "100%|██████████| 26421880/26421880 [00:00<00:00, 113571298.83it/s]\n"
     ]
    },
    {
     "name": "stdout",
     "output_type": "stream",
     "text": [
      "Extracting data/FashionMNIST/raw/train-images-idx3-ubyte.gz to data/FashionMNIST/raw\n",
      "\n",
      "Downloading http://fashion-mnist.s3-website.eu-central-1.amazonaws.com/train-labels-idx1-ubyte.gz\n",
      "Downloading http://fashion-mnist.s3-website.eu-central-1.amazonaws.com/train-labels-idx1-ubyte.gz to data/FashionMNIST/raw/train-labels-idx1-ubyte.gz\n"
     ]
    },
    {
     "name": "stderr",
     "output_type": "stream",
     "text": [
      "100%|██████████| 29515/29515 [00:00<00:00, 4170143.59it/s]"
     ]
    },
    {
     "name": "stdout",
     "output_type": "stream",
     "text": [
      "Extracting data/FashionMNIST/raw/train-labels-idx1-ubyte.gz to data/FashionMNIST/raw\n",
      "\n",
      "Downloading http://fashion-mnist.s3-website.eu-central-1.amazonaws.com/t10k-images-idx3-ubyte.gz\n",
      "Downloading http://fashion-mnist.s3-website.eu-central-1.amazonaws.com/t10k-images-idx3-ubyte.gz to data/FashionMNIST/raw/t10k-images-idx3-ubyte.gz\n"
     ]
    },
    {
     "name": "stderr",
     "output_type": "stream",
     "text": [
      "\n",
      "100%|██████████| 4422102/4422102 [00:00<00:00, 10581092.92it/s]\n"
     ]
    },
    {
     "name": "stdout",
     "output_type": "stream",
     "text": [
      "Extracting data/FashionMNIST/raw/t10k-images-idx3-ubyte.gz to data/FashionMNIST/raw\n",
      "\n",
      "Downloading http://fashion-mnist.s3-website.eu-central-1.amazonaws.com/t10k-labels-idx1-ubyte.gz\n",
      "Downloading http://fashion-mnist.s3-website.eu-central-1.amazonaws.com/t10k-labels-idx1-ubyte.gz to data/FashionMNIST/raw/t10k-labels-idx1-ubyte.gz\n"
     ]
    },
    {
     "name": "stderr",
     "output_type": "stream",
     "text": [
      "100%|██████████| 5148/5148 [00:00<00:00, 8003067.83it/s]\n"
     ]
    },
    {
     "name": "stdout",
     "output_type": "stream",
     "text": [
      "Extracting data/FashionMNIST/raw/t10k-labels-idx1-ubyte.gz to data/FashionMNIST/raw\n",
      "\n"
     ]
    }
   ],
   "source": [
    "# Download training data from open datasets.\n",
    "training_data = datasets.FashionMNIST(\n",
    "    root=\"data\",\n",
    "    train=True,\n",
    "    download=True,\n",
    "    transform=ToTensor(),\n",
    ")\n",
    "\n",
    "# Download test data from open datasets.\n",
    "test_data = datasets.FashionMNIST(\n",
    "    root=\"data\",\n",
    "    train=False,\n",
    "    download=True,\n",
    "    transform=ToTensor(),\n",
    ")"
   ]
  },
  {
   "cell_type": "markdown",
   "id": "82855460",
   "metadata": {
    "papermill": {
     "duration": 0.011058,
     "end_time": "2024-07-26T21:42:48.262732",
     "exception": false,
     "start_time": "2024-07-26T21:42:48.251674",
     "status": "completed"
    },
    "tags": []
   },
   "source": [
    "We pass the `Dataset` as an argument to `DataLoader`. This wraps an\n",
    "iterable over our dataset, and supports automatic batching, sampling,\n",
    "shuffling and multiprocess data loading. Here we define a batch size of\n",
    "64, i.e. each element in the dataloader iterable will return a batch of\n",
    "64 features and labels.\n"
   ]
  },
  {
   "cell_type": "code",
   "execution_count": 4,
   "id": "25752f51",
   "metadata": {
    "collapsed": false,
    "execution": {
     "iopub.execute_input": "2024-07-26T21:42:48.287415Z",
     "iopub.status.busy": "2024-07-26T21:42:48.286987Z",
     "iopub.status.idle": "2024-07-26T21:42:48.342085Z",
     "shell.execute_reply": "2024-07-26T21:42:48.340701Z"
    },
    "jupyter": {
     "outputs_hidden": false
    },
    "papermill": {
     "duration": 0.070509,
     "end_time": "2024-07-26T21:42:48.344586",
     "exception": false,
     "start_time": "2024-07-26T21:42:48.274077",
     "status": "completed"
    },
    "tags": []
   },
   "outputs": [
    {
     "name": "stdout",
     "output_type": "stream",
     "text": [
      "Shape of X [N, C, H, W]: torch.Size([64, 1, 28, 28])\n",
      "Shape of y: torch.Size([64]) torch.int64\n"
     ]
    }
   ],
   "source": [
    "batch_size = 64\n",
    "\n",
    "# Create data loaders.\n",
    "train_dataloader = DataLoader(training_data, batch_size=batch_size)\n",
    "test_dataloader = DataLoader(test_data, batch_size=batch_size)\n",
    "\n",
    "for X, y in test_dataloader:\n",
    "    print(f\"Shape of X [N, C, H, W]: {X.shape}\")\n",
    "    print(f\"Shape of y: {y.shape} {y.dtype}\")\n",
    "    break"
   ]
  },
  {
   "cell_type": "markdown",
   "id": "c5d71f5d",
   "metadata": {
    "papermill": {
     "duration": 0.011172,
     "end_time": "2024-07-26T21:42:48.367218",
     "exception": false,
     "start_time": "2024-07-26T21:42:48.356046",
     "status": "completed"
    },
    "tags": []
   },
   "source": [
    "Read more about [loading data in PyTorch](data_tutorial.html).\n"
   ]
  },
  {
   "cell_type": "markdown",
   "id": "3eebbcde",
   "metadata": {
    "papermill": {
     "duration": 0.011137,
     "end_time": "2024-07-26T21:42:48.390479",
     "exception": false,
     "start_time": "2024-07-26T21:42:48.379342",
     "status": "completed"
    },
    "tags": []
   },
   "source": [
    "------------------------------------------------------------------------\n"
   ]
  },
  {
   "cell_type": "markdown",
   "id": "f8889e61",
   "metadata": {
    "papermill": {
     "duration": 0.010983,
     "end_time": "2024-07-26T21:42:48.412980",
     "exception": false,
     "start_time": "2024-07-26T21:42:48.401997",
     "status": "completed"
    },
    "tags": []
   },
   "source": [
    "Creating Models\n",
    "===============\n",
    "\n",
    "To define a neural network in PyTorch, we create a class that inherits\n",
    "from\n",
    "[nn.Module](https://pytorch.org/docs/stable/generated/torch.nn.Module.html).\n",
    "We define the layers of the network in the `__init__` function and\n",
    "specify how data will pass through the network in the `forward`\n",
    "function. To accelerate operations in the neural network, we move it to\n",
    "the GPU or MPS if available.\n"
   ]
  },
  {
   "cell_type": "code",
   "execution_count": 5,
   "id": "f5555612",
   "metadata": {
    "collapsed": false,
    "execution": {
     "iopub.execute_input": "2024-07-26T21:42:48.437529Z",
     "iopub.status.busy": "2024-07-26T21:42:48.437067Z",
     "iopub.status.idle": "2024-07-26T21:42:48.458047Z",
     "shell.execute_reply": "2024-07-26T21:42:48.456732Z"
    },
    "jupyter": {
     "outputs_hidden": false
    },
    "papermill": {
     "duration": 0.036321,
     "end_time": "2024-07-26T21:42:48.460816",
     "exception": false,
     "start_time": "2024-07-26T21:42:48.424495",
     "status": "completed"
    },
    "tags": []
   },
   "outputs": [
    {
     "name": "stdout",
     "output_type": "stream",
     "text": [
      "Using cpu device\n",
      "NeuralNetwork(\n",
      "  (flatten): Flatten(start_dim=1, end_dim=-1)\n",
      "  (linear_relu_stack): Sequential(\n",
      "    (0): Linear(in_features=784, out_features=512, bias=True)\n",
      "    (1): ReLU()\n",
      "    (2): Linear(in_features=512, out_features=512, bias=True)\n",
      "    (3): ReLU()\n",
      "    (4): Linear(in_features=512, out_features=10, bias=True)\n",
      "  )\n",
      ")\n"
     ]
    }
   ],
   "source": [
    "# Get cpu, gpu or mps device for training.\n",
    "device = (\n",
    "    \"cuda\"\n",
    "    if torch.cuda.is_available()\n",
    "    else \"mps\"\n",
    "    if torch.backends.mps.is_available()\n",
    "    else \"cpu\"\n",
    ")\n",
    "print(f\"Using {device} device\")\n",
    "\n",
    "# Define model\n",
    "class NeuralNetwork(nn.Module):\n",
    "    def __init__(self):\n",
    "        super().__init__()\n",
    "        self.flatten = nn.Flatten()\n",
    "        self.linear_relu_stack = nn.Sequential(\n",
    "            nn.Linear(28*28, 512),\n",
    "            nn.ReLU(),\n",
    "            nn.Linear(512, 512),\n",
    "            nn.ReLU(),\n",
    "            nn.Linear(512, 10)\n",
    "        )\n",
    "\n",
    "    def forward(self, x):\n",
    "        x = self.flatten(x)\n",
    "        logits = self.linear_relu_stack(x)\n",
    "        return logits\n",
    "\n",
    "model = NeuralNetwork().to(device)\n",
    "print(model)"
   ]
  },
  {
   "cell_type": "markdown",
   "id": "b9ae2285",
   "metadata": {
    "papermill": {
     "duration": 0.011252,
     "end_time": "2024-07-26T21:42:48.483768",
     "exception": false,
     "start_time": "2024-07-26T21:42:48.472516",
     "status": "completed"
    },
    "tags": []
   },
   "source": [
    "Read more about [building neural networks in\n",
    "PyTorch](buildmodel_tutorial.html).\n"
   ]
  },
  {
   "cell_type": "markdown",
   "id": "97ec2c3b",
   "metadata": {
    "papermill": {
     "duration": 0.011342,
     "end_time": "2024-07-26T21:42:48.506593",
     "exception": false,
     "start_time": "2024-07-26T21:42:48.495251",
     "status": "completed"
    },
    "tags": []
   },
   "source": [
    "------------------------------------------------------------------------\n"
   ]
  },
  {
   "cell_type": "markdown",
   "id": "0b9a6be6",
   "metadata": {
    "papermill": {
     "duration": 0.011174,
     "end_time": "2024-07-26T21:42:48.529252",
     "exception": false,
     "start_time": "2024-07-26T21:42:48.518078",
     "status": "completed"
    },
    "tags": []
   },
   "source": [
    "Optimizing the Model Parameters\n",
    "===============================\n",
    "\n",
    "To train a model, we need a [loss\n",
    "function](https://pytorch.org/docs/stable/nn.html#loss-functions) and an\n",
    "[optimizer](https://pytorch.org/docs/stable/optim.html).\n"
   ]
  },
  {
   "cell_type": "code",
   "execution_count": 6,
   "id": "b5841057",
   "metadata": {
    "collapsed": false,
    "execution": {
     "iopub.execute_input": "2024-07-26T21:42:48.554292Z",
     "iopub.status.busy": "2024-07-26T21:42:48.553841Z",
     "iopub.status.idle": "2024-07-26T21:42:48.559813Z",
     "shell.execute_reply": "2024-07-26T21:42:48.558727Z"
    },
    "jupyter": {
     "outputs_hidden": false
    },
    "papermill": {
     "duration": 0.021411,
     "end_time": "2024-07-26T21:42:48.562385",
     "exception": false,
     "start_time": "2024-07-26T21:42:48.540974",
     "status": "completed"
    },
    "tags": []
   },
   "outputs": [],
   "source": [
    "loss_fn = nn.CrossEntropyLoss()\n",
    "optimizer = torch.optim.SGD(model.parameters(), lr=1e-3)"
   ]
  },
  {
   "cell_type": "markdown",
   "id": "bd663d43",
   "metadata": {
    "papermill": {
     "duration": 0.011411,
     "end_time": "2024-07-26T21:42:48.585494",
     "exception": false,
     "start_time": "2024-07-26T21:42:48.574083",
     "status": "completed"
    },
    "tags": []
   },
   "source": [
    "In a single training loop, the model makes predictions on the training\n",
    "dataset (fed to it in batches), and backpropagates the prediction error\n",
    "to adjust the model\\'s parameters.\n"
   ]
  },
  {
   "cell_type": "code",
   "execution_count": 7,
   "id": "e40954f0",
   "metadata": {
    "collapsed": false,
    "execution": {
     "iopub.execute_input": "2024-07-26T21:42:48.611084Z",
     "iopub.status.busy": "2024-07-26T21:42:48.610642Z",
     "iopub.status.idle": "2024-07-26T21:42:48.618957Z",
     "shell.execute_reply": "2024-07-26T21:42:48.617906Z"
    },
    "jupyter": {
     "outputs_hidden": false
    },
    "papermill": {
     "duration": 0.024321,
     "end_time": "2024-07-26T21:42:48.621427",
     "exception": false,
     "start_time": "2024-07-26T21:42:48.597106",
     "status": "completed"
    },
    "tags": []
   },
   "outputs": [],
   "source": [
    "def train(dataloader, model, loss_fn, optimizer):\n",
    "    size = len(dataloader.dataset)\n",
    "    model.train()\n",
    "    for batch, (X, y) in enumerate(dataloader):\n",
    "        X, y = X.to(device), y.to(device)\n",
    "\n",
    "        # Compute prediction error\n",
    "        pred = model(X)\n",
    "        loss = loss_fn(pred, y)\n",
    "\n",
    "        # Backpropagation\n",
    "        loss.backward()\n",
    "        optimizer.step()\n",
    "        optimizer.zero_grad()\n",
    "\n",
    "        if batch % 100 == 0:\n",
    "            loss, current = loss.item(), (batch + 1) * len(X)\n",
    "            print(f\"loss: {loss:>7f}  [{current:>5d}/{size:>5d}]\")"
   ]
  },
  {
   "cell_type": "markdown",
   "id": "87c52000",
   "metadata": {
    "papermill": {
     "duration": 0.011217,
     "end_time": "2024-07-26T21:42:48.644238",
     "exception": false,
     "start_time": "2024-07-26T21:42:48.633021",
     "status": "completed"
    },
    "tags": []
   },
   "source": [
    "We also check the model\\'s performance against the test dataset to\n",
    "ensure it is learning.\n"
   ]
  },
  {
   "cell_type": "code",
   "execution_count": 8,
   "id": "1568beb0",
   "metadata": {
    "collapsed": false,
    "execution": {
     "iopub.execute_input": "2024-07-26T21:42:48.669374Z",
     "iopub.status.busy": "2024-07-26T21:42:48.668976Z",
     "iopub.status.idle": "2024-07-26T21:42:48.677288Z",
     "shell.execute_reply": "2024-07-26T21:42:48.676151Z"
    },
    "jupyter": {
     "outputs_hidden": false
    },
    "papermill": {
     "duration": 0.023783,
     "end_time": "2024-07-26T21:42:48.679705",
     "exception": false,
     "start_time": "2024-07-26T21:42:48.655922",
     "status": "completed"
    },
    "tags": []
   },
   "outputs": [],
   "source": [
    "def test(dataloader, model, loss_fn):\n",
    "    size = len(dataloader.dataset)\n",
    "    num_batches = len(dataloader)\n",
    "    model.eval()\n",
    "    test_loss, correct = 0, 0\n",
    "    with torch.no_grad():\n",
    "        for X, y in dataloader:\n",
    "            X, y = X.to(device), y.to(device)\n",
    "            pred = model(X)\n",
    "            test_loss += loss_fn(pred, y).item()\n",
    "            correct += (pred.argmax(1) == y).type(torch.float).sum().item()\n",
    "    test_loss /= num_batches\n",
    "    correct /= size\n",
    "    print(f\"Test Error: \\n Accuracy: {(100*correct):>0.1f}%, Avg loss: {test_loss:>8f} \\n\")"
   ]
  },
  {
   "cell_type": "markdown",
   "id": "565c1d6b",
   "metadata": {
    "papermill": {
     "duration": 0.011108,
     "end_time": "2024-07-26T21:42:48.702241",
     "exception": false,
     "start_time": "2024-07-26T21:42:48.691133",
     "status": "completed"
    },
    "tags": []
   },
   "source": [
    "The training process is conducted over several iterations (*epochs*).\n",
    "During each epoch, the model learns parameters to make better\n",
    "predictions. We print the model\\'s accuracy and loss at each epoch;\n",
    "we\\'d like to see the accuracy increase and the loss decrease with every\n",
    "epoch.\n"
   ]
  },
  {
   "cell_type": "code",
   "execution_count": 9,
   "id": "80e7c2ed",
   "metadata": {
    "collapsed": false,
    "execution": {
     "iopub.execute_input": "2024-07-26T21:42:48.726969Z",
     "iopub.status.busy": "2024-07-26T21:42:48.726561Z",
     "iopub.status.idle": "2024-07-26T21:43:46.963544Z",
     "shell.execute_reply": "2024-07-26T21:43:46.962130Z"
    },
    "jupyter": {
     "outputs_hidden": false
    },
    "papermill": {
     "duration": 58.253468,
     "end_time": "2024-07-26T21:43:46.967375",
     "exception": false,
     "start_time": "2024-07-26T21:42:48.713907",
     "status": "completed"
    },
    "tags": []
   },
   "outputs": [
    {
     "name": "stdout",
     "output_type": "stream",
     "text": [
      "Epoch 1\n",
      "-------------------------------\n",
      "loss: 2.317729  [   64/60000]\n",
      "loss: 2.301070  [ 6464/60000]\n",
      "loss: 2.285322  [12864/60000]\n",
      "loss: 2.270885  [19264/60000]\n",
      "loss: 2.248754  [25664/60000]\n",
      "loss: 2.225711  [32064/60000]\n",
      "loss: 2.228607  [38464/60000]\n",
      "loss: 2.198359  [44864/60000]\n",
      "loss: 2.199634  [51264/60000]\n",
      "loss: 2.155790  [57664/60000]\n",
      "Test Error: \n",
      " Accuracy: 44.7%, Avg loss: 2.158399 \n",
      "\n",
      "Epoch 2\n",
      "-------------------------------\n",
      "loss: 2.178503  [   64/60000]\n",
      "loss: 2.158381  [ 6464/60000]\n",
      "loss: 2.107744  [12864/60000]\n",
      "loss: 2.123757  [19264/60000]\n",
      "loss: 2.057879  [25664/60000]\n",
      "loss: 2.006953  [32064/60000]\n",
      "loss: 2.034782  [38464/60000]\n",
      "loss: 1.953306  [44864/60000]\n",
      "loss: 1.968677  [51264/60000]\n",
      "loss: 1.891557  [57664/60000]\n",
      "Test Error: \n",
      " Accuracy: 54.1%, Avg loss: 1.888873 \n",
      "\n",
      "Epoch 3\n",
      "-------------------------------\n",
      "loss: 1.931702  [   64/60000]\n",
      "loss: 1.884566  [ 6464/60000]\n",
      "loss: 1.777050  [12864/60000]\n",
      "loss: 1.825989  [19264/60000]\n",
      "loss: 1.705638  [25664/60000]\n",
      "loss: 1.662080  [32064/60000]\n",
      "loss: 1.689873  [38464/60000]\n",
      "loss: 1.586120  [44864/60000]\n",
      "loss: 1.618505  [51264/60000]\n",
      "loss: 1.519168  [57664/60000]\n",
      "Test Error: \n",
      " Accuracy: 60.8%, Avg loss: 1.530534 \n",
      "\n",
      "Epoch 4\n",
      "-------------------------------\n",
      "loss: 1.607433  [   64/60000]\n",
      "loss: 1.555691  [ 6464/60000]\n",
      "loss: 1.415678  [12864/60000]\n",
      "loss: 1.492051  [19264/60000]\n",
      "loss: 1.369626  [25664/60000]\n",
      "loss: 1.367759  [32064/60000]\n",
      "loss: 1.379285  [38464/60000]\n",
      "loss: 1.302258  [44864/60000]\n",
      "loss: 1.336647  [51264/60000]\n",
      "loss: 1.246658  [57664/60000]\n",
      "Test Error: \n",
      " Accuracy: 63.1%, Avg loss: 1.266899 \n",
      "\n",
      "Epoch 5\n",
      "-------------------------------\n",
      "loss: 1.353065  [   64/60000]\n",
      "loss: 1.321533  [ 6464/60000]\n",
      "loss: 1.164792  [12864/60000]\n",
      "loss: 1.272087  [19264/60000]\n",
      "loss: 1.143314  [25664/60000]\n",
      "loss: 1.171250  [32064/60000]\n",
      "loss: 1.184988  [38464/60000]\n",
      "loss: 1.122380  [44864/60000]\n",
      "loss: 1.160130  [51264/60000]\n",
      "loss: 1.086049  [57664/60000]\n",
      "Test Error: \n",
      " Accuracy: 64.7%, Avg loss: 1.102113 \n",
      "\n",
      "Done!\n"
     ]
    }
   ],
   "source": [
    "epochs = 5\n",
    "for t in range(epochs):\n",
    "    print(f\"Epoch {t+1}\\n-------------------------------\")\n",
    "    train(train_dataloader, model, loss_fn, optimizer)\n",
    "    test(test_dataloader, model, loss_fn)\n",
    "print(\"Done!\")"
   ]
  },
  {
   "cell_type": "markdown",
   "id": "c665bda6",
   "metadata": {
    "papermill": {
     "duration": 0.017567,
     "end_time": "2024-07-26T21:43:47.006569",
     "exception": false,
     "start_time": "2024-07-26T21:43:46.989002",
     "status": "completed"
    },
    "tags": []
   },
   "source": [
    "Read more about [Training your model](optimization_tutorial.html).\n"
   ]
  },
  {
   "cell_type": "markdown",
   "id": "f4f22b54",
   "metadata": {
    "papermill": {
     "duration": 0.01691,
     "end_time": "2024-07-26T21:43:47.039550",
     "exception": false,
     "start_time": "2024-07-26T21:43:47.022640",
     "status": "completed"
    },
    "tags": []
   },
   "source": [
    "------------------------------------------------------------------------\n"
   ]
  },
  {
   "cell_type": "markdown",
   "id": "b57db258",
   "metadata": {
    "papermill": {
     "duration": 0.015449,
     "end_time": "2024-07-26T21:43:47.070722",
     "exception": false,
     "start_time": "2024-07-26T21:43:47.055273",
     "status": "completed"
    },
    "tags": []
   },
   "source": [
    "Saving Models\n",
    "=============\n",
    "\n",
    "A common way to save a model is to serialize the internal state\n",
    "dictionary (containing the model parameters).\n"
   ]
  },
  {
   "cell_type": "code",
   "execution_count": 10,
   "id": "b976eca7",
   "metadata": {
    "collapsed": false,
    "execution": {
     "iopub.execute_input": "2024-07-26T21:43:47.103953Z",
     "iopub.status.busy": "2024-07-26T21:43:47.103549Z",
     "iopub.status.idle": "2024-07-26T21:43:47.114284Z",
     "shell.execute_reply": "2024-07-26T21:43:47.113185Z"
    },
    "jupyter": {
     "outputs_hidden": false
    },
    "papermill": {
     "duration": 0.02989,
     "end_time": "2024-07-26T21:43:47.116661",
     "exception": false,
     "start_time": "2024-07-26T21:43:47.086771",
     "status": "completed"
    },
    "tags": []
   },
   "outputs": [
    {
     "name": "stdout",
     "output_type": "stream",
     "text": [
      "Saved PyTorch Model State to model.pth\n"
     ]
    }
   ],
   "source": [
    "torch.save(model.state_dict(), \"model.pth\")\n",
    "print(\"Saved PyTorch Model State to model.pth\")"
   ]
  },
  {
   "cell_type": "markdown",
   "id": "488bcc5e",
   "metadata": {
    "papermill": {
     "duration": 0.015919,
     "end_time": "2024-07-26T21:43:47.148745",
     "exception": false,
     "start_time": "2024-07-26T21:43:47.132826",
     "status": "completed"
    },
    "tags": []
   },
   "source": [
    "Loading Models\n",
    "==============\n",
    "\n",
    "The process for loading a model includes re-creating the model structure\n",
    "and loading the state dictionary into it.\n"
   ]
  },
  {
   "cell_type": "code",
   "execution_count": 11,
   "id": "d48fe44e",
   "metadata": {
    "collapsed": false,
    "execution": {
     "iopub.execute_input": "2024-07-26T21:43:47.183037Z",
     "iopub.status.busy": "2024-07-26T21:43:47.182216Z",
     "iopub.status.idle": "2024-07-26T21:43:47.201834Z",
     "shell.execute_reply": "2024-07-26T21:43:47.200684Z"
    },
    "jupyter": {
     "outputs_hidden": false
    },
    "papermill": {
     "duration": 0.039119,
     "end_time": "2024-07-26T21:43:47.204099",
     "exception": false,
     "start_time": "2024-07-26T21:43:47.164980",
     "status": "completed"
    },
    "tags": []
   },
   "outputs": [
    {
     "data": {
      "text/plain": [
       "<All keys matched successfully>"
      ]
     },
     "execution_count": 11,
     "metadata": {},
     "output_type": "execute_result"
    }
   ],
   "source": [
    "model = NeuralNetwork().to(device)\n",
    "model.load_state_dict(torch.load(\"model.pth\"))"
   ]
  },
  {
   "cell_type": "markdown",
   "id": "11de0ad3",
   "metadata": {
    "papermill": {
     "duration": 0.016565,
     "end_time": "2024-07-26T21:43:47.236923",
     "exception": false,
     "start_time": "2024-07-26T21:43:47.220358",
     "status": "completed"
    },
    "tags": []
   },
   "source": [
    "This model can now be used to make predictions.\n"
   ]
  },
  {
   "cell_type": "code",
   "execution_count": 12,
   "id": "b5af080a",
   "metadata": {
    "collapsed": false,
    "execution": {
     "iopub.execute_input": "2024-07-26T21:43:47.271344Z",
     "iopub.status.busy": "2024-07-26T21:43:47.270626Z",
     "iopub.status.idle": "2024-07-26T21:43:47.282963Z",
     "shell.execute_reply": "2024-07-26T21:43:47.281774Z"
    },
    "jupyter": {
     "outputs_hidden": false
    },
    "papermill": {
     "duration": 0.032263,
     "end_time": "2024-07-26T21:43:47.285352",
     "exception": false,
     "start_time": "2024-07-26T21:43:47.253089",
     "status": "completed"
    },
    "tags": []
   },
   "outputs": [
    {
     "name": "stdout",
     "output_type": "stream",
     "text": [
      "Predicted: \"Ankle boot\", Actual: \"Ankle boot\"\n"
     ]
    }
   ],
   "source": [
    "classes = [\n",
    "    \"T-shirt/top\",\n",
    "    \"Trouser\",\n",
    "    \"Pullover\",\n",
    "    \"Dress\",\n",
    "    \"Coat\",\n",
    "    \"Sandal\",\n",
    "    \"Shirt\",\n",
    "    \"Sneaker\",\n",
    "    \"Bag\",\n",
    "    \"Ankle boot\",\n",
    "]\n",
    "\n",
    "model.eval()\n",
    "x, y = test_data[0][0], test_data[0][1]\n",
    "with torch.no_grad():\n",
    "    x = x.to(device)\n",
    "    pred = model(x)\n",
    "    predicted, actual = classes[pred[0].argmax(0)], classes[y]\n",
    "    print(f'Predicted: \"{predicted}\", Actual: \"{actual}\"')"
   ]
  },
  {
   "cell_type": "markdown",
   "id": "b66a60e4",
   "metadata": {
    "papermill": {
     "duration": 0.015997,
     "end_time": "2024-07-26T21:43:47.319364",
     "exception": false,
     "start_time": "2024-07-26T21:43:47.303367",
     "status": "completed"
    },
    "tags": []
   },
   "source": [
    "Read more about [Saving & Loading your\n",
    "model](saveloadrun_tutorial.html).\n"
   ]
  }
 ],
 "metadata": {
  "kaggle": {
   "accelerator": "none",
   "dataSources": [],
   "dockerImageVersionId": 30746,
   "isGpuEnabled": false,
   "isInternetEnabled": true,
   "language": "python",
   "sourceType": "notebook"
  },
  "kernelspec": {
   "display_name": "Python 3",
   "language": "python",
   "name": "python3"
  },
  "language_info": {
   "codemirror_mode": {
    "name": "ipython",
    "version": 3
   },
   "file_extension": ".py",
   "mimetype": "text/x-python",
   "name": "python",
   "nbconvert_exporter": "python",
   "pygments_lexer": "ipython3",
   "version": "3.10.13"
  },
  "papermill": {
   "default_parameters": {},
   "duration": 70.547741,
   "end_time": "2024-07-26T21:43:48.359040",
   "environment_variables": {},
   "exception": null,
   "input_path": "__notebook__.ipynb",
   "output_path": "__notebook__.ipynb",
   "parameters": {},
   "start_time": "2024-07-26T21:42:37.811299",
   "version": "2.5.0"
  }
 },
 "nbformat": 4,
 "nbformat_minor": 5
}
