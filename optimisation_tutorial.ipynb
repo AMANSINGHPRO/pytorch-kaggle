{
 "cells": [
  {
   "cell_type": "code",
   "execution_count": 1,
   "id": "8a062598",
   "metadata": {
    "collapsed": false,
    "execution": {
     "iopub.execute_input": "2024-07-26T22:11:08.736609Z",
     "iopub.status.busy": "2024-07-26T22:11:08.736132Z",
     "iopub.status.idle": "2024-07-26T22:11:08.750460Z",
     "shell.execute_reply": "2024-07-26T22:11:08.749535Z"
    },
    "jupyter": {
     "outputs_hidden": false
    },
    "papermill": {
     "duration": 0.024238,
     "end_time": "2024-07-26T22:11:08.753045",
     "exception": false,
     "start_time": "2024-07-26T22:11:08.728807",
     "status": "completed"
    },
    "tags": []
   },
   "outputs": [],
   "source": [
    "# For tips on running notebooks in Google Colab, see\n",
    "# https://pytorch.org/tutorials/beginner/colab\n",
    "%matplotlib inline"
   ]
  },
  {
   "cell_type": "markdown",
   "id": "ed8b68a1",
   "metadata": {
    "papermill": {
     "duration": 0.004733,
     "end_time": "2024-07-26T22:11:08.763207",
     "exception": false,
     "start_time": "2024-07-26T22:11:08.758474",
     "status": "completed"
    },
    "tags": []
   },
   "source": [
    "[Learn the Basics](intro.html) \\|\\|\n",
    "[Quickstart](quickstart_tutorial.html) \\|\\|\n",
    "[Tensors](tensorqs_tutorial.html) \\|\\| [Datasets &\n",
    "DataLoaders](data_tutorial.html) \\|\\|\n",
    "[Transforms](transforms_tutorial.html) \\|\\| [Build\n",
    "Model](buildmodel_tutorial.html) \\|\\|\n",
    "[Autograd](autogradqs_tutorial.html) \\|\\| **Optimization** \\|\\| [Save &\n",
    "Load Model](saveloadrun_tutorial.html)\n",
    "\n",
    "Optimizing Model Parameters\n",
    "===========================\n",
    "\n",
    "Now that we have a model and data it\\'s time to train, validate and test\n",
    "our model by optimizing its parameters on our data. Training a model is\n",
    "an iterative process; in each iteration the model makes a guess about\n",
    "the output, calculates the error in its guess (*loss*), collects the\n",
    "derivatives of the error with respect to its parameters (as we saw in\n",
    "the [previous section](autograd_tutorial.html)), and **optimizes** these\n",
    "parameters using gradient descent. For a more detailed walkthrough of\n",
    "this process, check out this video on [backpropagation from\n",
    "3Blue1Brown](https://www.youtube.com/watch?v=tIeHLnjs5U8).\n",
    "\n",
    "Prerequisite Code\n",
    "-----------------\n",
    "\n",
    "We load the code from the previous sections on [Datasets &\n",
    "DataLoaders](data_tutorial.html) and [Build\n",
    "Model](buildmodel_tutorial.html).\n"
   ]
  },
  {
   "cell_type": "code",
   "execution_count": 2,
   "id": "4835029c",
   "metadata": {
    "collapsed": false,
    "execution": {
     "iopub.execute_input": "2024-07-26T22:11:08.775386Z",
     "iopub.status.busy": "2024-07-26T22:11:08.774475Z",
     "iopub.status.idle": "2024-07-26T22:11:24.054207Z",
     "shell.execute_reply": "2024-07-26T22:11:24.052985Z"
    },
    "jupyter": {
     "outputs_hidden": false
    },
    "papermill": {
     "duration": 15.289919,
     "end_time": "2024-07-26T22:11:24.058123",
     "exception": false,
     "start_time": "2024-07-26T22:11:08.768204",
     "status": "completed"
    },
    "tags": []
   },
   "outputs": [
    {
     "name": "stdout",
     "output_type": "stream",
     "text": [
      "Downloading http://fashion-mnist.s3-website.eu-central-1.amazonaws.com/train-images-idx3-ubyte.gz\n",
      "Downloading http://fashion-mnist.s3-website.eu-central-1.amazonaws.com/train-images-idx3-ubyte.gz to data/FashionMNIST/raw/train-images-idx3-ubyte.gz\n"
     ]
    },
    {
     "name": "stderr",
     "output_type": "stream",
     "text": [
      "100%|██████████| 26421880/26421880 [00:02<00:00, 10340055.62it/s]\n"
     ]
    },
    {
     "name": "stdout",
     "output_type": "stream",
     "text": [
      "Extracting data/FashionMNIST/raw/train-images-idx3-ubyte.gz to data/FashionMNIST/raw\n",
      "\n",
      "Downloading http://fashion-mnist.s3-website.eu-central-1.amazonaws.com/train-labels-idx1-ubyte.gz\n",
      "Downloading http://fashion-mnist.s3-website.eu-central-1.amazonaws.com/train-labels-idx1-ubyte.gz to data/FashionMNIST/raw/train-labels-idx1-ubyte.gz\n"
     ]
    },
    {
     "name": "stderr",
     "output_type": "stream",
     "text": [
      "100%|██████████| 29515/29515 [00:00<00:00, 207090.35it/s]\n"
     ]
    },
    {
     "name": "stdout",
     "output_type": "stream",
     "text": [
      "Extracting data/FashionMNIST/raw/train-labels-idx1-ubyte.gz to data/FashionMNIST/raw\n",
      "\n",
      "Downloading http://fashion-mnist.s3-website.eu-central-1.amazonaws.com/t10k-images-idx3-ubyte.gz\n",
      "Downloading http://fashion-mnist.s3-website.eu-central-1.amazonaws.com/t10k-images-idx3-ubyte.gz to data/FashionMNIST/raw/t10k-images-idx3-ubyte.gz\n"
     ]
    },
    {
     "name": "stderr",
     "output_type": "stream",
     "text": [
      "100%|██████████| 4422102/4422102 [00:03<00:00, 1247522.72it/s]\n"
     ]
    },
    {
     "name": "stdout",
     "output_type": "stream",
     "text": [
      "Extracting data/FashionMNIST/raw/t10k-images-idx3-ubyte.gz to data/FashionMNIST/raw\n",
      "\n",
      "Downloading http://fashion-mnist.s3-website.eu-central-1.amazonaws.com/t10k-labels-idx1-ubyte.gz\n",
      "Downloading http://fashion-mnist.s3-website.eu-central-1.amazonaws.com/t10k-labels-idx1-ubyte.gz to data/FashionMNIST/raw/t10k-labels-idx1-ubyte.gz\n"
     ]
    },
    {
     "name": "stderr",
     "output_type": "stream",
     "text": [
      "100%|██████████| 5148/5148 [00:00<00:00, 8863824.71it/s]"
     ]
    },
    {
     "name": "stdout",
     "output_type": "stream",
     "text": [
      "Extracting data/FashionMNIST/raw/t10k-labels-idx1-ubyte.gz to data/FashionMNIST/raw\n",
      "\n"
     ]
    },
    {
     "name": "stderr",
     "output_type": "stream",
     "text": [
      "\n"
     ]
    }
   ],
   "source": [
    "import torch\n",
    "from torch import nn\n",
    "from torch.utils.data import DataLoader\n",
    "from torchvision import datasets\n",
    "from torchvision.transforms import ToTensor\n",
    "\n",
    "training_data = datasets.FashionMNIST(\n",
    "    root=\"data\",\n",
    "    train=True,\n",
    "    download=True,\n",
    "    transform=ToTensor()\n",
    ")\n",
    "\n",
    "test_data = datasets.FashionMNIST(\n",
    "    root=\"data\",\n",
    "    train=False,\n",
    "    download=True,\n",
    "    transform=ToTensor()\n",
    ")\n",
    "\n",
    "train_dataloader = DataLoader(training_data, batch_size=64)\n",
    "test_dataloader = DataLoader(test_data, batch_size=64)\n",
    "\n",
    "class NeuralNetwork(nn.Module):\n",
    "    def __init__(self):\n",
    "        super().__init__()\n",
    "        self.flatten = nn.Flatten()\n",
    "        self.linear_relu_stack = nn.Sequential(\n",
    "            nn.Linear(28*28, 512),\n",
    "            nn.ReLU(),\n",
    "            nn.Linear(512, 512),\n",
    "            nn.ReLU(),\n",
    "            nn.Linear(512, 10),\n",
    "        )\n",
    "\n",
    "    def forward(self, x):\n",
    "        x = self.flatten(x)\n",
    "        logits = self.linear_relu_stack(x)\n",
    "        return logits\n",
    "\n",
    "model = NeuralNetwork()"
   ]
  },
  {
   "cell_type": "markdown",
   "id": "bb250614",
   "metadata": {
    "papermill": {
     "duration": 0.012349,
     "end_time": "2024-07-26T22:11:24.081976",
     "exception": false,
     "start_time": "2024-07-26T22:11:24.069627",
     "status": "completed"
    },
    "tags": []
   },
   "source": [
    "Hyperparameters\n",
    "===============\n",
    "\n",
    "Hyperparameters are adjustable parameters that let you control the model\n",
    "optimization process. Different hyperparameter values can impact model\n",
    "training and convergence rates ([read\n",
    "more](https://pytorch.org/tutorials/beginner/hyperparameter_tuning_tutorial.html)\n",
    "about hyperparameter tuning)\n",
    "\n",
    "We define the following hyperparameters for training:\n",
    "\n",
    ":   -   **Number of Epochs** - the number times to iterate over the\n",
    "        dataset\n",
    "    -   **Batch Size** - the number of data samples propagated through\n",
    "        the network before the parameters are updated\n",
    "    -   **Learning Rate** - how much to update models parameters at each\n",
    "        batch/epoch. Smaller values yield slow learning speed, while\n",
    "        large values may result in unpredictable behavior during\n",
    "        training.\n"
   ]
  },
  {
   "cell_type": "code",
   "execution_count": 3,
   "id": "04d5ceb1",
   "metadata": {
    "collapsed": false,
    "execution": {
     "iopub.execute_input": "2024-07-26T22:11:24.113396Z",
     "iopub.status.busy": "2024-07-26T22:11:24.112872Z",
     "iopub.status.idle": "2024-07-26T22:11:24.119830Z",
     "shell.execute_reply": "2024-07-26T22:11:24.118380Z"
    },
    "jupyter": {
     "outputs_hidden": false
    },
    "papermill": {
     "duration": 0.027695,
     "end_time": "2024-07-26T22:11:24.123072",
     "exception": false,
     "start_time": "2024-07-26T22:11:24.095377",
     "status": "completed"
    },
    "tags": []
   },
   "outputs": [],
   "source": [
    "learning_rate = 1e-3\n",
    "batch_size = 64\n",
    "epochs = 5"
   ]
  },
  {
   "cell_type": "markdown",
   "id": "f06bb916",
   "metadata": {
    "papermill": {
     "duration": 0.014069,
     "end_time": "2024-07-26T22:11:24.151642",
     "exception": false,
     "start_time": "2024-07-26T22:11:24.137573",
     "status": "completed"
    },
    "tags": []
   },
   "source": [
    "Optimization Loop\n",
    "=================\n",
    "\n",
    "Once we set our hyperparameters, we can then train and optimize our\n",
    "model with an optimization loop. Each iteration of the optimization loop\n",
    "is called an **epoch**.\n",
    "\n",
    "Each epoch consists of two main parts:\n",
    "\n",
    ":   -   **The Train Loop** - iterate over the training dataset and try\n",
    "        to converge to optimal parameters.\n",
    "    -   **The Validation/Test Loop** - iterate over the test dataset to\n",
    "        check if model performance is improving.\n",
    "\n",
    "Let\\'s briefly familiarize ourselves with some of the concepts used in\n",
    "the training loop. Jump ahead to see the\n",
    "`full-impl-label`{.interpreted-text role=\"ref\"} of the optimization\n",
    "loop.\n",
    "\n",
    "Loss Function\n",
    "-------------\n",
    "\n",
    "When presented with some training data, our untrained network is likely\n",
    "not to give the correct answer. **Loss function** measures the degree of\n",
    "dissimilarity of obtained result to the target value, and it is the loss\n",
    "function that we want to minimize during training. To calculate the loss\n",
    "we make a prediction using the inputs of our given data sample and\n",
    "compare it against the true data label value.\n",
    "\n",
    "Common loss functions include\n",
    "[nn.MSELoss](https://pytorch.org/docs/stable/generated/torch.nn.MSELoss.html#torch.nn.MSELoss)\n",
    "(Mean Square Error) for regression tasks, and\n",
    "[nn.NLLLoss](https://pytorch.org/docs/stable/generated/torch.nn.NLLLoss.html#torch.nn.NLLLoss)\n",
    "(Negative Log Likelihood) for classification.\n",
    "[nn.CrossEntropyLoss](https://pytorch.org/docs/stable/generated/torch.nn.CrossEntropyLoss.html#torch.nn.CrossEntropyLoss)\n",
    "combines `nn.LogSoftmax` and `nn.NLLLoss`.\n",
    "\n",
    "We pass our model\\'s output logits to `nn.CrossEntropyLoss`, which will\n",
    "normalize the logits and compute the prediction error.\n"
   ]
  },
  {
   "cell_type": "code",
   "execution_count": 4,
   "id": "d19562c1",
   "metadata": {
    "collapsed": false,
    "execution": {
     "iopub.execute_input": "2024-07-26T22:11:24.179905Z",
     "iopub.status.busy": "2024-07-26T22:11:24.178819Z",
     "iopub.status.idle": "2024-07-26T22:11:24.184206Z",
     "shell.execute_reply": "2024-07-26T22:11:24.182972Z"
    },
    "jupyter": {
     "outputs_hidden": false
    },
    "papermill": {
     "duration": 0.020904,
     "end_time": "2024-07-26T22:11:24.186756",
     "exception": false,
     "start_time": "2024-07-26T22:11:24.165852",
     "status": "completed"
    },
    "tags": []
   },
   "outputs": [],
   "source": [
    "# Initialize the loss function\n",
    "loss_fn = nn.CrossEntropyLoss()"
   ]
  },
  {
   "cell_type": "markdown",
   "id": "4b1a13e9",
   "metadata": {
    "papermill": {
     "duration": 0.011227,
     "end_time": "2024-07-26T22:11:24.209598",
     "exception": false,
     "start_time": "2024-07-26T22:11:24.198371",
     "status": "completed"
    },
    "tags": []
   },
   "source": [
    "Optimizer\n",
    "=========\n",
    "\n",
    "Optimization is the process of adjusting model parameters to reduce\n",
    "model error in each training step. **Optimization algorithms** define\n",
    "how this process is performed (in this example we use Stochastic\n",
    "Gradient Descent). All optimization logic is encapsulated in the\n",
    "`optimizer` object. Here, we use the SGD optimizer; additionally, there\n",
    "are many [different\n",
    "optimizers](https://pytorch.org/docs/stable/optim.html) available in\n",
    "PyTorch such as ADAM and RMSProp, that work better for different kinds\n",
    "of models and data.\n",
    "\n",
    "We initialize the optimizer by registering the model\\'s parameters that\n",
    "need to be trained, and passing in the learning rate hyperparameter.\n"
   ]
  },
  {
   "cell_type": "code",
   "execution_count": 5,
   "id": "acbd818f",
   "metadata": {
    "collapsed": false,
    "execution": {
     "iopub.execute_input": "2024-07-26T22:11:24.234584Z",
     "iopub.status.busy": "2024-07-26T22:11:24.234132Z",
     "iopub.status.idle": "2024-07-26T22:11:24.240031Z",
     "shell.execute_reply": "2024-07-26T22:11:24.238795Z"
    },
    "jupyter": {
     "outputs_hidden": false
    },
    "papermill": {
     "duration": 0.021492,
     "end_time": "2024-07-26T22:11:24.242735",
     "exception": false,
     "start_time": "2024-07-26T22:11:24.221243",
     "status": "completed"
    },
    "tags": []
   },
   "outputs": [],
   "source": [
    "optimizer = torch.optim.SGD(model.parameters(), lr=learning_rate)"
   ]
  },
  {
   "cell_type": "markdown",
   "id": "c06937bc",
   "metadata": {
    "papermill": {
     "duration": 0.011244,
     "end_time": "2024-07-26T22:11:24.266401",
     "exception": false,
     "start_time": "2024-07-26T22:11:24.255157",
     "status": "completed"
    },
    "tags": []
   },
   "source": [
    "Inside the training loop, optimization happens in three steps:\n",
    "\n",
    ":   -   Call `optimizer.zero_grad()` to reset the gradients of model\n",
    "        parameters. Gradients by default add up; to prevent\n",
    "        double-counting, we explicitly zero them at each iteration.\n",
    "    -   Backpropagate the prediction loss with a call to\n",
    "        `loss.backward()`. PyTorch deposits the gradients of the loss\n",
    "        w.r.t. each parameter.\n",
    "    -   Once we have our gradients, we call `optimizer.step()` to adjust\n",
    "        the parameters by the gradients collected in the backward pass.\n"
   ]
  },
  {
   "cell_type": "markdown",
   "id": "6545665a",
   "metadata": {
    "papermill": {
     "duration": 0.011258,
     "end_time": "2024-07-26T22:11:24.289297",
     "exception": false,
     "start_time": "2024-07-26T22:11:24.278039",
     "status": "completed"
    },
    "tags": []
   },
   "source": [
    "Full Implementation {#full-impl-label}\n",
    "===================\n",
    "\n",
    "We define `train_loop` that loops over our optimization code, and\n",
    "`test_loop` that evaluates the model\\'s performance against our test\n",
    "data.\n"
   ]
  },
  {
   "cell_type": "code",
   "execution_count": 6,
   "id": "bcaee4fe",
   "metadata": {
    "collapsed": false,
    "execution": {
     "iopub.execute_input": "2024-07-26T22:11:24.314973Z",
     "iopub.status.busy": "2024-07-26T22:11:24.314569Z",
     "iopub.status.idle": "2024-07-26T22:11:24.327152Z",
     "shell.execute_reply": "2024-07-26T22:11:24.325715Z"
    },
    "jupyter": {
     "outputs_hidden": false
    },
    "papermill": {
     "duration": 0.029034,
     "end_time": "2024-07-26T22:11:24.329851",
     "exception": false,
     "start_time": "2024-07-26T22:11:24.300817",
     "status": "completed"
    },
    "tags": []
   },
   "outputs": [],
   "source": [
    "def train_loop(dataloader, model, loss_fn, optimizer):\n",
    "    size = len(dataloader.dataset)\n",
    "    # Set the model to training mode - important for batch normalization and dropout layers\n",
    "    # Unnecessary in this situation but added for best practices\n",
    "    model.train()\n",
    "    for batch, (X, y) in enumerate(dataloader):\n",
    "        # Compute prediction and loss\n",
    "        pred = model(X)\n",
    "        loss = loss_fn(pred, y)\n",
    "\n",
    "        # Backpropagation\n",
    "        loss.backward()\n",
    "        optimizer.step()\n",
    "        optimizer.zero_grad()\n",
    "\n",
    "        if batch % 100 == 0:\n",
    "            loss, current = loss.item(), batch * batch_size + len(X)\n",
    "            print(f\"loss: {loss:>7f}  [{current:>5d}/{size:>5d}]\")\n",
    "\n",
    "\n",
    "def test_loop(dataloader, model, loss_fn):\n",
    "    # Set the model to evaluation mode - important for batch normalization and dropout layers\n",
    "    # Unnecessary in this situation but added for best practices\n",
    "    model.eval()\n",
    "    size = len(dataloader.dataset)\n",
    "    num_batches = len(dataloader)\n",
    "    test_loss, correct = 0, 0\n",
    "\n",
    "    # Evaluating the model with torch.no_grad() ensures that no gradients are computed during test mode\n",
    "    # also serves to reduce unnecessary gradient computations and memory usage for tensors with requires_grad=True\n",
    "    with torch.no_grad():\n",
    "        for X, y in dataloader:\n",
    "            pred = model(X)\n",
    "            test_loss += loss_fn(pred, y).item()\n",
    "            correct += (pred.argmax(1) == y).type(torch.float).sum().item()\n",
    "\n",
    "    test_loss /= num_batches\n",
    "    correct /= size\n",
    "    print(f\"Test Error: \\n Accuracy: {(100*correct):>0.1f}%, Avg loss: {test_loss:>8f} \\n\")"
   ]
  },
  {
   "cell_type": "markdown",
   "id": "4f3a5317",
   "metadata": {
    "papermill": {
     "duration": 0.011808,
     "end_time": "2024-07-26T22:11:24.353404",
     "exception": false,
     "start_time": "2024-07-26T22:11:24.341596",
     "status": "completed"
    },
    "tags": []
   },
   "source": [
    "We initialize the loss function and optimizer, and pass it to\n",
    "`train_loop` and `test_loop`. Feel free to increase the number of epochs\n",
    "to track the model\\'s improving performance.\n"
   ]
  },
  {
   "cell_type": "code",
   "execution_count": 7,
   "id": "0b866286",
   "metadata": {
    "collapsed": false,
    "execution": {
     "iopub.execute_input": "2024-07-26T22:11:24.379199Z",
     "iopub.status.busy": "2024-07-26T22:11:24.378407Z",
     "iopub.status.idle": "2024-07-26T22:13:24.053475Z",
     "shell.execute_reply": "2024-07-26T22:13:24.052319Z"
    },
    "jupyter": {
     "outputs_hidden": false
    },
    "papermill": {
     "duration": 119.691025,
     "end_time": "2024-07-26T22:13:24.056106",
     "exception": false,
     "start_time": "2024-07-26T22:11:24.365081",
     "status": "completed"
    },
    "tags": []
   },
   "outputs": [
    {
     "name": "stdout",
     "output_type": "stream",
     "text": [
      "Epoch 1\n",
      "-------------------------------\n",
      "loss: 2.307913  [   64/60000]\n",
      "loss: 2.293172  [ 6464/60000]\n",
      "loss: 2.278892  [12864/60000]\n",
      "loss: 2.267332  [19264/60000]\n",
      "loss: 2.253920  [25664/60000]\n",
      "loss: 2.223886  [32064/60000]\n",
      "loss: 2.232616  [38464/60000]\n",
      "loss: 2.195646  [44864/60000]\n",
      "loss: 2.200389  [51264/60000]\n",
      "loss: 2.163249  [57664/60000]\n",
      "Test Error: \n",
      " Accuracy: 38.4%, Avg loss: 2.156777 \n",
      "\n",
      "Epoch 2\n",
      "-------------------------------\n",
      "loss: 2.170237  [   64/60000]\n",
      "loss: 2.158223  [ 6464/60000]\n",
      "loss: 2.105585  [12864/60000]\n",
      "loss: 2.116879  [19264/60000]\n",
      "loss: 2.062705  [25664/60000]\n",
      "loss: 2.002462  [32064/60000]\n",
      "loss: 2.033236  [38464/60000]\n",
      "loss: 1.952225  [44864/60000]\n",
      "loss: 1.970471  [51264/60000]\n",
      "loss: 1.886179  [57664/60000]\n",
      "Test Error: \n",
      " Accuracy: 54.4%, Avg loss: 1.886434 \n",
      "\n",
      "Epoch 3\n",
      "-------------------------------\n",
      "loss: 1.920607  [   64/60000]\n",
      "loss: 1.888470  [ 6464/60000]\n",
      "loss: 1.778719  [12864/60000]\n",
      "loss: 1.816780  [19264/60000]\n",
      "loss: 1.699364  [25664/60000]\n",
      "loss: 1.653415  [32064/60000]\n",
      "loss: 1.673893  [38464/60000]\n",
      "loss: 1.578076  [44864/60000]\n",
      "loss: 1.612784  [51264/60000]\n",
      "loss: 1.500365  [57664/60000]\n",
      "Test Error: \n",
      " Accuracy: 62.3%, Avg loss: 1.518077 \n",
      "\n",
      "Epoch 4\n",
      "-------------------------------\n",
      "loss: 1.583765  [   64/60000]\n",
      "loss: 1.549841  [ 6464/60000]\n",
      "loss: 1.408191  [12864/60000]\n",
      "loss: 1.472867  [19264/60000]\n",
      "loss: 1.348153  [25664/60000]\n",
      "loss: 1.353761  [32064/60000]\n",
      "loss: 1.356407  [38464/60000]\n",
      "loss: 1.285807  [44864/60000]\n",
      "loss: 1.327267  [51264/60000]\n",
      "loss: 1.224454  [57664/60000]\n",
      "Test Error: \n",
      " Accuracy: 63.2%, Avg loss: 1.249126 \n",
      "\n",
      "Epoch 5\n",
      "-------------------------------\n",
      "loss: 1.325102  [   64/60000]\n",
      "loss: 1.308656  [ 6464/60000]\n",
      "loss: 1.150540  [12864/60000]\n",
      "loss: 1.249735  [19264/60000]\n",
      "loss: 1.120770  [25664/60000]\n",
      "loss: 1.158222  [32064/60000]\n",
      "loss: 1.165941  [38464/60000]\n",
      "loss: 1.104509  [44864/60000]\n",
      "loss: 1.151347  [51264/60000]\n",
      "loss: 1.064184  [57664/60000]\n",
      "Test Error: \n",
      " Accuracy: 64.6%, Avg loss: 1.085229 \n",
      "\n",
      "Epoch 6\n",
      "-------------------------------\n",
      "loss: 1.154078  [   64/60000]\n",
      "loss: 1.156922  [ 6464/60000]\n",
      "loss: 0.982980  [12864/60000]\n",
      "loss: 1.112851  [19264/60000]\n",
      "loss: 0.984734  [25664/60000]\n",
      "loss: 1.028577  [32064/60000]\n",
      "loss: 1.051274  [38464/60000]\n",
      "loss: 0.990702  [44864/60000]\n",
      "loss: 1.038267  [51264/60000]\n",
      "loss: 0.964940  [57664/60000]\n",
      "Test Error: \n",
      " Accuracy: 65.6%, Avg loss: 0.980767 \n",
      "\n",
      "Epoch 7\n",
      "-------------------------------\n",
      "loss: 1.036885  [   64/60000]\n",
      "loss: 1.058199  [ 6464/60000]\n",
      "loss: 0.868492  [12864/60000]\n",
      "loss: 1.021641  [19264/60000]\n",
      "loss: 0.900074  [25664/60000]\n",
      "loss: 0.936599  [32064/60000]\n",
      "loss: 0.976476  [38464/60000]\n",
      "loss: 0.916582  [44864/60000]\n",
      "loss: 0.960142  [51264/60000]\n",
      "loss: 0.898316  [57664/60000]\n",
      "Test Error: \n",
      " Accuracy: 67.2%, Avg loss: 0.909541 \n",
      "\n",
      "Epoch 8\n",
      "-------------------------------\n",
      "loss: 0.951060  [   64/60000]\n",
      "loss: 0.989351  [ 6464/60000]\n",
      "loss: 0.786382  [12864/60000]\n",
      "loss: 0.956453  [19264/60000]\n",
      "loss: 0.843366  [25664/60000]\n",
      "loss: 0.868915  [32064/60000]\n",
      "loss: 0.923804  [38464/60000]\n",
      "loss: 0.866950  [44864/60000]\n",
      "loss: 0.903816  [51264/60000]\n",
      "loss: 0.850554  [57664/60000]\n",
      "Test Error: \n",
      " Accuracy: 68.4%, Avg loss: 0.858033 \n",
      "\n",
      "Epoch 9\n",
      "-------------------------------\n",
      "loss: 0.885023  [   64/60000]\n",
      "loss: 0.937637  [ 6464/60000]\n",
      "loss: 0.724878  [12864/60000]\n",
      "loss: 0.907143  [19264/60000]\n",
      "loss: 0.802596  [25664/60000]\n",
      "loss: 0.817417  [32064/60000]\n",
      "loss: 0.883893  [38464/60000]\n",
      "loss: 0.832092  [44864/60000]\n",
      "loss: 0.861639  [51264/60000]\n",
      "loss: 0.814332  [57664/60000]\n",
      "Test Error: \n",
      " Accuracy: 69.5%, Avg loss: 0.818806 \n",
      "\n",
      "Epoch 10\n",
      "-------------------------------\n",
      "loss: 0.832033  [   64/60000]\n",
      "loss: 0.896385  [ 6464/60000]\n",
      "loss: 0.677052  [12864/60000]\n",
      "loss: 0.868666  [19264/60000]\n",
      "loss: 0.771466  [25664/60000]\n",
      "loss: 0.777433  [32064/60000]\n",
      "loss: 0.851530  [38464/60000]\n",
      "loss: 0.806310  [44864/60000]\n",
      "loss: 0.828735  [51264/60000]\n",
      "loss: 0.785565  [57664/60000]\n",
      "Test Error: \n",
      " Accuracy: 71.0%, Avg loss: 0.787590 \n",
      "\n",
      "Done!\n"
     ]
    }
   ],
   "source": [
    "loss_fn = nn.CrossEntropyLoss()\n",
    "optimizer = torch.optim.SGD(model.parameters(), lr=learning_rate)\n",
    "\n",
    "epochs = 10\n",
    "for t in range(epochs):\n",
    "    print(f\"Epoch {t+1}\\n-------------------------------\")\n",
    "    train_loop(train_dataloader, model, loss_fn, optimizer)\n",
    "    test_loop(test_dataloader, model, loss_fn)\n",
    "print(\"Done!\")"
   ]
  },
  {
   "cell_type": "markdown",
   "id": "90478af0",
   "metadata": {
    "papermill": {
     "duration": 0.030034,
     "end_time": "2024-07-26T22:13:24.108780",
     "exception": false,
     "start_time": "2024-07-26T22:13:24.078746",
     "status": "completed"
    },
    "tags": []
   },
   "source": [
    "Further Reading\n",
    "===============\n",
    "\n",
    "-   [Loss\n",
    "    Functions](https://pytorch.org/docs/stable/nn.html#loss-functions)\n",
    "-   [torch.optim](https://pytorch.org/docs/stable/optim.html)\n",
    "-   [Warmstart Training a\n",
    "    Model](https://pytorch.org/tutorials/recipes/recipes/warmstarting_model_using_parameters_from_a_different_model.html)\n"
   ]
  }
 ],
 "metadata": {
  "kaggle": {
   "accelerator": "none",
   "dataSources": [],
   "isGpuEnabled": false,
   "isInternetEnabled": true,
   "language": "python",
   "sourceType": "notebook"
  },
  "kernelspec": {
   "display_name": "Python 3",
   "language": "python",
   "name": "python3"
  },
  "language_info": {
   "codemirror_mode": {
    "name": "ipython",
    "version": 3
   },
   "file_extension": ".py",
   "mimetype": "text/x-python",
   "name": "python",
   "nbconvert_exporter": "python",
   "pygments_lexer": "ipython3",
   "version": "3.10.13"
  },
  "papermill": {
   "default_parameters": {},
   "duration": 139.605908,
   "end_time": "2024-07-26T22:13:25.260243",
   "environment_variables": {},
   "exception": null,
   "input_path": "__notebook__.ipynb",
   "output_path": "__notebook__.ipynb",
   "parameters": {},
   "start_time": "2024-07-26T22:11:05.654335",
   "version": "2.5.0"
  }
 },
 "nbformat": 4,
 "nbformat_minor": 5
}
