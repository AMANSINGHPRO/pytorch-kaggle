{
 "cells": [
  {
   "cell_type": "code",
   "execution_count": 1,
   "id": "786c08e3",
   "metadata": {
    "collapsed": false,
    "execution": {
     "iopub.execute_input": "2024-07-26T23:06:03.219404Z",
     "iopub.status.busy": "2024-07-26T23:06:03.218967Z",
     "iopub.status.idle": "2024-07-26T23:06:03.232808Z",
     "shell.execute_reply": "2024-07-26T23:06:03.231852Z"
    },
    "jupyter": {
     "outputs_hidden": false
    },
    "papermill": {
     "duration": 0.037498,
     "end_time": "2024-07-26T23:06:03.235346",
     "exception": false,
     "start_time": "2024-07-26T23:06:03.197848",
     "status": "completed"
    },
    "tags": []
   },
   "outputs": [],
   "source": [
    "# For tips on running notebooks in Google Colab, see\n",
    "# https://pytorch.org/tutorials/beginner/colab\n",
    "%matplotlib inline"
   ]
  },
  {
   "cell_type": "markdown",
   "id": "0911a4f0",
   "metadata": {
    "papermill": {
     "duration": 0.017472,
     "end_time": "2024-07-26T23:06:03.270612",
     "exception": false,
     "start_time": "2024-07-26T23:06:03.253140",
     "status": "completed"
    },
    "tags": []
   },
   "source": [
    "[Introduction](introyt1_tutorial.html) \\|\\| **Tensors** \\|\\|\n",
    "[Autograd](autogradyt_tutorial.html) \\|\\| [Building\n",
    "Models](modelsyt_tutorial.html) \\|\\| [TensorBoard\n",
    "Support](tensorboardyt_tutorial.html) \\|\\| [Training\n",
    "Models](trainingyt.html) \\|\\| [Model Understanding](captumyt.html)\n",
    "\n",
    "Introduction to PyTorch Tensors\n",
    "===============================\n",
    "\n",
    "Follow along with the video below or on\n",
    "[youtube](https://www.youtube.com/watch?v=r7QDUPb2dCM).\n",
    "\n"
   ]
  },
  {
   "cell_type": "code",
   "execution_count": 2,
   "id": "530c8dfa",
   "metadata": {
    "execution": {
     "iopub.execute_input": "2024-07-26T23:06:03.308263Z",
     "iopub.status.busy": "2024-07-26T23:06:03.307854Z",
     "iopub.status.idle": "2024-07-26T23:06:03.317055Z",
     "shell.execute_reply": "2024-07-26T23:06:03.315995Z"
    },
    "papermill": {
     "duration": 0.031419,
     "end_time": "2024-07-26T23:06:03.319677",
     "exception": false,
     "start_time": "2024-07-26T23:06:03.288258",
     "status": "completed"
    },
    "tags": []
   },
   "outputs": [
    {
     "data": {
      "text/html": [
       "\n",
       "<div style=\"margin-top:10px; margin-bottom:10px;\">\n",
       "  <iframe width=\"560\" height=\"315\" src=\"https://www.youtube.com/embed/r7QDUPb2dCM\" frameborder=\"0\" allow=\"accelerometer; encrypted-media; gyroscope; picture-in-picture\" allowfullscreen></iframe>\n",
       "</div>\n"
      ],
      "text/plain": [
       "<IPython.core.display.HTML object>"
      ]
     },
     "metadata": {},
     "output_type": "display_data"
    }
   ],
   "source": [
    "# Run this cell to load the video\n",
    "from IPython.display import display, HTML\n",
    "html_code = \"\"\"\n",
    "<div style=\"margin-top:10px; margin-bottom:10px;\">\n",
    "  <iframe width=\"560\" height=\"315\" src=\"https://www.youtube.com/embed/r7QDUPb2dCM\" frameborder=\"0\" allow=\"accelerometer; encrypted-media; gyroscope; picture-in-picture\" allowfullscreen></iframe>\n",
    "</div>\n",
    "\"\"\"\n",
    "display(HTML(html_code))"
   ]
  },
  {
   "cell_type": "markdown",
   "id": "b96f05db",
   "metadata": {
    "papermill": {
     "duration": 0.019526,
     "end_time": "2024-07-26T23:06:03.357204",
     "exception": false,
     "start_time": "2024-07-26T23:06:03.337678",
     "status": "completed"
    },
    "tags": []
   },
   "source": [
    "\n",
    "\n",
    "Tensors are the central data abstraction in PyTorch. This interactive\n",
    "notebook provides an in-depth introduction to the `torch.Tensor` class.\n",
    "\n",
    "First things first, let's import the PyTorch module. We'll also add\n",
    "Python's math module to facilitate some of the examples.\n"
   ]
  },
  {
   "cell_type": "code",
   "execution_count": 3,
   "id": "eaba724c",
   "metadata": {
    "collapsed": false,
    "execution": {
     "iopub.execute_input": "2024-07-26T23:06:03.396196Z",
     "iopub.status.busy": "2024-07-26T23:06:03.395756Z",
     "iopub.status.idle": "2024-07-26T23:06:06.931292Z",
     "shell.execute_reply": "2024-07-26T23:06:06.930023Z"
    },
    "jupyter": {
     "outputs_hidden": false
    },
    "papermill": {
     "duration": 3.558898,
     "end_time": "2024-07-26T23:06:06.935263",
     "exception": false,
     "start_time": "2024-07-26T23:06:03.376365",
     "status": "completed"
    },
    "tags": []
   },
   "outputs": [],
   "source": [
    "import torch\n",
    "import math"
   ]
  },
  {
   "cell_type": "markdown",
   "id": "7f7b9fa5",
   "metadata": {
    "papermill": {
     "duration": 0.018431,
     "end_time": "2024-07-26T23:06:06.973509",
     "exception": false,
     "start_time": "2024-07-26T23:06:06.955078",
     "status": "completed"
    },
    "tags": []
   },
   "source": [
    "Creating Tensors\n",
    "================\n",
    "\n",
    "The simplest way to create a tensor is with the `torch.empty()` call:\n"
   ]
  },
  {
   "cell_type": "code",
   "execution_count": 4,
   "id": "632edc92",
   "metadata": {
    "collapsed": false,
    "execution": {
     "iopub.execute_input": "2024-07-26T23:06:07.012350Z",
     "iopub.status.busy": "2024-07-26T23:06:07.011259Z",
     "iopub.status.idle": "2024-07-26T23:06:07.109601Z",
     "shell.execute_reply": "2024-07-26T23:06:07.108148Z"
    },
    "jupyter": {
     "outputs_hidden": false
    },
    "papermill": {
     "duration": 0.120733,
     "end_time": "2024-07-26T23:06:07.112372",
     "exception": false,
     "start_time": "2024-07-26T23:06:06.991639",
     "status": "completed"
    },
    "tags": []
   },
   "outputs": [
    {
     "name": "stdout",
     "output_type": "stream",
     "text": [
      "<class 'torch.Tensor'>\n",
      "tensor([[1.4013e-45, 0.0000e+00, 1.7478e-33, 3.1378e-41],\n",
      "        [1.7478e-33, 3.1378e-41, 1.4013e-45, 0.0000e+00],\n",
      "        [1.7478e-33, 3.1378e-41, 1.7478e-33, 3.1378e-41]])\n"
     ]
    }
   ],
   "source": [
    "x = torch.empty(3, 4)\n",
    "print(type(x))\n",
    "print(x)"
   ]
  },
  {
   "cell_type": "markdown",
   "id": "90ab0241",
   "metadata": {
    "papermill": {
     "duration": 0.023995,
     "end_time": "2024-07-26T23:06:07.154709",
     "exception": false,
     "start_time": "2024-07-26T23:06:07.130714",
     "status": "completed"
    },
    "tags": []
   },
   "source": [
    "Let's unpack what we just did:\n",
    "\n",
    "-   We created a tensor using one of the numerous factory methods\n",
    "    attached to the `torch` module.\n",
    "-   The tensor itself is 2-dimensional, having 3 rows and 4 columns.\n",
    "-   The type of the object returned is `torch.Tensor`, which is an alias\n",
    "    for `torch.FloatTensor`; by default, PyTorch tensors are populated\n",
    "    with 32-bit floating point numbers. (More on data types below.)\n",
    "-   You will probably see some random-looking values when printing your\n",
    "    tensor. The `torch.empty()` call allocates memory for the tensor,\n",
    "    but does not initialize it with any values - so what you're seeing\n",
    "    is whatever was in memory at the time of allocation.\n",
    "\n",
    "A brief note about tensors and their number of dimensions, and\n",
    "terminology:\n",
    "\n",
    "-   You will sometimes see a 1-dimensional tensor called a *vector.*\n",
    "-   Likewise, a 2-dimensional tensor is often referred to as a *matrix.*\n",
    "-   Anything with more than two dimensions is generally just called a\n",
    "    tensor.\n",
    "\n",
    "More often than not, you'll want to initialize your tensor with some\n",
    "value. Common cases are all zeros, all ones, or random values, and the\n",
    "`torch` module provides factory methods for all of these:\n"
   ]
  },
  {
   "cell_type": "code",
   "execution_count": 5,
   "id": "a69965df",
   "metadata": {
    "collapsed": false,
    "execution": {
     "iopub.execute_input": "2024-07-26T23:06:07.197892Z",
     "iopub.status.busy": "2024-07-26T23:06:07.197479Z",
     "iopub.status.idle": "2024-07-26T23:06:07.217847Z",
     "shell.execute_reply": "2024-07-26T23:06:07.215957Z"
    },
    "jupyter": {
     "outputs_hidden": false
    },
    "papermill": {
     "duration": 0.043125,
     "end_time": "2024-07-26T23:06:07.220459",
     "exception": false,
     "start_time": "2024-07-26T23:06:07.177334",
     "status": "completed"
    },
    "tags": []
   },
   "outputs": [
    {
     "name": "stdout",
     "output_type": "stream",
     "text": [
      "tensor([[0., 0., 0.],\n",
      "        [0., 0., 0.]])\n",
      "tensor([[1., 1., 1.],\n",
      "        [1., 1., 1.]])\n",
      "tensor([[0.3126, 0.3791, 0.3087],\n",
      "        [0.0736, 0.4216, 0.0691]])\n"
     ]
    }
   ],
   "source": [
    "zeros = torch.zeros(2, 3)\n",
    "print(zeros)\n",
    "\n",
    "ones = torch.ones(2, 3)\n",
    "print(ones)\n",
    "\n",
    "torch.manual_seed(1729)\n",
    "random = torch.rand(2, 3)\n",
    "print(random)"
   ]
  },
  {
   "cell_type": "markdown",
   "id": "98bdc329",
   "metadata": {
    "papermill": {
     "duration": 0.018255,
     "end_time": "2024-07-26T23:06:07.257459",
     "exception": false,
     "start_time": "2024-07-26T23:06:07.239204",
     "status": "completed"
    },
    "tags": []
   },
   "source": [
    "The factory methods all do just what you'd expect - we have a tensor\n",
    "full of zeros, another full of ones, and another with random values\n",
    "between 0 and 1.\n",
    "\n",
    "Random Tensors and Seeding\n",
    "==========================\n",
    "\n",
    "Speaking of the random tensor, did you notice the call to\n",
    "`torch.manual_seed()` immediately preceding it? Initializing tensors,\n",
    "such as a model's learning weights, with random values is common but\n",
    "there are times - especially in research settings - where you'll want\n",
    "some assurance of the reproducibility of your results. Manually setting\n",
    "your random number generator's seed is the way to do this. Let's look\n",
    "more closely:\n"
   ]
  },
  {
   "cell_type": "code",
   "execution_count": 6,
   "id": "ac7881b2",
   "metadata": {
    "collapsed": false,
    "execution": {
     "iopub.execute_input": "2024-07-26T23:06:07.295515Z",
     "iopub.status.busy": "2024-07-26T23:06:07.295058Z",
     "iopub.status.idle": "2024-07-26T23:06:07.306725Z",
     "shell.execute_reply": "2024-07-26T23:06:07.305233Z"
    },
    "jupyter": {
     "outputs_hidden": false
    },
    "papermill": {
     "duration": 0.033902,
     "end_time": "2024-07-26T23:06:07.309504",
     "exception": false,
     "start_time": "2024-07-26T23:06:07.275602",
     "status": "completed"
    },
    "tags": []
   },
   "outputs": [
    {
     "name": "stdout",
     "output_type": "stream",
     "text": [
      "tensor([[0.3126, 0.3791, 0.3087],\n",
      "        [0.0736, 0.4216, 0.0691]])\n",
      "tensor([[0.2332, 0.4047, 0.2162],\n",
      "        [0.9927, 0.4128, 0.5938]])\n",
      "tensor([[0.3126, 0.3791, 0.3087],\n",
      "        [0.0736, 0.4216, 0.0691]])\n",
      "tensor([[0.2332, 0.4047, 0.2162],\n",
      "        [0.9927, 0.4128, 0.5938]])\n"
     ]
    }
   ],
   "source": [
    "torch.manual_seed(1729)\n",
    "random1 = torch.rand(2, 3)\n",
    "print(random1)\n",
    "\n",
    "random2 = torch.rand(2, 3)\n",
    "print(random2)\n",
    "\n",
    "torch.manual_seed(1729)\n",
    "random3 = torch.rand(2, 3)\n",
    "print(random3)\n",
    "\n",
    "random4 = torch.rand(2, 3)\n",
    "print(random4)"
   ]
  },
  {
   "cell_type": "markdown",
   "id": "63b70336",
   "metadata": {
    "papermill": {
     "duration": 0.018116,
     "end_time": "2024-07-26T23:06:07.346373",
     "exception": false,
     "start_time": "2024-07-26T23:06:07.328257",
     "status": "completed"
    },
    "tags": []
   },
   "source": [
    "What you should see above is that `random1` and `random3` carry\n",
    "identical values, as do `random2` and `random4`. Manually setting the\n",
    "RNG's seed resets it, so that identical computations depending on random\n",
    "number should, in most settings, provide identical results.\n",
    "\n",
    "For more information, see the [PyTorch documentation on\n",
    "reproducibility](https://pytorch.org/docs/stable/notes/randomness.html).\n",
    "\n",
    "Tensor Shapes\n",
    "=============\n",
    "\n",
    "Often, when you're performing operations on two or more tensors, they\n",
    "will need to be of the same *shape* - that is, having the same number of\n",
    "dimensions and the same number of cells in each dimension. For that, we\n",
    "have the `torch.*_like()` methods:\n"
   ]
  },
  {
   "cell_type": "code",
   "execution_count": 7,
   "id": "dc60b750",
   "metadata": {
    "collapsed": false,
    "execution": {
     "iopub.execute_input": "2024-07-26T23:06:07.385584Z",
     "iopub.status.busy": "2024-07-26T23:06:07.385097Z",
     "iopub.status.idle": "2024-07-26T23:06:07.402554Z",
     "shell.execute_reply": "2024-07-26T23:06:07.401252Z"
    },
    "jupyter": {
     "outputs_hidden": false
    },
    "papermill": {
     "duration": 0.040488,
     "end_time": "2024-07-26T23:06:07.405250",
     "exception": false,
     "start_time": "2024-07-26T23:06:07.364762",
     "status": "completed"
    },
    "tags": []
   },
   "outputs": [
    {
     "name": "stdout",
     "output_type": "stream",
     "text": [
      "torch.Size([2, 2, 3])\n",
      "tensor([[[1.9955e-33, 3.1378e-41, 1.9905e-33],\n",
      "         [3.1378e-41, 1.1210e-43, 0.0000e+00]],\n",
      "\n",
      "        [[1.5695e-43, 0.0000e+00, 0.0000e+00],\n",
      "         [0.0000e+00, 0.0000e+00, 0.0000e+00]]])\n",
      "torch.Size([2, 2, 3])\n",
      "tensor([[[ 1.9923e-33,  3.1378e-41,  0.0000e+00],\n",
      "         [ 0.0000e+00,  1.4013e-45,  0.0000e+00]],\n",
      "\n",
      "        [[ 1.9929e-33,  3.1378e-41, -7.6314e+24],\n",
      "         [ 4.5332e-41,  1.9929e-33,  3.1378e-41]]])\n",
      "torch.Size([2, 2, 3])\n",
      "tensor([[[0., 0., 0.],\n",
      "         [0., 0., 0.]],\n",
      "\n",
      "        [[0., 0., 0.],\n",
      "         [0., 0., 0.]]])\n",
      "torch.Size([2, 2, 3])\n",
      "tensor([[[1., 1., 1.],\n",
      "         [1., 1., 1.]],\n",
      "\n",
      "        [[1., 1., 1.],\n",
      "         [1., 1., 1.]]])\n",
      "torch.Size([2, 2, 3])\n",
      "tensor([[[0.6128, 0.1519, 0.0453],\n",
      "         [0.5035, 0.9978, 0.3884]],\n",
      "\n",
      "        [[0.6929, 0.1703, 0.1384],\n",
      "         [0.4759, 0.7481, 0.0361]]])\n"
     ]
    }
   ],
   "source": [
    "x = torch.empty(2, 2, 3)\n",
    "print(x.shape)\n",
    "print(x)\n",
    "\n",
    "empty_like_x = torch.empty_like(x)\n",
    "print(empty_like_x.shape)\n",
    "print(empty_like_x)\n",
    "\n",
    "zeros_like_x = torch.zeros_like(x)\n",
    "print(zeros_like_x.shape)\n",
    "print(zeros_like_x)\n",
    "\n",
    "ones_like_x = torch.ones_like(x)\n",
    "print(ones_like_x.shape)\n",
    "print(ones_like_x)\n",
    "\n",
    "rand_like_x = torch.rand_like(x)\n",
    "print(rand_like_x.shape)\n",
    "print(rand_like_x)"
   ]
  },
  {
   "cell_type": "markdown",
   "id": "780432af",
   "metadata": {
    "papermill": {
     "duration": 0.018284,
     "end_time": "2024-07-26T23:06:07.442239",
     "exception": false,
     "start_time": "2024-07-26T23:06:07.423955",
     "status": "completed"
    },
    "tags": []
   },
   "source": [
    "The first new thing in the code cell above is the use of the `.shape`\n",
    "property on a tensor. This property contains a list of the extent of\n",
    "each dimension of a tensor - in our case, `x` is a three-dimensional\n",
    "tensor with shape 2 x 2 x 3.\n",
    "\n",
    "Below that, we call the `.empty_like()`, `.zeros_like()`,\n",
    "`.ones_like()`, and `.rand_like()` methods. Using the `.shape` property,\n",
    "we can verify that each of these methods returns a tensor of identical\n",
    "dimensionality and extent.\n",
    "\n",
    "The last way to create a tensor that will cover is to specify its data\n",
    "directly from a PyTorch collection:\n"
   ]
  },
  {
   "cell_type": "code",
   "execution_count": 8,
   "id": "178e1cd8",
   "metadata": {
    "collapsed": false,
    "execution": {
     "iopub.execute_input": "2024-07-26T23:06:07.482021Z",
     "iopub.status.busy": "2024-07-26T23:06:07.480980Z",
     "iopub.status.idle": "2024-07-26T23:06:07.491811Z",
     "shell.execute_reply": "2024-07-26T23:06:07.490501Z"
    },
    "jupyter": {
     "outputs_hidden": false
    },
    "papermill": {
     "duration": 0.033576,
     "end_time": "2024-07-26T23:06:07.494431",
     "exception": false,
     "start_time": "2024-07-26T23:06:07.460855",
     "status": "completed"
    },
    "tags": []
   },
   "outputs": [
    {
     "name": "stdout",
     "output_type": "stream",
     "text": [
      "tensor([[3.1416, 2.7183],\n",
      "        [1.6180, 0.0073]])\n",
      "tensor([ 2,  3,  5,  7, 11, 13, 17, 19])\n",
      "tensor([[2, 4, 6],\n",
      "        [3, 6, 9]])\n"
     ]
    }
   ],
   "source": [
    "some_constants = torch.tensor([[3.1415926, 2.71828], [1.61803, 0.0072897]])\n",
    "print(some_constants)\n",
    "\n",
    "some_integers = torch.tensor((2, 3, 5, 7, 11, 13, 17, 19))\n",
    "print(some_integers)\n",
    "\n",
    "more_integers = torch.tensor(((2, 4, 6), [3, 6, 9]))\n",
    "print(more_integers)"
   ]
  },
  {
   "cell_type": "markdown",
   "id": "0bc13e68",
   "metadata": {
    "papermill": {
     "duration": 0.018591,
     "end_time": "2024-07-26T23:06:07.532639",
     "exception": false,
     "start_time": "2024-07-26T23:06:07.514048",
     "status": "completed"
    },
    "tags": []
   },
   "source": [
    "Using `torch.tensor()` is the most straightforward way to create a\n",
    "tensor if you already have data in a Python tuple or list. As shown\n",
    "above, nesting the collections will result in a multi-dimensional\n",
    "tensor.\n",
    "\n",
    "<div style=\"background-color: #54c7ec; color: #fff; font-weight: 700; padding-left: 10px; padding-top: 5px; padding-bottom: 5px\"><strong>NOTE:</strong></div>\n",
    "<div style=\"background-color: #f3f4f7; padding-left: 10px; padding-top: 10px; padding-bottom: 10px; padding-right: 10px\">\n",
    "<p><code>torch.tensor()</code> creates a copy of the data.</p>\n",
    "</div>\n",
    "\n",
    "Tensor Data Types\n",
    "=================\n",
    "\n",
    "Setting the datatype of a tensor is possible a couple of ways:\n"
   ]
  },
  {
   "cell_type": "code",
   "execution_count": 9,
   "id": "72a7292c",
   "metadata": {
    "collapsed": false,
    "execution": {
     "iopub.execute_input": "2024-07-26T23:06:07.572105Z",
     "iopub.status.busy": "2024-07-26T23:06:07.571612Z",
     "iopub.status.idle": "2024-07-26T23:06:07.581976Z",
     "shell.execute_reply": "2024-07-26T23:06:07.580586Z"
    },
    "jupyter": {
     "outputs_hidden": false
    },
    "papermill": {
     "duration": 0.033155,
     "end_time": "2024-07-26T23:06:07.584373",
     "exception": false,
     "start_time": "2024-07-26T23:06:07.551218",
     "status": "completed"
    },
    "tags": []
   },
   "outputs": [
    {
     "name": "stdout",
     "output_type": "stream",
     "text": [
      "tensor([[1, 1, 1],\n",
      "        [1, 1, 1]], dtype=torch.int16)\n",
      "tensor([[ 0.9956,  1.4148,  5.8364],\n",
      "        [11.2406, 11.2083, 11.6692]], dtype=torch.float64)\n",
      "tensor([[ 0,  1,  5],\n",
      "        [11, 11, 11]], dtype=torch.int32)\n"
     ]
    }
   ],
   "source": [
    "a = torch.ones((2, 3), dtype=torch.int16)\n",
    "print(a)\n",
    "\n",
    "b = torch.rand((2, 3), dtype=torch.float64) * 20.\n",
    "print(b)\n",
    "\n",
    "c = b.to(torch.int32)\n",
    "print(c)"
   ]
  },
  {
   "cell_type": "markdown",
   "id": "7981a1f3",
   "metadata": {
    "papermill": {
     "duration": 0.018506,
     "end_time": "2024-07-26T23:06:07.621884",
     "exception": false,
     "start_time": "2024-07-26T23:06:07.603378",
     "status": "completed"
    },
    "tags": []
   },
   "source": [
    "The simplest way to set the underlying data type of a tensor is with an\n",
    "optional argument at creation time. In the first line of the cell above,\n",
    "we set `dtype=torch.int16` for the tensor `a`. When we print `a`, we can\n",
    "see that it's full of `1` rather than `1.` - Python's subtle cue that\n",
    "this is an integer type rather than floating point.\n",
    "\n",
    "Another thing to notice about printing `a` is that, unlike when we left\n",
    "`dtype` as the default (32-bit floating point), printing the tensor also\n",
    "specifies its `dtype`.\n",
    "\n",
    "You may have also spotted that we went from specifying the tensor's\n",
    "shape as a series of integer arguments, to grouping those arguments in a\n",
    "tuple. This is not strictly necessary - PyTorch will take a series of\n",
    "initial, unlabeled integer arguments as a tensor shape - but when adding\n",
    "the optional arguments, it can make your intent more readable.\n",
    "\n",
    "The other way to set the datatype is with the `.to()` method. In the\n",
    "cell above, we create a random floating point tensor `b` in the usual\n",
    "way. Following that, we create `c` by converting `b` to a 32-bit integer\n",
    "with the `.to()` method. Note that `c` contains all the same values as\n",
    "`b`, but truncated to integers.\n",
    "\n",
    "For more information, see the [data types\n",
    "documentation](https://pytorch.org/docs/stable/tensor_attributes.html#torch.dtype).\n",
    "\n",
    "Math & Logic with PyTorch Tensors\n",
    "=================================\n",
    "\n",
    "Now that you know some of the ways to create a tensor... what can you do\n",
    "with them?\n",
    "\n",
    "Let's look at basic arithmetic first, and how tensors interact with\n",
    "simple scalars:\n"
   ]
  },
  {
   "cell_type": "code",
   "execution_count": 10,
   "id": "fcac03cb",
   "metadata": {
    "collapsed": false,
    "execution": {
     "iopub.execute_input": "2024-07-26T23:06:07.662770Z",
     "iopub.status.busy": "2024-07-26T23:06:07.661554Z",
     "iopub.status.idle": "2024-07-26T23:06:07.687587Z",
     "shell.execute_reply": "2024-07-26T23:06:07.685840Z"
    },
    "jupyter": {
     "outputs_hidden": false
    },
    "papermill": {
     "duration": 0.049053,
     "end_time": "2024-07-26T23:06:07.690311",
     "exception": false,
     "start_time": "2024-07-26T23:06:07.641258",
     "status": "completed"
    },
    "tags": []
   },
   "outputs": [
    {
     "name": "stdout",
     "output_type": "stream",
     "text": [
      "tensor([[1., 1.],\n",
      "        [1., 1.]])\n",
      "tensor([[2., 2.],\n",
      "        [2., 2.]])\n",
      "tensor([[3., 3.],\n",
      "        [3., 3.]])\n",
      "tensor([[4., 4.],\n",
      "        [4., 4.]])\n",
      "tensor([[1.4142, 1.4142],\n",
      "        [1.4142, 1.4142]])\n"
     ]
    }
   ],
   "source": [
    "ones = torch.zeros(2, 2) + 1\n",
    "twos = torch.ones(2, 2) * 2\n",
    "threes = (torch.ones(2, 2) * 7 - 1) / 2\n",
    "fours = twos ** 2\n",
    "sqrt2s = twos ** 0.5\n",
    "\n",
    "print(ones)\n",
    "print(twos)\n",
    "print(threes)\n",
    "print(fours)\n",
    "print(sqrt2s)"
   ]
  },
  {
   "cell_type": "markdown",
   "id": "b5a268b8",
   "metadata": {
    "papermill": {
     "duration": 0.019012,
     "end_time": "2024-07-26T23:06:07.728665",
     "exception": false,
     "start_time": "2024-07-26T23:06:07.709653",
     "status": "completed"
    },
    "tags": []
   },
   "source": [
    "As you can see above, arithmetic operations between tensors and scalars,\n",
    "such as addition, subtraction, multiplication, division, and\n",
    "exponentiation are distributed over every element of the tensor. Because\n",
    "the output of such an operation will be a tensor, you can chain them\n",
    "together with the usual operator precedence rules, as in the line where\n",
    "we create `threes`.\n",
    "\n",
    "Similar operations between two tensors also behave like you'd\n",
    "intuitively expect:\n"
   ]
  },
  {
   "cell_type": "code",
   "execution_count": 11,
   "id": "31667e96",
   "metadata": {
    "collapsed": false,
    "execution": {
     "iopub.execute_input": "2024-07-26T23:06:07.771840Z",
     "iopub.status.busy": "2024-07-26T23:06:07.771359Z",
     "iopub.status.idle": "2024-07-26T23:06:07.783742Z",
     "shell.execute_reply": "2024-07-26T23:06:07.782176Z"
    },
    "jupyter": {
     "outputs_hidden": false
    },
    "papermill": {
     "duration": 0.035928,
     "end_time": "2024-07-26T23:06:07.786392",
     "exception": false,
     "start_time": "2024-07-26T23:06:07.750464",
     "status": "completed"
    },
    "tags": []
   },
   "outputs": [
    {
     "name": "stdout",
     "output_type": "stream",
     "text": [
      "tensor([[ 2.,  4.],\n",
      "        [ 8., 16.]])\n",
      "tensor([[5., 5.],\n",
      "        [5., 5.]])\n",
      "tensor([[12., 12.],\n",
      "        [12., 12.]])\n"
     ]
    }
   ],
   "source": [
    "powers2 = twos ** torch.tensor([[1, 2], [3, 4]])\n",
    "print(powers2)\n",
    "\n",
    "fives = ones + fours\n",
    "print(fives)\n",
    "\n",
    "dozens = threes * fours\n",
    "print(dozens)"
   ]
  },
  {
   "cell_type": "markdown",
   "id": "ba090769",
   "metadata": {
    "papermill": {
     "duration": 0.019242,
     "end_time": "2024-07-26T23:06:07.825186",
     "exception": false,
     "start_time": "2024-07-26T23:06:07.805944",
     "status": "completed"
    },
    "tags": []
   },
   "source": [
    "It's important to note here that all of the tensors in the previous code\n",
    "cell were of identical shape. What happens when we try to perform a\n",
    "binary operation on tensors if dissimilar shape?\n",
    "\n",
    "<div style=\"background-color: #54c7ec; color: #fff; font-weight: 700; padding-left: 10px; padding-top: 5px; padding-bottom: 5px\"><strong>NOTE:</strong></div>\n",
    "<div style=\"background-color: #f3f4f7; padding-left: 10px; padding-top: 10px; padding-bottom: 10px; padding-right: 10px\">\n",
    "<p>The following cell throws a run-time error. This is intentional.<pre><code>a = torch.rand(2, 3)\n",
    "b = torch.rand(3, 2)</p>\n",
    "<p>print(a * b)</code></pre></p>\n",
    "</div>\n"
   ]
  },
  {
   "cell_type": "markdown",
   "id": "d7783dc9",
   "metadata": {
    "papermill": {
     "duration": 0.018957,
     "end_time": "2024-07-26T23:06:07.921496",
     "exception": false,
     "start_time": "2024-07-26T23:06:07.902539",
     "status": "completed"
    },
    "tags": []
   },
   "source": [
    "In the general case, you cannot operate on tensors of different shape\n",
    "this way, even in a case like the cell above, where the tensors have an\n",
    "identical number of elements.\n",
    "\n",
    "In Brief: Tensor Broadcasting\n",
    "=============================\n",
    "\n",
    "<div style=\"background-color: #54c7ec; color: #fff; font-weight: 700; padding-left: 10px; padding-top: 5px; padding-bottom: 5px\"><strong>NOTE:</strong></div>\n",
    "<div style=\"background-color: #f3f4f7; padding-left: 10px; padding-top: 10px; padding-bottom: 10px; padding-right: 10px\">\n",
    "<p>If you are familiar with broadcasting semantics in NumPyndarrays, you’ll find the same rules apply here.</p>\n",
    "</div>\n",
    "\n",
    "The exception to the same-shapes rule is *tensor broadcasting.* Here's\n",
    "an example:\n"
   ]
  },
  {
   "cell_type": "code",
   "execution_count": 12,
   "id": "05175ffe",
   "metadata": {
    "collapsed": false,
    "execution": {
     "iopub.execute_input": "2024-07-26T23:06:07.963189Z",
     "iopub.status.busy": "2024-07-26T23:06:07.962749Z",
     "iopub.status.idle": "2024-07-26T23:06:07.971032Z",
     "shell.execute_reply": "2024-07-26T23:06:07.969610Z"
    },
    "jupyter": {
     "outputs_hidden": false
    },
    "papermill": {
     "duration": 0.032612,
     "end_time": "2024-07-26T23:06:07.973355",
     "exception": false,
     "start_time": "2024-07-26T23:06:07.940743",
     "status": "completed"
    },
    "tags": []
   },
   "outputs": [
    {
     "name": "stdout",
     "output_type": "stream",
     "text": [
      "tensor([[0.6146, 0.5999, 0.5013, 0.9397],\n",
      "        [0.8656, 0.5207, 0.6865, 0.3614]])\n",
      "tensor([[1.2291, 1.1998, 1.0026, 1.8793],\n",
      "        [1.7312, 1.0413, 1.3730, 0.7228]])\n"
     ]
    }
   ],
   "source": [
    "rand = torch.rand(2, 4)\n",
    "doubled = rand * (torch.ones(1, 4) * 2)\n",
    "\n",
    "print(rand)\n",
    "print(doubled)"
   ]
  },
  {
   "cell_type": "markdown",
   "id": "5fc9c513",
   "metadata": {
    "papermill": {
     "duration": 0.019075,
     "end_time": "2024-07-26T23:06:08.011848",
     "exception": false,
     "start_time": "2024-07-26T23:06:07.992773",
     "status": "completed"
    },
    "tags": []
   },
   "source": [
    "What's the trick here? How is it we got to multiply a 2x4 tensor by a\n",
    "1x4 tensor?\n",
    "\n",
    "Broadcasting is a way to perform an operation between tensors that have\n",
    "similarities in their shapes. In the example above, the one-row,\n",
    "four-column tensor is multiplied by *both rows* of the two-row,\n",
    "four-column tensor.\n",
    "\n",
    "This is an important operation in Deep Learning. The common example is\n",
    "multiplying a tensor of learning weights by a *batch* of input tensors,\n",
    "applying the operation to each instance in the batch separately, and\n",
    "returning a tensor of identical shape - just like our (2, 4) \\* (1, 4)\n",
    "example above returned a tensor of shape (2, 4).\n",
    "\n",
    "The rules for broadcasting are:\n",
    "\n",
    "-   Each tensor must have at least one dimension - no empty tensors.\n",
    "-   Comparing the dimension sizes of the two tensors, *going from last\n",
    "    to first:*\n",
    "    -   Each dimension must be equal, *or*\n",
    "    -   One of the dimensions must be of size 1, *or*\n",
    "    -   The dimension does not exist in one of the tensors\n",
    "\n",
    "Tensors of identical shape, of course, are trivially \"broadcastable\", as\n",
    "you saw earlier.\n",
    "\n",
    "Here are some examples of situations that honor the above rules and\n",
    "allow broadcasting:\n"
   ]
  },
  {
   "cell_type": "code",
   "execution_count": 13,
   "id": "b520ade3",
   "metadata": {
    "collapsed": false,
    "execution": {
     "iopub.execute_input": "2024-07-26T23:06:08.052907Z",
     "iopub.status.busy": "2024-07-26T23:06:08.051926Z",
     "iopub.status.idle": "2024-07-26T23:06:08.063453Z",
     "shell.execute_reply": "2024-07-26T23:06:08.062109Z"
    },
    "jupyter": {
     "outputs_hidden": false
    },
    "papermill": {
     "duration": 0.034948,
     "end_time": "2024-07-26T23:06:08.066096",
     "exception": false,
     "start_time": "2024-07-26T23:06:08.031148",
     "status": "completed"
    },
    "tags": []
   },
   "outputs": [
    {
     "name": "stdout",
     "output_type": "stream",
     "text": [
      "tensor([[[0.6493, 0.2633],\n",
      "         [0.4762, 0.0548],\n",
      "         [0.2024, 0.5731]],\n",
      "\n",
      "        [[0.6493, 0.2633],\n",
      "         [0.4762, 0.0548],\n",
      "         [0.2024, 0.5731]],\n",
      "\n",
      "        [[0.6493, 0.2633],\n",
      "         [0.4762, 0.0548],\n",
      "         [0.2024, 0.5731]],\n",
      "\n",
      "        [[0.6493, 0.2633],\n",
      "         [0.4762, 0.0548],\n",
      "         [0.2024, 0.5731]]])\n",
      "tensor([[[0.7191, 0.7191],\n",
      "         [0.4067, 0.4067],\n",
      "         [0.7301, 0.7301]],\n",
      "\n",
      "        [[0.7191, 0.7191],\n",
      "         [0.4067, 0.4067],\n",
      "         [0.7301, 0.7301]],\n",
      "\n",
      "        [[0.7191, 0.7191],\n",
      "         [0.4067, 0.4067],\n",
      "         [0.7301, 0.7301]],\n",
      "\n",
      "        [[0.7191, 0.7191],\n",
      "         [0.4067, 0.4067],\n",
      "         [0.7301, 0.7301]]])\n",
      "tensor([[[0.6276, 0.7357],\n",
      "         [0.6276, 0.7357],\n",
      "         [0.6276, 0.7357]],\n",
      "\n",
      "        [[0.6276, 0.7357],\n",
      "         [0.6276, 0.7357],\n",
      "         [0.6276, 0.7357]],\n",
      "\n",
      "        [[0.6276, 0.7357],\n",
      "         [0.6276, 0.7357],\n",
      "         [0.6276, 0.7357]],\n",
      "\n",
      "        [[0.6276, 0.7357],\n",
      "         [0.6276, 0.7357],\n",
      "         [0.6276, 0.7357]]])\n"
     ]
    }
   ],
   "source": [
    "a =     torch.ones(4, 3, 2)\n",
    "\n",
    "b = a * torch.rand(   3, 2) # 3rd & 2nd dims identical to a, dim 1 absent\n",
    "print(b)\n",
    "\n",
    "c = a * torch.rand(   3, 1) # 3rd dim = 1, 2nd dim identical to a\n",
    "print(c)\n",
    "\n",
    "d = a * torch.rand(   1, 2) # 3rd dim identical to a, 2nd dim = 1\n",
    "print(d)"
   ]
  },
  {
   "cell_type": "markdown",
   "id": "729ca1b7",
   "metadata": {
    "papermill": {
     "duration": 0.019543,
     "end_time": "2024-07-26T23:06:08.105359",
     "exception": false,
     "start_time": "2024-07-26T23:06:08.085816",
     "status": "completed"
    },
    "tags": []
   },
   "source": [
    "Look closely at the values of each tensor above:\n",
    "\n",
    "-   The multiplication operation that created `b` was broadcast over\n",
    "    every \"layer\" of `a`.\n",
    "-   For `c`, the operation was broadcast over every layer and row of\n",
    "    `a` - every 3-element column is identical.\n",
    "-   For `d`, we switched it around - now every *row* is identical,\n",
    "    across layers and columns.\n",
    "\n",
    "For more information on broadcasting, see the [PyTorch\n",
    "documentation](https://pytorch.org/docs/stable/notes/broadcasting.html)\n",
    "on the topic.\n",
    "\n",
    "Here are some examples of attempts at broadcasting that will fail:\n",
    "\n",
    "<div style=\"background-color: #54c7ec; color: #fff; font-weight: 700; padding-left: 10px; padding-top: 5px; padding-bottom: 5px\"><strong>NOTE:</strong></div>\n",
    "<div style=\"background-color: #f3f4f7; padding-left: 10px; padding-top: 10px; padding-bottom: 10px; padding-right: 10px\">\n",
    "<p>The following cell throws a run-time error. This is intentional.<pre><code>a =     torch.ones(4, 3, 2)</p>\n",
    "<p>b = a * torch.rand(4, 3)    # dimensions must match last-to-first</p>\n",
    "<p>c = a * torch.rand(   2, 3) # both 3rd &amp; 2nd dims different</p>\n",
    "<p>d = a * torch.rand((0, ))   # can&#x27;t broadcast with an empty tensor</code></pre></p>\n",
    "</div>\n"
   ]
  },
  {
   "cell_type": "markdown",
   "id": "4eb40798",
   "metadata": {
    "papermill": {
     "duration": 0.019381,
     "end_time": "2024-07-26T23:06:08.144681",
     "exception": false,
     "start_time": "2024-07-26T23:06:08.125300",
     "status": "completed"
    },
    "tags": []
   },
   "source": [
    "More Math with Tensors\n",
    "======================\n",
    "\n",
    "PyTorch tensors have over three hundred operations that can be performed\n",
    "on them.\n",
    "\n",
    "Here is a small sample from some of the major categories of operations:\n"
   ]
  },
  {
   "cell_type": "code",
   "execution_count": 14,
   "id": "662a57ba",
   "metadata": {
    "collapsed": false,
    "execution": {
     "iopub.execute_input": "2024-07-26T23:06:08.186479Z",
     "iopub.status.busy": "2024-07-26T23:06:08.186030Z",
     "iopub.status.idle": "2024-07-26T23:06:08.285525Z",
     "shell.execute_reply": "2024-07-26T23:06:08.284136Z"
    },
    "jupyter": {
     "outputs_hidden": false
    },
    "papermill": {
     "duration": 0.1237,
     "end_time": "2024-07-26T23:06:08.288152",
     "exception": false,
     "start_time": "2024-07-26T23:06:08.164452",
     "status": "completed"
    },
    "tags": []
   },
   "outputs": [
    {
     "name": "stdout",
     "output_type": "stream",
     "text": [
      "Common functions:\n",
      "tensor([[0.9238, 0.5724, 0.0791, 0.2629],\n",
      "        [0.1986, 0.4439, 0.6434, 0.4776]])\n",
      "tensor([[-0., -0., 1., -0.],\n",
      "        [-0., 1., 1., -0.]])\n",
      "tensor([[-1., -1.,  0., -1.],\n",
      "        [-1.,  0.,  0., -1.]])\n",
      "tensor([[-0.5000, -0.5000,  0.0791, -0.2629],\n",
      "        [-0.1986,  0.4439,  0.5000, -0.4776]])\n",
      "\n",
      "Sine and arcsine:\n",
      "tensor([0.0000, 0.7854, 1.5708, 2.3562])\n",
      "tensor([0.0000, 0.7071, 1.0000, 0.7071])\n",
      "tensor([0.0000, 0.7854, 1.5708, 0.7854])\n",
      "\n",
      "Bitwise XOR:\n",
      "tensor([3, 2, 1])\n",
      "\n",
      "Broadcasted, element-wise equality comparison:\n",
      "tensor([[ True, False],\n",
      "        [False, False]])\n",
      "\n",
      "Reduction ops:\n",
      "tensor(4.)\n",
      "4.0\n",
      "tensor(2.5000)\n",
      "tensor(1.2910)\n",
      "tensor(24.)\n",
      "tensor([1, 2])\n",
      "\n",
      "Vectors & Matrices:\n",
      "tensor([ 0.,  0., -1.])\n",
      "tensor([[0.7375, 0.8328],\n",
      "        [0.8444, 0.2941]])\n",
      "tensor([[2.2125, 2.4985],\n",
      "        [2.5332, 0.8822]])\n",
      "torch.return_types.svd(\n",
      "U=tensor([[-0.7889, -0.6145],\n",
      "        [-0.6145,  0.7889]]),\n",
      "S=tensor([4.1498, 1.0548]),\n",
      "V=tensor([[-0.7957,  0.6056],\n",
      "        [-0.6056, -0.7957]]))\n"
     ]
    }
   ],
   "source": [
    "# common functions\n",
    "a = torch.rand(2, 4) * 2 - 1\n",
    "print('Common functions:')\n",
    "print(torch.abs(a))\n",
    "print(torch.ceil(a))\n",
    "print(torch.floor(a))\n",
    "print(torch.clamp(a, -0.5, 0.5))\n",
    "\n",
    "# trigonometric functions and their inverses\n",
    "angles = torch.tensor([0, math.pi / 4, math.pi / 2, 3 * math.pi / 4])\n",
    "sines = torch.sin(angles)\n",
    "inverses = torch.asin(sines)\n",
    "print('\\nSine and arcsine:')\n",
    "print(angles)\n",
    "print(sines)\n",
    "print(inverses)\n",
    "\n",
    "# bitwise operations\n",
    "print('\\nBitwise XOR:')\n",
    "b = torch.tensor([1, 5, 11])\n",
    "c = torch.tensor([2, 7, 10])\n",
    "print(torch.bitwise_xor(b, c))\n",
    "\n",
    "# comparisons:\n",
    "print('\\nBroadcasted, element-wise equality comparison:')\n",
    "d = torch.tensor([[1., 2.], [3., 4.]])\n",
    "e = torch.ones(1, 2)  # many comparison ops support broadcasting!\n",
    "print(torch.eq(d, e)) # returns a tensor of type bool\n",
    "\n",
    "# reductions:\n",
    "print('\\nReduction ops:')\n",
    "print(torch.max(d))        # returns a single-element tensor\n",
    "print(torch.max(d).item()) # extracts the value from the returned tensor\n",
    "print(torch.mean(d))       # average\n",
    "print(torch.std(d))        # standard deviation\n",
    "print(torch.prod(d))       # product of all numbers\n",
    "print(torch.unique(torch.tensor([1, 2, 1, 2, 1, 2]))) # filter unique elements\n",
    "\n",
    "# vector and linear algebra operations\n",
    "v1 = torch.tensor([1., 0., 0.])         # x unit vector\n",
    "v2 = torch.tensor([0., 1., 0.])         # y unit vector\n",
    "m1 = torch.rand(2, 2)                   # random matrix\n",
    "m2 = torch.tensor([[3., 0.], [0., 3.]]) # three times identity matrix\n",
    "\n",
    "print('\\nVectors & Matrices:')\n",
    "print(torch.cross(v2, v1)) # negative of z unit vector (v1 x v2 == -v2 x v1)\n",
    "print(m1)\n",
    "m3 = torch.matmul(m1, m2)\n",
    "print(m3)                  # 3 times m1\n",
    "print(torch.svd(m3))       # singular value decomposition"
   ]
  },
  {
   "cell_type": "markdown",
   "id": "a0755bfd",
   "metadata": {
    "papermill": {
     "duration": 0.020519,
     "end_time": "2024-07-26T23:06:08.329188",
     "exception": false,
     "start_time": "2024-07-26T23:06:08.308669",
     "status": "completed"
    },
    "tags": []
   },
   "source": [
    "This is a small sample of operations. For more details and the full\n",
    "inventory of math functions, have a look at the\n",
    "[documentation](https://pytorch.org/docs/stable/torch.html#math-operations).\n",
    "\n",
    "Altering Tensors in Place\n",
    "=========================\n",
    "\n",
    "Most binary operations on tensors will return a third, new tensor. When\n",
    "we say `c = a * b` (where `a` and `b` are tensors), the new tensor `c`\n",
    "will occupy a region of memory distinct from the other tensors.\n",
    "\n",
    "There are times, though, that you may wish to alter a tensor in place\n",
    "-for example, if you're doing an element-wise computation where you can\n",
    "discard intermediate values. For this, most of the math functions have a\n",
    "version with an appended underscore (`_`) that will alter a tensor in\n",
    "place.\n",
    "\n",
    "For example:\n"
   ]
  },
  {
   "cell_type": "code",
   "execution_count": 15,
   "id": "1b905146",
   "metadata": {
    "collapsed": false,
    "execution": {
     "iopub.execute_input": "2024-07-26T23:06:08.371611Z",
     "iopub.status.busy": "2024-07-26T23:06:08.371190Z",
     "iopub.status.idle": "2024-07-26T23:06:08.384477Z",
     "shell.execute_reply": "2024-07-26T23:06:08.383248Z"
    },
    "jupyter": {
     "outputs_hidden": false
    },
    "papermill": {
     "duration": 0.037515,
     "end_time": "2024-07-26T23:06:08.386910",
     "exception": false,
     "start_time": "2024-07-26T23:06:08.349395",
     "status": "completed"
    },
    "tags": []
   },
   "outputs": [
    {
     "name": "stdout",
     "output_type": "stream",
     "text": [
      "a:\n",
      "tensor([0.0000, 0.7854, 1.5708, 2.3562])\n",
      "tensor([0.0000, 0.7071, 1.0000, 0.7071])\n",
      "tensor([0.0000, 0.7854, 1.5708, 2.3562])\n",
      "\n",
      "b:\n",
      "tensor([0.0000, 0.7854, 1.5708, 2.3562])\n",
      "tensor([0.0000, 0.7071, 1.0000, 0.7071])\n",
      "tensor([0.0000, 0.7071, 1.0000, 0.7071])\n"
     ]
    }
   ],
   "source": [
    "a = torch.tensor([0, math.pi / 4, math.pi / 2, 3 * math.pi / 4])\n",
    "print('a:')\n",
    "print(a)\n",
    "print(torch.sin(a))   # this operation creates a new tensor in memory\n",
    "print(a)              # a has not changed\n",
    "\n",
    "b = torch.tensor([0, math.pi / 4, math.pi / 2, 3 * math.pi / 4])\n",
    "print('\\nb:')\n",
    "print(b)\n",
    "print(torch.sin_(b))  # note the underscore\n",
    "print(b)              # b has changed"
   ]
  },
  {
   "cell_type": "markdown",
   "id": "77278cbf",
   "metadata": {
    "papermill": {
     "duration": 0.019882,
     "end_time": "2024-07-26T23:06:08.427238",
     "exception": false,
     "start_time": "2024-07-26T23:06:08.407356",
     "status": "completed"
    },
    "tags": []
   },
   "source": [
    "For arithmetic operations, there are functions that behave similarly:\n"
   ]
  },
  {
   "cell_type": "code",
   "execution_count": 16,
   "id": "f6c5531b",
   "metadata": {
    "collapsed": false,
    "execution": {
     "iopub.execute_input": "2024-07-26T23:06:08.470442Z",
     "iopub.status.busy": "2024-07-26T23:06:08.470019Z",
     "iopub.status.idle": "2024-07-26T23:06:08.485496Z",
     "shell.execute_reply": "2024-07-26T23:06:08.484063Z"
    },
    "jupyter": {
     "outputs_hidden": false
    },
    "papermill": {
     "duration": 0.040193,
     "end_time": "2024-07-26T23:06:08.488031",
     "exception": false,
     "start_time": "2024-07-26T23:06:08.447838",
     "status": "completed"
    },
    "tags": []
   },
   "outputs": [
    {
     "name": "stdout",
     "output_type": "stream",
     "text": [
      "Before:\n",
      "tensor([[1., 1.],\n",
      "        [1., 1.]])\n",
      "tensor([[0.3788, 0.4567],\n",
      "        [0.0649, 0.6677]])\n",
      "\n",
      "After adding:\n",
      "tensor([[1.3788, 1.4567],\n",
      "        [1.0649, 1.6677]])\n",
      "tensor([[1.3788, 1.4567],\n",
      "        [1.0649, 1.6677]])\n",
      "tensor([[0.3788, 0.4567],\n",
      "        [0.0649, 0.6677]])\n",
      "\n",
      "After multiplying\n",
      "tensor([[0.1435, 0.2086],\n",
      "        [0.0042, 0.4459]])\n",
      "tensor([[0.1435, 0.2086],\n",
      "        [0.0042, 0.4459]])\n"
     ]
    }
   ],
   "source": [
    "a = torch.ones(2, 2)\n",
    "b = torch.rand(2, 2)\n",
    "\n",
    "print('Before:')\n",
    "print(a)\n",
    "print(b)\n",
    "print('\\nAfter adding:')\n",
    "print(a.add_(b))\n",
    "print(a)\n",
    "print(b)\n",
    "print('\\nAfter multiplying')\n",
    "print(b.mul_(b))\n",
    "print(b)"
   ]
  },
  {
   "cell_type": "markdown",
   "id": "8ca63818",
   "metadata": {
    "papermill": {
     "duration": 0.020501,
     "end_time": "2024-07-26T23:06:08.529352",
     "exception": false,
     "start_time": "2024-07-26T23:06:08.508851",
     "status": "completed"
    },
    "tags": []
   },
   "source": [
    "Note that these in-place arithmetic functions are methods on the\n",
    "`torch.Tensor` object, not attached to the `torch` module like many\n",
    "other functions (e.g., `torch.sin()`). As you can see from `a.add_(b)`,\n",
    "*the calling tensor is the one that gets changed in place.*\n",
    "\n",
    "There is another option for placing the result of a computation in an\n",
    "existing, allocated tensor. Many of the methods and functions we've seen\n",
    "so far - including creation methods! - have an `out` argument that lets\n",
    "you specify a tensor to receive the output. If the `out` tensor is the\n",
    "correct shape and `dtype`, this can happen without a new memory\n",
    "allocation:\n"
   ]
  },
  {
   "cell_type": "code",
   "execution_count": 17,
   "id": "3faf32bc",
   "metadata": {
    "collapsed": false,
    "execution": {
     "iopub.execute_input": "2024-07-26T23:06:08.572791Z",
     "iopub.status.busy": "2024-07-26T23:06:08.571770Z",
     "iopub.status.idle": "2024-07-26T23:06:08.584564Z",
     "shell.execute_reply": "2024-07-26T23:06:08.583235Z"
    },
    "jupyter": {
     "outputs_hidden": false
    },
    "papermill": {
     "duration": 0.03743,
     "end_time": "2024-07-26T23:06:08.587320",
     "exception": false,
     "start_time": "2024-07-26T23:06:08.549890",
     "status": "completed"
    },
    "tags": []
   },
   "outputs": [
    {
     "name": "stdout",
     "output_type": "stream",
     "text": [
      "tensor([[0., 0.],\n",
      "        [0., 0.]])\n",
      "tensor([[0.3653, 0.8699],\n",
      "        [0.2364, 0.3604]])\n",
      "tensor([[0.0776, 0.4004],\n",
      "        [0.9877, 0.0352]])\n"
     ]
    }
   ],
   "source": [
    "a = torch.rand(2, 2)\n",
    "b = torch.rand(2, 2)\n",
    "c = torch.zeros(2, 2)\n",
    "old_id = id(c)\n",
    "\n",
    "print(c)\n",
    "d = torch.matmul(a, b, out=c)\n",
    "print(c)                # contents of c have changed\n",
    "\n",
    "assert c is d           # test c & d are same object, not just containing equal values\n",
    "assert id(c) == old_id  # make sure that our new c is the same object as the old one\n",
    "\n",
    "torch.rand(2, 2, out=c) # works for creation too!\n",
    "print(c)                # c has changed again\n",
    "assert id(c) == old_id  # still the same object!"
   ]
  },
  {
   "cell_type": "markdown",
   "id": "401bcbb1",
   "metadata": {
    "papermill": {
     "duration": 0.020214,
     "end_time": "2024-07-26T23:06:08.628291",
     "exception": false,
     "start_time": "2024-07-26T23:06:08.608077",
     "status": "completed"
    },
    "tags": []
   },
   "source": [
    "Copying Tensors\n",
    "===============\n",
    "\n",
    "As with any object in Python, assigning a tensor to a variable makes the\n",
    "variable a *label* of the tensor, and does not copy it. For example:\n"
   ]
  },
  {
   "cell_type": "code",
   "execution_count": 18,
   "id": "ba150be9",
   "metadata": {
    "collapsed": false,
    "execution": {
     "iopub.execute_input": "2024-07-26T23:06:08.671370Z",
     "iopub.status.busy": "2024-07-26T23:06:08.670956Z",
     "iopub.status.idle": "2024-07-26T23:06:08.677963Z",
     "shell.execute_reply": "2024-07-26T23:06:08.676889Z"
    },
    "jupyter": {
     "outputs_hidden": false
    },
    "papermill": {
     "duration": 0.031748,
     "end_time": "2024-07-26T23:06:08.680637",
     "exception": false,
     "start_time": "2024-07-26T23:06:08.648889",
     "status": "completed"
    },
    "tags": []
   },
   "outputs": [
    {
     "name": "stdout",
     "output_type": "stream",
     "text": [
      "tensor([[  1., 561.],\n",
      "        [  1.,   1.]])\n"
     ]
    }
   ],
   "source": [
    "a = torch.ones(2, 2)\n",
    "b = a\n",
    "\n",
    "a[0][1] = 561  # we change a...\n",
    "print(b)       # ...and b is also altered"
   ]
  },
  {
   "cell_type": "markdown",
   "id": "1f5339fc",
   "metadata": {
    "papermill": {
     "duration": 0.020526,
     "end_time": "2024-07-26T23:06:08.722271",
     "exception": false,
     "start_time": "2024-07-26T23:06:08.701745",
     "status": "completed"
    },
    "tags": []
   },
   "source": [
    "But what if you want a separate copy of the data to work on? The\n",
    "`clone()` method is there for you:\n"
   ]
  },
  {
   "cell_type": "code",
   "execution_count": 19,
   "id": "de864570",
   "metadata": {
    "collapsed": false,
    "execution": {
     "iopub.execute_input": "2024-07-26T23:06:08.767802Z",
     "iopub.status.busy": "2024-07-26T23:06:08.766779Z",
     "iopub.status.idle": "2024-07-26T23:06:08.775567Z",
     "shell.execute_reply": "2024-07-26T23:06:08.774222Z"
    },
    "jupyter": {
     "outputs_hidden": false
    },
    "papermill": {
     "duration": 0.033701,
     "end_time": "2024-07-26T23:06:08.778149",
     "exception": false,
     "start_time": "2024-07-26T23:06:08.744448",
     "status": "completed"
    },
    "tags": []
   },
   "outputs": [
    {
     "name": "stdout",
     "output_type": "stream",
     "text": [
      "tensor([[True, True],\n",
      "        [True, True]])\n",
      "tensor([[1., 1.],\n",
      "        [1., 1.]])\n"
     ]
    }
   ],
   "source": [
    "a = torch.ones(2, 2)\n",
    "b = a.clone()\n",
    "\n",
    "assert b is not a      # different objects in memory...\n",
    "print(torch.eq(a, b))  # ...but still with the same contents!\n",
    "\n",
    "a[0][1] = 561          # a changes...\n",
    "print(b)               # ...but b is still all ones"
   ]
  },
  {
   "cell_type": "markdown",
   "id": "891c807f",
   "metadata": {
    "papermill": {
     "duration": 0.020548,
     "end_time": "2024-07-26T23:06:08.819689",
     "exception": false,
     "start_time": "2024-07-26T23:06:08.799141",
     "status": "completed"
    },
    "tags": []
   },
   "source": [
    "**There is an important thing to be aware of when using\n",
    "\\`\\`clone()\\`\\`.** If your source tensor has autograd, enabled then so\n",
    "will the clone. **This will be covered more deeply in the video on\n",
    "autograd,** but if you want the light version of the details, continue\n",
    "on.\n",
    "\n",
    "*In many cases, this will be what you want.* For example, if your model\n",
    "has multiple computation paths in its `forward()` method, and *both* the\n",
    "original tensor and its clone contribute to the model's output, then to\n",
    "enable model learning you want autograd turned on for both tensors. If\n",
    "your source tensor has autograd enabled (which it generally will if it's\n",
    "a set of learning weights or derived from a computation involving the\n",
    "weights), then you'll get the result you want.\n",
    "\n",
    "On the other hand, if you're doing a computation where *neither* the\n",
    "original tensor nor its clone need to track gradients, then as long as\n",
    "the source tensor has autograd turned off, you're good to go.\n",
    "\n",
    "*There is a third case,* though: Imagine you're performing a computation\n",
    "in your model's `forward()` function, where gradients are turned on for\n",
    "everything by default, but you want to pull out some values mid-stream\n",
    "to generate some metrics. In this case, you *don't* want the cloned copy\n",
    "of your source tensor to track gradients - performance is improved with\n",
    "autograd's history tracking turned off. For this, you can use the\n",
    "`.detach()` method on the source tensor:\n"
   ]
  },
  {
   "cell_type": "code",
   "execution_count": 20,
   "id": "3733e019",
   "metadata": {
    "collapsed": false,
    "execution": {
     "iopub.execute_input": "2024-07-26T23:06:08.863105Z",
     "iopub.status.busy": "2024-07-26T23:06:08.862706Z",
     "iopub.status.idle": "2024-07-26T23:06:08.872870Z",
     "shell.execute_reply": "2024-07-26T23:06:08.871409Z"
    },
    "jupyter": {
     "outputs_hidden": false
    },
    "papermill": {
     "duration": 0.034692,
     "end_time": "2024-07-26T23:06:08.875335",
     "exception": false,
     "start_time": "2024-07-26T23:06:08.840643",
     "status": "completed"
    },
    "tags": []
   },
   "outputs": [
    {
     "name": "stdout",
     "output_type": "stream",
     "text": [
      "tensor([[0.0905, 0.4485],\n",
      "        [0.8740, 0.2526]], requires_grad=True)\n",
      "tensor([[0.0905, 0.4485],\n",
      "        [0.8740, 0.2526]], grad_fn=<CloneBackward0>)\n",
      "tensor([[0.0905, 0.4485],\n",
      "        [0.8740, 0.2526]])\n",
      "tensor([[0.0905, 0.4485],\n",
      "        [0.8740, 0.2526]], requires_grad=True)\n"
     ]
    }
   ],
   "source": [
    "a = torch.rand(2, 2, requires_grad=True) # turn on autograd\n",
    "print(a)\n",
    "\n",
    "b = a.clone()\n",
    "print(b)\n",
    "\n",
    "c = a.detach().clone()\n",
    "print(c)\n",
    "\n",
    "print(a)"
   ]
  },
  {
   "cell_type": "markdown",
   "id": "f1665aa8",
   "metadata": {
    "papermill": {
     "duration": 0.020986,
     "end_time": "2024-07-26T23:06:08.917809",
     "exception": false,
     "start_time": "2024-07-26T23:06:08.896823",
     "status": "completed"
    },
    "tags": []
   },
   "source": [
    "What's happening here?\n",
    "\n",
    "-   We create `a` with `requires_grad=True` turned on. **We haven't\n",
    "    covered this optional argument yet, but will during the unit on\n",
    "    autograd.**\n",
    "-   When we print `a`, it informs us that the property\n",
    "    `requires_grad=True` - this means that autograd and computation\n",
    "    history tracking are turned on.\n",
    "-   We clone `a` and label it `b`. When we print `b`, we can see that\n",
    "    it's tracking its computation history - it has inherited `a`'s\n",
    "    autograd settings, and added to the computation history.\n",
    "-   We clone `a` into `c`, but we call `detach()` first.\n",
    "-   Printing `c`, we see no computation history, and no\n",
    "    `requires_grad=True`.\n",
    "\n",
    "The `detach()` method *detaches the tensor from its computation\n",
    "history.* It says, \"do whatever comes next as if autograd was off.\" It\n",
    "does this *without* changing `a` - you can see that when we print `a`\n",
    "again at the end, it retains its `requires_grad=True` property.\n",
    "\n",
    "Moving to GPU\n",
    "=============\n",
    "\n",
    "One of the major advantages of PyTorch is its robust acceleration on\n",
    "CUDA-compatible Nvidia GPUs. (\"CUDA\" stands for *Compute Unified Device\n",
    "Architecture*, which is Nvidia's platform for parallel computing.) So\n",
    "far, everything we've done has been on CPU. How do we move to the faster\n",
    "hardware?\n",
    "\n",
    "First, we should check whether a GPU is available, with the\n",
    "`is_available()` method.\n",
    "\n",
    "<div style=\"background-color: #54c7ec; color: #fff; font-weight: 700; padding-left: 10px; padding-top: 5px; padding-bottom: 5px\"><strong>NOTE:</strong></div>\n",
    "<div style=\"background-color: #f3f4f7; padding-left: 10px; padding-top: 10px; padding-bottom: 10px; padding-right: 10px\">\n",
    "<p>If you do not have a CUDA-compatible GPU and CUDA driversinstalled, the executable cells in this section will not execute anyGPU-related code.</p>\n",
    "</div>\n"
   ]
  },
  {
   "cell_type": "code",
   "execution_count": 21,
   "id": "82940f79",
   "metadata": {
    "collapsed": false,
    "execution": {
     "iopub.execute_input": "2024-07-26T23:06:08.962032Z",
     "iopub.status.busy": "2024-07-26T23:06:08.961233Z",
     "iopub.status.idle": "2024-07-26T23:06:08.967992Z",
     "shell.execute_reply": "2024-07-26T23:06:08.966765Z"
    },
    "jupyter": {
     "outputs_hidden": false
    },
    "papermill": {
     "duration": 0.031518,
     "end_time": "2024-07-26T23:06:08.970534",
     "exception": false,
     "start_time": "2024-07-26T23:06:08.939016",
     "status": "completed"
    },
    "tags": []
   },
   "outputs": [
    {
     "name": "stdout",
     "output_type": "stream",
     "text": [
      "Sorry, CPU only.\n"
     ]
    }
   ],
   "source": [
    "if torch.cuda.is_available():\n",
    "    print('We have a GPU!')\n",
    "else:\n",
    "    print('Sorry, CPU only.')"
   ]
  },
  {
   "cell_type": "markdown",
   "id": "6fbcf6b8",
   "metadata": {
    "papermill": {
     "duration": 0.020996,
     "end_time": "2024-07-26T23:06:09.012996",
     "exception": false,
     "start_time": "2024-07-26T23:06:08.992000",
     "status": "completed"
    },
    "tags": []
   },
   "source": [
    "Once we've determined that one or more GPUs is available, we need to put\n",
    "our data someplace where the GPU can see it. Your CPU does computation\n",
    "on data in your computer's RAM. Your GPU has dedicated memory attached\n",
    "to it. Whenever you want to perform a computation on a device, you must\n",
    "move *all* the data needed for that computation to memory accessible by\n",
    "that device. (Colloquially, \"moving the data to memory accessible by the\n",
    "GPU\" is shorted to, \"moving the data to the GPU\".)\n",
    "\n",
    "There are multiple ways to get your data onto your target device. You\n",
    "may do it at creation time:\n"
   ]
  },
  {
   "cell_type": "code",
   "execution_count": 22,
   "id": "43bc8283",
   "metadata": {
    "collapsed": false,
    "execution": {
     "iopub.execute_input": "2024-07-26T23:06:09.057649Z",
     "iopub.status.busy": "2024-07-26T23:06:09.056841Z",
     "iopub.status.idle": "2024-07-26T23:06:09.062953Z",
     "shell.execute_reply": "2024-07-26T23:06:09.061710Z"
    },
    "jupyter": {
     "outputs_hidden": false
    },
    "papermill": {
     "duration": 0.031694,
     "end_time": "2024-07-26T23:06:09.065954",
     "exception": false,
     "start_time": "2024-07-26T23:06:09.034260",
     "status": "completed"
    },
    "tags": []
   },
   "outputs": [
    {
     "name": "stdout",
     "output_type": "stream",
     "text": [
      "Sorry, CPU only.\n"
     ]
    }
   ],
   "source": [
    "if torch.cuda.is_available():\n",
    "    gpu_rand = torch.rand(2, 2, device='cuda')\n",
    "    print(gpu_rand)\n",
    "else:\n",
    "    print('Sorry, CPU only.')"
   ]
  },
  {
   "cell_type": "markdown",
   "id": "7b261136",
   "metadata": {
    "papermill": {
     "duration": 0.021338,
     "end_time": "2024-07-26T23:06:09.109009",
     "exception": false,
     "start_time": "2024-07-26T23:06:09.087671",
     "status": "completed"
    },
    "tags": []
   },
   "source": [
    "By default, new tensors are created on the CPU, so we have to specify\n",
    "when we want to create our tensor on the GPU with the optional `device`\n",
    "argument. You can see when we print the new tensor, PyTorch informs us\n",
    "which device it's on (if it's not on CPU).\n",
    "\n",
    "You can query the number of GPUs with `torch.cuda.device_count()`. If\n",
    "you have more than one GPU, you can specify them by index:\n",
    "`device='cuda:0'`, `device='cuda:1'`, etc.\n",
    "\n",
    "As a coding practice, specifying our devices everywhere with string\n",
    "constants is pretty fragile. In an ideal world, your code would perform\n",
    "robustly whether you're on CPU or GPU hardware. You can do this by\n",
    "creating a device handle that can be passed to your tensors instead of a\n",
    "string:\n"
   ]
  },
  {
   "cell_type": "code",
   "execution_count": 23,
   "id": "33c9f45a",
   "metadata": {
    "collapsed": false,
    "execution": {
     "iopub.execute_input": "2024-07-26T23:06:09.154429Z",
     "iopub.status.busy": "2024-07-26T23:06:09.153965Z",
     "iopub.status.idle": "2024-07-26T23:06:09.162072Z",
     "shell.execute_reply": "2024-07-26T23:06:09.160801Z"
    },
    "jupyter": {
     "outputs_hidden": false
    },
    "papermill": {
     "duration": 0.033526,
     "end_time": "2024-07-26T23:06:09.164497",
     "exception": false,
     "start_time": "2024-07-26T23:06:09.130971",
     "status": "completed"
    },
    "tags": []
   },
   "outputs": [
    {
     "name": "stdout",
     "output_type": "stream",
     "text": [
      "Device: cpu\n",
      "tensor([[0.6923, 0.7545],\n",
      "        [0.7746, 0.2330]])\n"
     ]
    }
   ],
   "source": [
    "if torch.cuda.is_available():\n",
    "    my_device = torch.device('cuda')\n",
    "else:\n",
    "    my_device = torch.device('cpu')\n",
    "print('Device: {}'.format(my_device))\n",
    "\n",
    "x = torch.rand(2, 2, device=my_device)\n",
    "print(x)"
   ]
  },
  {
   "cell_type": "markdown",
   "id": "5a890749",
   "metadata": {
    "papermill": {
     "duration": 0.021617,
     "end_time": "2024-07-26T23:06:09.207727",
     "exception": false,
     "start_time": "2024-07-26T23:06:09.186110",
     "status": "completed"
    },
    "tags": []
   },
   "source": [
    "If you have an existing tensor living on one device, you can move it to\n",
    "another with the `to()` method. The following line of code creates a\n",
    "tensor on CPU, and moves it to whichever device handle you acquired in\n",
    "the previous cell.\n"
   ]
  },
  {
   "cell_type": "code",
   "execution_count": 24,
   "id": "1560ff67",
   "metadata": {
    "collapsed": false,
    "execution": {
     "iopub.execute_input": "2024-07-26T23:06:09.253199Z",
     "iopub.status.busy": "2024-07-26T23:06:09.252777Z",
     "iopub.status.idle": "2024-07-26T23:06:09.258369Z",
     "shell.execute_reply": "2024-07-26T23:06:09.257242Z"
    },
    "jupyter": {
     "outputs_hidden": false
    },
    "papermill": {
     "duration": 0.03119,
     "end_time": "2024-07-26T23:06:09.260816",
     "exception": false,
     "start_time": "2024-07-26T23:06:09.229626",
     "status": "completed"
    },
    "tags": []
   },
   "outputs": [],
   "source": [
    "y = torch.rand(2, 2)\n",
    "y = y.to(my_device)"
   ]
  },
  {
   "cell_type": "markdown",
   "id": "6a3ebe4b",
   "metadata": {
    "papermill": {
     "duration": 0.021932,
     "end_time": "2024-07-26T23:06:09.305006",
     "exception": false,
     "start_time": "2024-07-26T23:06:09.283074",
     "status": "completed"
    },
    "tags": []
   },
   "source": [
    "It is important to know that in order to do computation involving two or\n",
    "more tensors, *all of the tensors must be on the same device*. The\n",
    "following code will throw a runtime error, regardless of whether you\n",
    "have a GPU device available:\n",
    "\n",
    "``` {.sourceCode .python}\n",
    "x = torch.rand(2, 2)\n",
    "y = torch.rand(2, 2, device='gpu')\n",
    "z = x + y  # exception will be thrown\n",
    "```\n"
   ]
  },
  {
   "cell_type": "markdown",
   "id": "32536b3b",
   "metadata": {
    "papermill": {
     "duration": 0.021707,
     "end_time": "2024-07-26T23:06:09.349443",
     "exception": false,
     "start_time": "2024-07-26T23:06:09.327736",
     "status": "completed"
    },
    "tags": []
   },
   "source": [
    "Manipulating Tensor Shapes\n",
    "==========================\n",
    "\n",
    "Sometimes, you'll need to change the shape of your tensor. Below, we'll\n",
    "look at a few common cases, and how to handle them.\n",
    "\n",
    "Changing the Number of Dimensions\n",
    "---------------------------------\n",
    "\n",
    "One case where you might need to change the number of dimensions is\n",
    "passing a single instance of input to your model. PyTorch models\n",
    "generally expect *batches* of input.\n",
    "\n",
    "For example, imagine having a model that works on 3 x 226 x 226 images\n",
    "-a 226-pixel square with 3 color channels. When you load and transform\n",
    "it, you'll get a tensor of shape `(3, 226, 226)`. Your model, though, is\n",
    "expecting input of shape `(N, 3, 226, 226)`, where `N` is the number of\n",
    "images in the batch. So how do you make a batch of one?\n"
   ]
  },
  {
   "cell_type": "code",
   "execution_count": 25,
   "id": "c06a6434",
   "metadata": {
    "collapsed": false,
    "execution": {
     "iopub.execute_input": "2024-07-26T23:06:09.395307Z",
     "iopub.status.busy": "2024-07-26T23:06:09.394905Z",
     "iopub.status.idle": "2024-07-26T23:06:09.406228Z",
     "shell.execute_reply": "2024-07-26T23:06:09.404976Z"
    },
    "jupyter": {
     "outputs_hidden": false
    },
    "papermill": {
     "duration": 0.036991,
     "end_time": "2024-07-26T23:06:09.408551",
     "exception": false,
     "start_time": "2024-07-26T23:06:09.371560",
     "status": "completed"
    },
    "tags": []
   },
   "outputs": [
    {
     "name": "stdout",
     "output_type": "stream",
     "text": [
      "torch.Size([3, 226, 226])\n",
      "torch.Size([1, 3, 226, 226])\n"
     ]
    }
   ],
   "source": [
    "a = torch.rand(3, 226, 226)\n",
    "b = a.unsqueeze(0)\n",
    "\n",
    "print(a.shape)\n",
    "print(b.shape)"
   ]
  },
  {
   "cell_type": "markdown",
   "id": "7b54344e",
   "metadata": {
    "papermill": {
     "duration": 0.021613,
     "end_time": "2024-07-26T23:06:09.452680",
     "exception": false,
     "start_time": "2024-07-26T23:06:09.431067",
     "status": "completed"
    },
    "tags": []
   },
   "source": [
    "The `unsqueeze()` method adds a dimension of extent 1. `unsqueeze(0)`\n",
    "adds it as a new zeroth dimension - now you have a batch of one!\n",
    "\n",
    "So if that's *un*squeezing? What do we mean by squeezing? We're taking\n",
    "advantage of the fact that any dimension of extent 1 *does not* change\n",
    "the number of elements in the tensor.\n"
   ]
  },
  {
   "cell_type": "code",
   "execution_count": 26,
   "id": "d5037c34",
   "metadata": {
    "collapsed": false,
    "execution": {
     "iopub.execute_input": "2024-07-26T23:06:09.498971Z",
     "iopub.status.busy": "2024-07-26T23:06:09.498585Z",
     "iopub.status.idle": "2024-07-26T23:06:09.506012Z",
     "shell.execute_reply": "2024-07-26T23:06:09.504553Z"
    },
    "jupyter": {
     "outputs_hidden": false
    },
    "papermill": {
     "duration": 0.034013,
     "end_time": "2024-07-26T23:06:09.508661",
     "exception": false,
     "start_time": "2024-07-26T23:06:09.474648",
     "status": "completed"
    },
    "tags": []
   },
   "outputs": [
    {
     "name": "stdout",
     "output_type": "stream",
     "text": [
      "tensor([[[[[0.1506]]]]])\n"
     ]
    }
   ],
   "source": [
    "c = torch.rand(1, 1, 1, 1, 1)\n",
    "print(c)"
   ]
  },
  {
   "cell_type": "markdown",
   "id": "ab8b27d9",
   "metadata": {
    "papermill": {
     "duration": 0.021761,
     "end_time": "2024-07-26T23:06:09.552651",
     "exception": false,
     "start_time": "2024-07-26T23:06:09.530890",
     "status": "completed"
    },
    "tags": []
   },
   "source": [
    "Continuing the example above, let's say the model's output is a\n",
    "20-element vector for each input. You would then expect the output to\n",
    "have shape `(N, 20)`, where `N` is the number of instances in the input\n",
    "batch. That means that for our single-input batch, we'll get an output\n",
    "of shape `(1, 20)`.\n",
    "\n",
    "What if you want to do some *non-batched* computation with that output\n",
    "-something that's just expecting a 20-element vector?\n"
   ]
  },
  {
   "cell_type": "code",
   "execution_count": 27,
   "id": "7354602c",
   "metadata": {
    "collapsed": false,
    "execution": {
     "iopub.execute_input": "2024-07-26T23:06:09.598971Z",
     "iopub.status.busy": "2024-07-26T23:06:09.598563Z",
     "iopub.status.idle": "2024-07-26T23:06:09.609294Z",
     "shell.execute_reply": "2024-07-26T23:06:09.607990Z"
    },
    "jupyter": {
     "outputs_hidden": false
    },
    "papermill": {
     "duration": 0.037024,
     "end_time": "2024-07-26T23:06:09.611690",
     "exception": false,
     "start_time": "2024-07-26T23:06:09.574666",
     "status": "completed"
    },
    "tags": []
   },
   "outputs": [
    {
     "name": "stdout",
     "output_type": "stream",
     "text": [
      "torch.Size([1, 20])\n",
      "tensor([[0.9585, 0.7756, 0.8973, 0.4929, 0.2367, 0.8194, 0.4509, 0.2690, 0.8381,\n",
      "         0.8207, 0.6818, 0.5057, 0.9335, 0.9769, 0.2792, 0.3277, 0.5210, 0.7349,\n",
      "         0.7823, 0.8637]])\n",
      "torch.Size([20])\n",
      "tensor([0.9585, 0.7756, 0.8973, 0.4929, 0.2367, 0.8194, 0.4509, 0.2690, 0.8381,\n",
      "        0.8207, 0.6818, 0.5057, 0.9335, 0.9769, 0.2792, 0.3277, 0.5210, 0.7349,\n",
      "        0.7823, 0.8637])\n",
      "torch.Size([2, 2])\n",
      "torch.Size([2, 2])\n"
     ]
    }
   ],
   "source": [
    "a = torch.rand(1, 20)\n",
    "print(a.shape)\n",
    "print(a)\n",
    "\n",
    "b = a.squeeze(0)\n",
    "print(b.shape)\n",
    "print(b)\n",
    "\n",
    "c = torch.rand(2, 2)\n",
    "print(c.shape)\n",
    "\n",
    "d = c.squeeze(0)\n",
    "print(d.shape)"
   ]
  },
  {
   "cell_type": "markdown",
   "id": "f13c1ac4",
   "metadata": {
    "papermill": {
     "duration": 0.021906,
     "end_time": "2024-07-26T23:06:09.655933",
     "exception": false,
     "start_time": "2024-07-26T23:06:09.634027",
     "status": "completed"
    },
    "tags": []
   },
   "source": [
    "You can see from the shapes that our 2-dimensional tensor is now\n",
    "1-dimensional, and if you look closely at the output of the cell above\n",
    "you'll see that printing `a` shows an \"extra\" set of square brackets\n",
    "`[]` due to having an extra dimension.\n",
    "\n",
    "You may only `squeeze()` dimensions of extent 1. See above where we try\n",
    "to squeeze a dimension of size 2 in `c`, and get back the same shape we\n",
    "started with. Calls to `squeeze()` and `unsqueeze()` can only act on\n",
    "dimensions of extent 1 because to do otherwise would change the number\n",
    "of elements in the tensor.\n",
    "\n",
    "Another place you might use `unsqueeze()` is to ease broadcasting.\n",
    "Recall the example above where we had the following code:\n",
    "\n",
    "``` {.sourceCode .python}\n",
    "a = torch.ones(4, 3, 2)\n",
    "\n",
    "c = a * torch.rand(   3, 1) # 3rd dim = 1, 2nd dim identical to a\n",
    "print(c)\n",
    "```\n",
    "\n",
    "The net effect of that was to broadcast the operation over dimensions 0\n",
    "and 2, causing the random, 3 x 1 tensor to be multiplied element-wise by\n",
    "every 3-element column in `a`.\n",
    "\n",
    "What if the random vector had just been 3-element vector? We'd lose the\n",
    "ability to do the broadcast, because the final dimensions would not\n",
    "match up according to the broadcasting rules. `unsqueeze()` comes to the\n",
    "rescue:\n"
   ]
  },
  {
   "cell_type": "code",
   "execution_count": 28,
   "id": "0b8fab72",
   "metadata": {
    "collapsed": false,
    "execution": {
     "iopub.execute_input": "2024-07-26T23:06:09.710503Z",
     "iopub.status.busy": "2024-07-26T23:06:09.709869Z",
     "iopub.status.idle": "2024-07-26T23:06:09.720358Z",
     "shell.execute_reply": "2024-07-26T23:06:09.718916Z"
    },
    "jupyter": {
     "outputs_hidden": false
    },
    "papermill": {
     "duration": 0.044699,
     "end_time": "2024-07-26T23:06:09.723264",
     "exception": false,
     "start_time": "2024-07-26T23:06:09.678565",
     "status": "completed"
    },
    "tags": []
   },
   "outputs": [
    {
     "name": "stdout",
     "output_type": "stream",
     "text": [
      "torch.Size([3, 1])\n",
      "tensor([[[0.4887, 0.4887],\n",
      "         [0.8625, 0.8625],\n",
      "         [0.6191, 0.6191]],\n",
      "\n",
      "        [[0.4887, 0.4887],\n",
      "         [0.8625, 0.8625],\n",
      "         [0.6191, 0.6191]],\n",
      "\n",
      "        [[0.4887, 0.4887],\n",
      "         [0.8625, 0.8625],\n",
      "         [0.6191, 0.6191]],\n",
      "\n",
      "        [[0.4887, 0.4887],\n",
      "         [0.8625, 0.8625],\n",
      "         [0.6191, 0.6191]]])\n"
     ]
    }
   ],
   "source": [
    "a = torch.ones(4, 3, 2)\n",
    "b = torch.rand(   3)     # trying to multiply a * b will give a runtime error\n",
    "c = b.unsqueeze(1)       # change to a 2-dimensional tensor, adding new dim at the end\n",
    "print(c.shape)\n",
    "print(a * c)             # broadcasting works again!"
   ]
  },
  {
   "cell_type": "markdown",
   "id": "268cc04e",
   "metadata": {
    "papermill": {
     "duration": 0.022481,
     "end_time": "2024-07-26T23:06:09.773694",
     "exception": false,
     "start_time": "2024-07-26T23:06:09.751213",
     "status": "completed"
    },
    "tags": []
   },
   "source": [
    "The `squeeze()` and `unsqueeze()` methods also have in-place versions,\n",
    "`squeeze_()` and `unsqueeze_()`:\n"
   ]
  },
  {
   "cell_type": "code",
   "execution_count": 29,
   "id": "18a78430",
   "metadata": {
    "collapsed": false,
    "execution": {
     "iopub.execute_input": "2024-07-26T23:06:09.821376Z",
     "iopub.status.busy": "2024-07-26T23:06:09.820116Z",
     "iopub.status.idle": "2024-07-26T23:06:09.828740Z",
     "shell.execute_reply": "2024-07-26T23:06:09.827424Z"
    },
    "jupyter": {
     "outputs_hidden": false
    },
    "papermill": {
     "duration": 0.035186,
     "end_time": "2024-07-26T23:06:09.831450",
     "exception": false,
     "start_time": "2024-07-26T23:06:09.796264",
     "status": "completed"
    },
    "tags": []
   },
   "outputs": [
    {
     "name": "stdout",
     "output_type": "stream",
     "text": [
      "torch.Size([3, 226, 226])\n",
      "torch.Size([1, 3, 226, 226])\n"
     ]
    }
   ],
   "source": [
    "batch_me = torch.rand(3, 226, 226)\n",
    "print(batch_me.shape)\n",
    "batch_me.unsqueeze_(0)\n",
    "print(batch_me.shape)"
   ]
  },
  {
   "cell_type": "markdown",
   "id": "00475f15",
   "metadata": {
    "papermill": {
     "duration": 0.031308,
     "end_time": "2024-07-26T23:06:09.891673",
     "exception": false,
     "start_time": "2024-07-26T23:06:09.860365",
     "status": "completed"
    },
    "tags": []
   },
   "source": [
    "Sometimes you'll want to change the shape of a tensor more radically,\n",
    "while still preserving the number of elements and their contents. One\n",
    "case where this happens is at the interface between a convolutional\n",
    "layer of a model and a linear layer of the model - this is common in\n",
    "image classification models. A convolution kernel will yield an output\n",
    "tensor of shape *features x width x height,* but the following linear\n",
    "layer expects a 1-dimensional input. `reshape()` will do this for you,\n",
    "provided that the dimensions you request yield the same number of\n",
    "elements as the input tensor has:\n"
   ]
  },
  {
   "cell_type": "code",
   "execution_count": 30,
   "id": "3b63bbf6",
   "metadata": {
    "collapsed": false,
    "execution": {
     "iopub.execute_input": "2024-07-26T23:06:09.944203Z",
     "iopub.status.busy": "2024-07-26T23:06:09.943467Z",
     "iopub.status.idle": "2024-07-26T23:06:09.950622Z",
     "shell.execute_reply": "2024-07-26T23:06:09.949451Z"
    },
    "jupyter": {
     "outputs_hidden": false
    },
    "papermill": {
     "duration": 0.034567,
     "end_time": "2024-07-26T23:06:09.953753",
     "exception": false,
     "start_time": "2024-07-26T23:06:09.919186",
     "status": "completed"
    },
    "tags": []
   },
   "outputs": [
    {
     "name": "stdout",
     "output_type": "stream",
     "text": [
      "torch.Size([6, 20, 20])\n",
      "torch.Size([2400])\n",
      "torch.Size([2400])\n"
     ]
    }
   ],
   "source": [
    "output3d = torch.rand(6, 20, 20)\n",
    "print(output3d.shape)\n",
    "\n",
    "input1d = output3d.reshape(6 * 20 * 20)\n",
    "print(input1d.shape)\n",
    "\n",
    "# can also call it as a method on the torch module:\n",
    "print(torch.reshape(output3d, (6 * 20 * 20,)).shape)"
   ]
  },
  {
   "cell_type": "markdown",
   "id": "f64e1623",
   "metadata": {
    "papermill": {
     "duration": 0.02261,
     "end_time": "2024-07-26T23:06:09.999348",
     "exception": false,
     "start_time": "2024-07-26T23:06:09.976738",
     "status": "completed"
    },
    "tags": []
   },
   "source": [
    "<div style=\"background-color: #54c7ec; color: #fff; font-weight: 700; padding-left: 10px; padding-top: 5px; padding-bottom: 5px\"><strong>NOTE:</strong></div>\n",
    "<div style=\"background-color: #f3f4f7; padding-left: 10px; padding-top: 10px; padding-bottom: 10px; padding-right: 10px\">\n",
    "<p>The <code>(6 * 20 * 20,)</code> argument in the final line of the cellabove is because PyTorch expects a  when specifying atensor shape - but when the shape is the first argument of a method, itlets us cheat and just use a series of integers. Here, we had to add theparentheses and comma to convince the method that this is really aone-element tuple.</p>\n",
    "</div>\n",
    "\n",
    "When it can, `reshape()` will return a *view* on the tensor to be\n",
    "changed - that is, a separate tensor object looking at the same\n",
    "underlying region of memory. *This is important:* That means any change\n",
    "made to the source tensor will be reflected in the view on that tensor,\n",
    "unless you `clone()` it.\n",
    "\n",
    "There *are* conditions, beyond the scope of this introduction, where\n",
    "`reshape()` has to return a tensor carrying a copy of the data. For more\n",
    "information, see the\n",
    "[docs](https://pytorch.org/docs/stable/torch.html#torch.reshape).\n"
   ]
  },
  {
   "cell_type": "markdown",
   "id": "f56e173e",
   "metadata": {
    "papermill": {
     "duration": 0.022808,
     "end_time": "2024-07-26T23:06:10.044804",
     "exception": false,
     "start_time": "2024-07-26T23:06:10.021996",
     "status": "completed"
    },
    "tags": []
   },
   "source": [
    "NumPy Bridge\n",
    "============\n",
    "\n",
    "In the section above on broadcasting, it was mentioned that PyTorch's\n",
    "broadcast semantics are compatible with NumPy's - but the kinship\n",
    "between PyTorch and NumPy goes even deeper than that.\n",
    "\n",
    "If you have existing ML or scientific code with data stored in NumPy\n",
    "ndarrays, you may wish to express that same data as PyTorch tensors,\n",
    "whether to take advantage of PyTorch's GPU acceleration, or its\n",
    "efficient abstractions for building ML models. It's easy to switch\n",
    "between ndarrays and PyTorch tensors:\n"
   ]
  },
  {
   "cell_type": "code",
   "execution_count": 31,
   "id": "3586f4e4",
   "metadata": {
    "collapsed": false,
    "execution": {
     "iopub.execute_input": "2024-07-26T23:06:10.099609Z",
     "iopub.status.busy": "2024-07-26T23:06:10.099199Z",
     "iopub.status.idle": "2024-07-26T23:06:10.108571Z",
     "shell.execute_reply": "2024-07-26T23:06:10.107216Z"
    },
    "jupyter": {
     "outputs_hidden": false
    },
    "papermill": {
     "duration": 0.038695,
     "end_time": "2024-07-26T23:06:10.111172",
     "exception": false,
     "start_time": "2024-07-26T23:06:10.072477",
     "status": "completed"
    },
    "tags": []
   },
   "outputs": [
    {
     "name": "stdout",
     "output_type": "stream",
     "text": [
      "[[1. 1. 1.]\n",
      " [1. 1. 1.]]\n",
      "tensor([[1., 1., 1.],\n",
      "        [1., 1., 1.]], dtype=torch.float64)\n"
     ]
    }
   ],
   "source": [
    "import numpy as np\n",
    "\n",
    "numpy_array = np.ones((2, 3))\n",
    "print(numpy_array)\n",
    "\n",
    "pytorch_tensor = torch.from_numpy(numpy_array)\n",
    "print(pytorch_tensor)"
   ]
  },
  {
   "cell_type": "markdown",
   "id": "c692f80e",
   "metadata": {
    "papermill": {
     "duration": 0.025645,
     "end_time": "2024-07-26T23:06:10.160939",
     "exception": false,
     "start_time": "2024-07-26T23:06:10.135294",
     "status": "completed"
    },
    "tags": []
   },
   "source": [
    "PyTorch creates a tensor of the same shape and containing the same data\n",
    "as the NumPy array, going so far as to keep NumPy's default 64-bit float\n",
    "data type.\n",
    "\n",
    "The conversion can just as easily go the other way:\n"
   ]
  },
  {
   "cell_type": "code",
   "execution_count": 32,
   "id": "6493509c",
   "metadata": {
    "collapsed": false,
    "execution": {
     "iopub.execute_input": "2024-07-26T23:06:10.209568Z",
     "iopub.status.busy": "2024-07-26T23:06:10.209122Z",
     "iopub.status.idle": "2024-07-26T23:06:10.217386Z",
     "shell.execute_reply": "2024-07-26T23:06:10.216002Z"
    },
    "jupyter": {
     "outputs_hidden": false
    },
    "papermill": {
     "duration": 0.035099,
     "end_time": "2024-07-26T23:06:10.219716",
     "exception": false,
     "start_time": "2024-07-26T23:06:10.184617",
     "status": "completed"
    },
    "tags": []
   },
   "outputs": [
    {
     "name": "stdout",
     "output_type": "stream",
     "text": [
      "tensor([[0.9091, 0.5695, 0.7206],\n",
      "        [0.4155, 0.0982, 0.4637]])\n",
      "[[0.90905803 0.5695162  0.7206341 ]\n",
      " [0.41554475 0.09820974 0.46368068]]\n"
     ]
    }
   ],
   "source": [
    "pytorch_rand = torch.rand(2, 3)\n",
    "print(pytorch_rand)\n",
    "\n",
    "numpy_rand = pytorch_rand.numpy()\n",
    "print(numpy_rand)"
   ]
  },
  {
   "cell_type": "markdown",
   "id": "04bfe001",
   "metadata": {
    "papermill": {
     "duration": 0.022854,
     "end_time": "2024-07-26T23:06:10.265956",
     "exception": false,
     "start_time": "2024-07-26T23:06:10.243102",
     "status": "completed"
    },
    "tags": []
   },
   "source": [
    "It is important to know that these converted objects are using *the same\n",
    "underlying memory* as their source objects, meaning that changes to one\n",
    "are reflected in the other:\n"
   ]
  },
  {
   "cell_type": "code",
   "execution_count": 33,
   "id": "70f45c9e",
   "metadata": {
    "collapsed": false,
    "execution": {
     "iopub.execute_input": "2024-07-26T23:06:10.314758Z",
     "iopub.status.busy": "2024-07-26T23:06:10.314350Z",
     "iopub.status.idle": "2024-07-26T23:06:10.323232Z",
     "shell.execute_reply": "2024-07-26T23:06:10.321769Z"
    },
    "jupyter": {
     "outputs_hidden": false
    },
    "papermill": {
     "duration": 0.036145,
     "end_time": "2024-07-26T23:06:10.325668",
     "exception": false,
     "start_time": "2024-07-26T23:06:10.289523",
     "status": "completed"
    },
    "tags": []
   },
   "outputs": [
    {
     "name": "stdout",
     "output_type": "stream",
     "text": [
      "tensor([[ 1.,  1.,  1.],\n",
      "        [ 1., 23.,  1.]], dtype=torch.float64)\n",
      "[[ 0.90905803  0.5695162   0.7206341 ]\n",
      " [ 0.41554475 17.          0.46368068]]\n"
     ]
    }
   ],
   "source": [
    "numpy_array[1, 1] = 23\n",
    "print(pytorch_tensor)\n",
    "\n",
    "pytorch_rand[1, 1] = 17\n",
    "print(numpy_rand)"
   ]
  }
 ],
 "metadata": {
  "kaggle": {
   "accelerator": "none",
   "dataSources": [],
   "isGpuEnabled": false,
   "isInternetEnabled": true,
   "language": "python",
   "sourceType": "notebook"
  },
  "kernelspec": {
   "display_name": "Python 3",
   "language": "python",
   "name": "python3"
  },
  "language_info": {
   "codemirror_mode": {
    "name": "ipython",
    "version": 3
   },
   "file_extension": ".py",
   "mimetype": "text/x-python",
   "name": "python",
   "nbconvert_exporter": "python",
   "pygments_lexer": "ipython3",
   "version": "3.10.13"
  },
  "papermill": {
   "default_parameters": {},
   "duration": 10.966107,
   "end_time": "2024-07-26T23:06:11.172681",
   "environment_variables": {},
   "exception": null,
   "input_path": "__notebook__.ipynb",
   "output_path": "__notebook__.ipynb",
   "parameters": {},
   "start_time": "2024-07-26T23:06:00.206574",
   "version": "2.5.0"
  }
 },
 "nbformat": 4,
 "nbformat_minor": 5
}
