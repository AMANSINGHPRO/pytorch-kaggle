{
 "cells": [
  {
   "cell_type": "code",
   "execution_count": 1,
   "id": "97aca9fd",
   "metadata": {
    "collapsed": false,
    "execution": {
     "iopub.execute_input": "2024-07-26T23:20:21.041426Z",
     "iopub.status.busy": "2024-07-26T23:20:21.040909Z",
     "iopub.status.idle": "2024-07-26T23:20:21.057670Z",
     "shell.execute_reply": "2024-07-26T23:20:21.056320Z"
    },
    "jupyter": {
     "outputs_hidden": false
    },
    "papermill": {
     "duration": 0.028164,
     "end_time": "2024-07-26T23:20:21.060686",
     "exception": false,
     "start_time": "2024-07-26T23:20:21.032522",
     "status": "completed"
    },
    "tags": []
   },
   "outputs": [],
   "source": [
    "# For tips on running notebooks in Google Colab, see\n",
    "# https://pytorch.org/tutorials/beginner/colab\n",
    "%matplotlib inline"
   ]
  },
  {
   "cell_type": "markdown",
   "id": "4d22bd1e",
   "metadata": {
    "papermill": {
     "duration": 0.005752,
     "end_time": "2024-07-26T23:20:21.073027",
     "exception": false,
     "start_time": "2024-07-26T23:20:21.067275",
     "status": "completed"
    },
    "tags": []
   },
   "source": [
    "[Introduction](introyt1_tutorial.html) \\|\\|\n",
    "[Tensors](tensors_deeper_tutorial.html) \\|\\|\n",
    "[Autograd](autogradyt_tutorial.html) \\|\\| **Building Models** \\|\\|\n",
    "[TensorBoard Support](tensorboardyt_tutorial.html) \\|\\| [Training\n",
    "Models](trainingyt.html) \\|\\| [Model Understanding](captumyt.html)\n",
    "\n",
    "Building Models with PyTorch\n",
    "============================\n",
    "\n",
    "Follow along with the video below or on\n",
    "[youtube](https://www.youtube.com/watch?v=OSqIP-mOWOI).\n",
    "\n"
   ]
  },
  {
   "cell_type": "code",
   "execution_count": 2,
   "id": "800c2ba1",
   "metadata": {
    "execution": {
     "iopub.execute_input": "2024-07-26T23:20:21.088114Z",
     "iopub.status.busy": "2024-07-26T23:20:21.087674Z",
     "iopub.status.idle": "2024-07-26T23:20:21.098510Z",
     "shell.execute_reply": "2024-07-26T23:20:21.096425Z"
    },
    "papermill": {
     "duration": 0.021914,
     "end_time": "2024-07-26T23:20:21.101511",
     "exception": false,
     "start_time": "2024-07-26T23:20:21.079597",
     "status": "completed"
    },
    "tags": []
   },
   "outputs": [
    {
     "data": {
      "text/html": [
       "\n",
       "<div style=\"margin-top:10px; margin-bottom:10px;\">\n",
       "  <iframe width=\"560\" height=\"315\" src=\"https://www.youtube.com/embed/OSqIP-mOWOI\" frameborder=\"0\" allow=\"accelerometer; encrypted-media; gyroscope; picture-in-picture\" allowfullscreen></iframe>\n",
       "</div>\n"
      ],
      "text/plain": [
       "<IPython.core.display.HTML object>"
      ]
     },
     "metadata": {},
     "output_type": "display_data"
    }
   ],
   "source": [
    "# Run this cell to load the video\n",
    "from IPython.display import display, HTML\n",
    "html_code = \"\"\"\n",
    "<div style=\"margin-top:10px; margin-bottom:10px;\">\n",
    "  <iframe width=\"560\" height=\"315\" src=\"https://www.youtube.com/embed/OSqIP-mOWOI\" frameborder=\"0\" allow=\"accelerometer; encrypted-media; gyroscope; picture-in-picture\" allowfullscreen></iframe>\n",
    "</div>\n",
    "\"\"\"\n",
    "display(HTML(html_code))"
   ]
  },
  {
   "cell_type": "markdown",
   "id": "4d199a97",
   "metadata": {
    "papermill": {
     "duration": 0.006347,
     "end_time": "2024-07-26T23:20:21.114394",
     "exception": false,
     "start_time": "2024-07-26T23:20:21.108047",
     "status": "completed"
    },
    "tags": []
   },
   "source": [
    "\n",
    "\n",
    "`torch.nn.Module` and `torch.nn.Parameter`\n",
    "------------------------------------------\n",
    "\n",
    "In this video, we'll be discussing some of the tools PyTorch makes\n",
    "available for building deep learning networks.\n",
    "\n",
    "Except for `Parameter`, the classes we discuss in this video are all\n",
    "subclasses of `torch.nn.Module`. This is the PyTorch base class meant to\n",
    "encapsulate behaviors specific to PyTorch Models and their components.\n",
    "\n",
    "One important behavior of `torch.nn.Module` is registering parameters.\n",
    "If a particular `Module` subclass has learning weights, these weights\n",
    "are expressed as instances of `torch.nn.Parameter`. The `Parameter`\n",
    "class is a subclass of `torch.Tensor`, with the special behavior that\n",
    "when they are assigned as attributes of a `Module`, they are added to\n",
    "the list of that modules parameters. These parameters may be accessed\n",
    "through the `parameters()` method on the `Module` class.\n",
    "\n",
    "As a simple example, here's a very simple model with two linear layers\n",
    "and an activation function. We'll create an instance of it and ask it to\n",
    "report on its parameters:\n"
   ]
  },
  {
   "cell_type": "code",
   "execution_count": 3,
   "id": "0f9e64e5",
   "metadata": {
    "collapsed": false,
    "execution": {
     "iopub.execute_input": "2024-07-26T23:20:21.131054Z",
     "iopub.status.busy": "2024-07-26T23:20:21.130640Z",
     "iopub.status.idle": "2024-07-26T23:20:25.191215Z",
     "shell.execute_reply": "2024-07-26T23:20:25.189849Z"
    },
    "jupyter": {
     "outputs_hidden": false
    },
    "papermill": {
     "duration": 4.072294,
     "end_time": "2024-07-26T23:20:25.194556",
     "exception": false,
     "start_time": "2024-07-26T23:20:21.122262",
     "status": "completed"
    },
    "tags": []
   },
   "outputs": [
    {
     "name": "stdout",
     "output_type": "stream",
     "text": [
      "The model:\n",
      "TinyModel(\n",
      "  (linear1): Linear(in_features=100, out_features=200, bias=True)\n",
      "  (activation): ReLU()\n",
      "  (linear2): Linear(in_features=200, out_features=10, bias=True)\n",
      "  (softmax): Softmax(dim=None)\n",
      ")\n",
      "\n",
      "\n",
      "Just one layer:\n",
      "Linear(in_features=200, out_features=10, bias=True)\n",
      "\n",
      "\n",
      "Model params:\n",
      "Parameter containing:\n",
      "tensor([[ 0.0048,  0.0672,  0.0078,  ..., -0.0803, -0.0725, -0.0428],\n",
      "        [ 0.0518, -0.0421, -0.0718,  ..., -0.0726, -0.0542, -0.0645],\n",
      "        [ 0.0796,  0.0091, -0.0210,  ...,  0.0039, -0.0252, -0.0004],\n",
      "        ...,\n",
      "        [ 0.0447, -0.0819,  0.0428,  ...,  0.0653, -0.0390,  0.0827],\n",
      "        [-0.0537,  0.0669, -0.0917,  ...,  0.0830,  0.0436,  0.0592],\n",
      "        [ 0.0192, -0.0947, -0.0876,  ..., -0.0314, -0.0740,  0.0338]],\n",
      "       requires_grad=True)\n",
      "Parameter containing:\n",
      "tensor([-0.0584, -0.0144,  0.0075,  0.0267, -0.0416,  0.0160, -0.0458,  0.0893,\n",
      "        -0.0877, -0.0023,  0.0595,  0.0420,  0.0843,  0.0390, -0.0070, -0.0361,\n",
      "        -0.0404, -0.0726, -0.0909, -0.0019,  0.0814, -0.0110, -0.0807,  0.0574,\n",
      "        -0.0341,  0.0145, -0.0699, -0.0835,  0.0976, -0.0830,  0.0289, -0.0096,\n",
      "         0.0193, -0.0358, -0.0689,  0.0238,  0.0018,  0.0800,  0.0252, -0.0353,\n",
      "         0.0109,  0.0219, -0.0999,  0.0912, -0.0203,  0.0223,  0.0444,  0.0566,\n",
      "        -0.0739, -0.0730, -0.0250, -0.0988, -0.0145,  0.0568,  0.0844,  0.0013,\n",
      "         0.0369,  0.0500,  0.0532,  0.0254,  0.0719,  0.0020,  0.0753, -0.0575,\n",
      "        -0.0296,  0.0125,  0.0878,  0.0315,  0.0475, -0.0048, -0.0109, -0.0669,\n",
      "         0.0213, -0.0261, -0.0456, -0.0883, -0.0390,  0.0605,  0.0385,  0.0754,\n",
      "        -0.0191, -0.0216, -0.0227, -0.0463, -0.0132, -0.0137, -0.0909, -0.0813,\n",
      "        -0.0098, -0.0567, -0.0689,  0.0552,  0.0234,  0.0939, -0.0862,  0.0577,\n",
      "         0.0671, -0.0188,  0.0634, -0.0787,  0.0789, -0.0524, -0.0345, -0.0636,\n",
      "        -0.0191,  0.0348, -0.0991,  0.0993, -0.0863,  0.0847,  0.0804,  0.0712,\n",
      "        -0.0340, -0.0299, -0.0297,  0.0234, -0.0859,  0.0737,  0.0572, -0.0360,\n",
      "         0.0022, -0.0508, -0.0856,  0.0848,  0.0916, -0.0831, -0.0752,  0.0904,\n",
      "         0.0145,  0.0903,  0.0554,  0.0745, -0.0844, -0.0689,  0.0094, -0.0972,\n",
      "        -0.0168, -0.0693, -0.0623, -0.0203,  0.0354, -0.0332,  0.0723, -0.0182,\n",
      "         0.0953, -0.0799, -0.0711, -0.0465, -0.0594, -0.0487,  0.0311,  0.0815,\n",
      "        -0.0537,  0.0097,  0.0138, -0.0334, -0.0490, -0.0485, -0.0188,  0.0768,\n",
      "         0.0092,  0.0190, -0.0554,  0.0619, -0.0273,  0.0451,  0.0612,  0.0326,\n",
      "         0.0950, -0.0596, -0.0455, -0.0275, -0.0581,  0.0741, -0.0217,  0.0475,\n",
      "        -0.0256, -0.0883, -0.0801, -0.0096, -0.0348,  0.0378, -0.0312, -0.0580,\n",
      "        -0.0854, -0.0797,  0.0350,  0.0750,  0.0492, -0.0715, -0.0759,  0.0199,\n",
      "         0.0177,  0.0900, -0.0028,  0.0929,  0.0243,  0.0109, -0.0122, -0.0705],\n",
      "       requires_grad=True)\n",
      "Parameter containing:\n",
      "tensor([[-0.0660,  0.0571,  0.0132,  ..., -0.0154, -0.0414, -0.0588],\n",
      "        [-0.0260, -0.0101,  0.0506,  ...,  0.0274, -0.0078,  0.0038],\n",
      "        [-0.0223, -0.0557,  0.0181,  ..., -0.0051,  0.0090,  0.0088],\n",
      "        ...,\n",
      "        [ 0.0500, -0.0190,  0.0178,  ...,  0.0425,  0.0091,  0.0354],\n",
      "        [ 0.0687,  0.0402, -0.0182,  ...,  0.0698,  0.0195, -0.0074],\n",
      "        [-0.0242,  0.0289,  0.0672,  ..., -0.0046,  0.0512, -0.0573]],\n",
      "       requires_grad=True)\n",
      "Parameter containing:\n",
      "tensor([-0.0580,  0.0115,  0.0108,  0.0094, -0.0418, -0.0338, -0.0342,  0.0153,\n",
      "        -0.0268,  0.0450], requires_grad=True)\n",
      "\n",
      "\n",
      "Layer params:\n",
      "Parameter containing:\n",
      "tensor([[-0.0660,  0.0571,  0.0132,  ..., -0.0154, -0.0414, -0.0588],\n",
      "        [-0.0260, -0.0101,  0.0506,  ...,  0.0274, -0.0078,  0.0038],\n",
      "        [-0.0223, -0.0557,  0.0181,  ..., -0.0051,  0.0090,  0.0088],\n",
      "        ...,\n",
      "        [ 0.0500, -0.0190,  0.0178,  ...,  0.0425,  0.0091,  0.0354],\n",
      "        [ 0.0687,  0.0402, -0.0182,  ...,  0.0698,  0.0195, -0.0074],\n",
      "        [-0.0242,  0.0289,  0.0672,  ..., -0.0046,  0.0512, -0.0573]],\n",
      "       requires_grad=True)\n",
      "Parameter containing:\n",
      "tensor([-0.0580,  0.0115,  0.0108,  0.0094, -0.0418, -0.0338, -0.0342,  0.0153,\n",
      "        -0.0268,  0.0450], requires_grad=True)\n"
     ]
    }
   ],
   "source": [
    "import torch\n",
    "\n",
    "class TinyModel(torch.nn.Module):\n",
    "    \n",
    "    def __init__(self):\n",
    "        super(TinyModel, self).__init__()\n",
    "        \n",
    "        self.linear1 = torch.nn.Linear(100, 200)\n",
    "        self.activation = torch.nn.ReLU()\n",
    "        self.linear2 = torch.nn.Linear(200, 10)\n",
    "        self.softmax = torch.nn.Softmax()\n",
    "    \n",
    "    def forward(self, x):\n",
    "        x = self.linear1(x)\n",
    "        x = self.activation(x)\n",
    "        x = self.linear2(x)\n",
    "        x = self.softmax(x)\n",
    "        return x\n",
    "\n",
    "tinymodel = TinyModel()\n",
    "\n",
    "print('The model:')\n",
    "print(tinymodel)\n",
    "\n",
    "print('\\n\\nJust one layer:')\n",
    "print(tinymodel.linear2)\n",
    "\n",
    "print('\\n\\nModel params:')\n",
    "for param in tinymodel.parameters():\n",
    "    print(param)\n",
    "\n",
    "print('\\n\\nLayer params:')\n",
    "for param in tinymodel.linear2.parameters():\n",
    "    print(param)"
   ]
  },
  {
   "cell_type": "markdown",
   "id": "c688db53",
   "metadata": {
    "papermill": {
     "duration": 0.006674,
     "end_time": "2024-07-26T23:20:25.208291",
     "exception": false,
     "start_time": "2024-07-26T23:20:25.201617",
     "status": "completed"
    },
    "tags": []
   },
   "source": [
    "This shows the fundamental structure of a PyTorch model: there is an\n",
    "`__init__()` method that defines the layers and other components of a\n",
    "model, and a `forward()` method where the computation gets done. Note\n",
    "that we can print the model, or any of its submodules, to learn about\n",
    "its structure.\n",
    "\n",
    "Common Layer Types\n",
    "==================\n",
    "\n",
    "Linear Layers\n",
    "-------------\n",
    "\n",
    "The most basic type of neural network layer is a *linear* or *fully\n",
    "connected* layer. This is a layer where every input influences every\n",
    "output of the layer to a degree specified by the layer's weights. If a\n",
    "model has *m* inputs and *n* outputs, the weights will be an *m* x *n*\n",
    "matrix. For example:\n"
   ]
  },
  {
   "cell_type": "code",
   "execution_count": 4,
   "id": "84cc69eb",
   "metadata": {
    "collapsed": false,
    "execution": {
     "iopub.execute_input": "2024-07-26T23:20:25.223914Z",
     "iopub.status.busy": "2024-07-26T23:20:25.223357Z",
     "iopub.status.idle": "2024-07-26T23:20:25.249319Z",
     "shell.execute_reply": "2024-07-26T23:20:25.248044Z"
    },
    "jupyter": {
     "outputs_hidden": false
    },
    "papermill": {
     "duration": 0.037108,
     "end_time": "2024-07-26T23:20:25.252255",
     "exception": false,
     "start_time": "2024-07-26T23:20:25.215147",
     "status": "completed"
    },
    "tags": []
   },
   "outputs": [
    {
     "name": "stdout",
     "output_type": "stream",
     "text": [
      "Input:\n",
      "tensor([[0.7871, 0.4869, 0.3870]])\n",
      "\n",
      "\n",
      "Weight and Bias parameters:\n",
      "Parameter containing:\n",
      "tensor([[-0.0293,  0.2911, -0.1523],\n",
      "        [-0.0439,  0.1380, -0.2406]], requires_grad=True)\n",
      "Parameter containing:\n",
      "tensor([-0.3904, -0.3107], requires_grad=True)\n",
      "\n",
      "\n",
      "Output:\n",
      "tensor([[-0.3307, -0.3712]], grad_fn=<AddmmBackward0>)\n"
     ]
    }
   ],
   "source": [
    "lin = torch.nn.Linear(3, 2)\n",
    "x = torch.rand(1, 3)\n",
    "print('Input:')\n",
    "print(x)\n",
    "\n",
    "print('\\n\\nWeight and Bias parameters:')\n",
    "for param in lin.parameters():\n",
    "    print(param)\n",
    "\n",
    "y = lin(x)\n",
    "print('\\n\\nOutput:')\n",
    "print(y)"
   ]
  },
  {
   "cell_type": "markdown",
   "id": "69d3ed6d",
   "metadata": {
    "papermill": {
     "duration": 0.006486,
     "end_time": "2024-07-26T23:20:25.265868",
     "exception": false,
     "start_time": "2024-07-26T23:20:25.259382",
     "status": "completed"
    },
    "tags": []
   },
   "source": [
    "If you do the matrix multiplication of `x` by the linear layer's\n",
    "weights, and add the biases, you'll find that you get the output vector\n",
    "`y`.\n",
    "\n",
    "One other important feature to note: When we checked the weights of our\n",
    "layer with `lin.weight`, it reported itself as a `Parameter` (which is a\n",
    "subclass of `Tensor`), and let us know that it's tracking gradients with\n",
    "autograd. This is a default behavior for `Parameter` that differs from\n",
    "`Tensor`.\n",
    "\n",
    "Linear layers are used widely in deep learning models. One of the most\n",
    "common places you'll see them is in classifier models, which will\n",
    "usually have one or more linear layers at the end, where the last layer\n",
    "will have *n* outputs, where *n* is the number of classes the classifier\n",
    "addresses.\n",
    "\n",
    "Convolutional Layers\n",
    "====================\n",
    "\n",
    "*Convolutional* layers are built to handle data with a high degree of\n",
    "spatial correlation. They are very commonly used in computer vision,\n",
    "where they detect close groupings of features which the compose into\n",
    "higher-level features. They pop up in other contexts too - for example,\n",
    "in NLP applications, where a word's immediate context (that is, the\n",
    "other words nearby in the sequence) can affect the meaning of a\n",
    "sentence.\n",
    "\n",
    "We saw convolutional layers in action in LeNet5 in an earlier video:\n"
   ]
  },
  {
   "cell_type": "code",
   "execution_count": 5,
   "id": "17af1e6c",
   "metadata": {
    "collapsed": false,
    "execution": {
     "iopub.execute_input": "2024-07-26T23:20:25.281829Z",
     "iopub.status.busy": "2024-07-26T23:20:25.281356Z",
     "iopub.status.idle": "2024-07-26T23:20:25.296288Z",
     "shell.execute_reply": "2024-07-26T23:20:25.294958Z"
    },
    "jupyter": {
     "outputs_hidden": false
    },
    "papermill": {
     "duration": 0.02667,
     "end_time": "2024-07-26T23:20:25.299340",
     "exception": false,
     "start_time": "2024-07-26T23:20:25.272670",
     "status": "completed"
    },
    "tags": []
   },
   "outputs": [],
   "source": [
    "import torch.functional as F\n",
    "\n",
    "\n",
    "class LeNet(torch.nn.Module):\n",
    "\n",
    "    def __init__(self):\n",
    "        super(LeNet, self).__init__()\n",
    "        # 1 input image channel (black & white), 6 output channels, 5x5 square convolution\n",
    "        # kernel\n",
    "        self.conv1 = torch.nn.Conv2d(1, 6, 5)\n",
    "        self.conv2 = torch.nn.Conv2d(6, 16, 3)\n",
    "        # an affine operation: y = Wx + b\n",
    "        self.fc1 = torch.nn.Linear(16 * 6 * 6, 120)  # 6*6 from image dimension\n",
    "        self.fc2 = torch.nn.Linear(120, 84)\n",
    "        self.fc3 = torch.nn.Linear(84, 10)\n",
    "\n",
    "    def forward(self, x):\n",
    "        # Max pooling over a (2, 2) window\n",
    "        x = F.max_pool2d(F.relu(self.conv1(x)), (2, 2))\n",
    "        # If the size is a square you can only specify a single number\n",
    "        x = F.max_pool2d(F.relu(self.conv2(x)), 2)\n",
    "        x = x.view(-1, self.num_flat_features(x))\n",
    "        x = F.relu(self.fc1(x))\n",
    "        x = F.relu(self.fc2(x))\n",
    "        x = self.fc3(x)\n",
    "        return x\n",
    "\n",
    "    def num_flat_features(self, x):\n",
    "        size = x.size()[1:]  # all dimensions except the batch dimension\n",
    "        num_features = 1\n",
    "        for s in size:\n",
    "            num_features *= s\n",
    "        return num_features"
   ]
  },
  {
   "cell_type": "markdown",
   "id": "31cdc73d",
   "metadata": {
    "papermill": {
     "duration": 0.007568,
     "end_time": "2024-07-26T23:20:25.314064",
     "exception": false,
     "start_time": "2024-07-26T23:20:25.306496",
     "status": "completed"
    },
    "tags": []
   },
   "source": [
    "Let's break down what's happening in the convolutional layers of this\n",
    "model. Starting with `conv1`:\n",
    "\n",
    "-   LeNet5 is meant to take in a 1x32x32 black & white image. **The\n",
    "    first argument to a convolutional layer's constructor is the number\n",
    "    of input channels.** Here, it is 1. If we were building this model\n",
    "    to look at 3-color channels, it would be 3.\n",
    "-   A convolutional layer is like a window that scans over the image,\n",
    "    looking for a pattern it recognizes. These patterns are called\n",
    "    *features,* and one of the parameters of a convolutional layer is\n",
    "    the number of features we would like it to learn. **This is the\n",
    "    second argument to the constructor is the number of output\n",
    "    features.** Here, we're asking our layer to learn 6 features.\n",
    "-   Just above, I likened the convolutional layer to a window - but how\n",
    "    big is the window? **The third argument is the window or kernel\n",
    "    size.** Here, the \"5\" means we've chosen a 5x5 kernel. (If you want\n",
    "    a kernel with height different from width, you can specify a tuple\n",
    "    for this argument - e.g., `(3, 5)` to get a 3x5 convolution kernel.)\n",
    "\n",
    "The output of a convolutional layer is an *activation map* - a spatial\n",
    "representation of the presence of features in the input tensor. `conv1`\n",
    "will give us an output tensor of 6x28x28; 6 is the number of features,\n",
    "and 28 is the height and width of our map. (The 28 comes from the fact\n",
    "that when scanning a 5-pixel window over a 32-pixel row, there are only\n",
    "28 valid positions.)\n",
    "\n",
    "We then pass the output of the convolution through a ReLU activation\n",
    "function (more on activation functions later), then through a max\n",
    "pooling layer. The max pooling layer takes features near each other in\n",
    "the activation map and groups them together. It does this by reducing\n",
    "the tensor, merging every 2x2 group of cells in the output into a single\n",
    "cell, and assigning that cell the maximum value of the 4 cells that went\n",
    "into it. This gives us a lower-resolution version of the activation map,\n",
    "with dimensions 6x14x14.\n",
    "\n",
    "Our next convolutional layer, `conv2`, expects 6 input channels\n",
    "(corresponding to the 6 features sought by the first layer), has 16\n",
    "output channels, and a 3x3 kernel. It puts out a 16x12x12 activation\n",
    "map, which is again reduced by a max pooling layer to 16x6x6. Prior to\n",
    "passing this output to the linear layers, it is reshaped to a 16 \\* 6 \\*\n",
    "6 = 576-element vector for consumption by the next layer.\n",
    "\n",
    "There are convolutional layers for addressing 1D, 2D, and 3D tensors.\n",
    "There are also many more optional arguments for a conv layer\n",
    "constructor, including stride length(e.g., only scanning every second or\n",
    "every third position) in the input, padding (so you can scan out to the\n",
    "edges of the input), and more. See the\n",
    "[documentation](https://pytorch.org/docs/stable/nn.html#convolution-layers)\n",
    "for more information.\n",
    "\n",
    "Recurrent Layers\n",
    "================\n",
    "\n",
    "*Recurrent neural networks* (or *RNNs)* are used for sequential data\n",
    "-anything from time-series measurements from a scientific instrument to\n",
    "natural language sentences to DNA nucleotides. An RNN does this by\n",
    "maintaining a *hidden state* that acts as a sort of memory for what it\n",
    "has seen in the sequence so far.\n",
    "\n",
    "The internal structure of an RNN layer - or its variants, the LSTM (long\n",
    "short-term memory) and GRU (gated recurrent unit) - is moderately\n",
    "complex and beyond the scope of this video, but we'll show you what one\n",
    "looks like in action with an LSTM-based part-of-speech tagger (a type of\n",
    "classifier that tells you if a word is a noun, verb, etc.):\n"
   ]
  },
  {
   "cell_type": "code",
   "execution_count": 6,
   "id": "1876b2eb",
   "metadata": {
    "collapsed": false,
    "execution": {
     "iopub.execute_input": "2024-07-26T23:20:25.330305Z",
     "iopub.status.busy": "2024-07-26T23:20:25.329793Z",
     "iopub.status.idle": "2024-07-26T23:20:25.340121Z",
     "shell.execute_reply": "2024-07-26T23:20:25.338809Z"
    },
    "jupyter": {
     "outputs_hidden": false
    },
    "papermill": {
     "duration": 0.021553,
     "end_time": "2024-07-26T23:20:25.342905",
     "exception": false,
     "start_time": "2024-07-26T23:20:25.321352",
     "status": "completed"
    },
    "tags": []
   },
   "outputs": [],
   "source": [
    "class LSTMTagger(torch.nn.Module):\n",
    "\n",
    "    def __init__(self, embedding_dim, hidden_dim, vocab_size, tagset_size):\n",
    "        super(LSTMTagger, self).__init__()\n",
    "        self.hidden_dim = hidden_dim\n",
    "\n",
    "        self.word_embeddings = torch.nn.Embedding(vocab_size, embedding_dim)\n",
    "\n",
    "        # The LSTM takes word embeddings as inputs, and outputs hidden states\n",
    "        # with dimensionality hidden_dim.\n",
    "        self.lstm = torch.nn.LSTM(embedding_dim, hidden_dim)\n",
    "\n",
    "        # The linear layer that maps from hidden state space to tag space\n",
    "        self.hidden2tag = torch.nn.Linear(hidden_dim, tagset_size)\n",
    "\n",
    "    def forward(self, sentence):\n",
    "        embeds = self.word_embeddings(sentence)\n",
    "        lstm_out, _ = self.lstm(embeds.view(len(sentence), 1, -1))\n",
    "        tag_space = self.hidden2tag(lstm_out.view(len(sentence), -1))\n",
    "        tag_scores = F.log_softmax(tag_space, dim=1)\n",
    "        return tag_scores"
   ]
  },
  {
   "cell_type": "markdown",
   "id": "a6b8b8c7",
   "metadata": {
    "papermill": {
     "duration": 0.006971,
     "end_time": "2024-07-26T23:20:25.357007",
     "exception": false,
     "start_time": "2024-07-26T23:20:25.350036",
     "status": "completed"
    },
    "tags": []
   },
   "source": [
    "The constructor has four arguments:\n",
    "\n",
    "-   `vocab_size` is the number of words in the input vocabulary. Each\n",
    "    word is a one-hot vector (or unit vector) in a\n",
    "    `vocab_size`-dimensional space.\n",
    "-   `tagset_size` is the number of tags in the output set.\n",
    "-   `embedding_dim` is the size of the *embedding* space for the\n",
    "    vocabulary. An embedding maps a vocabulary onto a low-dimensional\n",
    "    space, where words with similar meanings are close together in the\n",
    "    space.\n",
    "-   `hidden_dim` is the size of the LSTM's memory.\n",
    "\n",
    "The input will be a sentence with the words represented as indices of\n",
    "one-hot vectors. The embedding layer will then map these down to an\n",
    "`embedding_dim`-dimensional space. The LSTM takes this sequence of\n",
    "embeddings and iterates over it, fielding an output vector of length\n",
    "`hidden_dim`. The final linear layer acts as a classifier; applying\n",
    "`log_softmax()` to the output of the final layer converts the output\n",
    "into a normalized set of estimated probabilities that a given word maps\n",
    "to a given tag.\n",
    "\n",
    "If you'd like to see this network in action, check out the [Sequence\n",
    "Models and LSTM\n",
    "Networks](https://pytorch.org/tutorials/beginner/nlp/sequence_models_tutorial.html)\n",
    "tutorial on pytorch.org.\n",
    "\n",
    "Transformers\n",
    "============\n",
    "\n",
    "*Transformers* are multi-purpose networks that have taken over the state\n",
    "of the art in NLP with models like BERT. A discussion of transformer\n",
    "architecture is beyond the scope of this video, but PyTorch has a\n",
    "`Transformer` class that allows you to define the overall parameters of\n",
    "a transformer model - the number of attention heads, the number of\n",
    "encoder & decoder layers, dropout and activation functions, etc. (You\n",
    "can even build the BERT model from this single class, with the right\n",
    "parameters!) The `torch.nn.Transformer` class also has classes to\n",
    "encapsulate the individual components (`TransformerEncoder`,\n",
    "`TransformerDecoder`) and subcomponents (`TransformerEncoderLayer`,\n",
    "`TransformerDecoderLayer`). For details, check out the\n",
    "[documentation](https://pytorch.org/docs/stable/nn.html#transformer-layers)\n",
    "on transformer classes, and the relevant\n",
    "[tutorial](https://pytorch.org/tutorials/beginner/transformer_tutorial.html)\n",
    "on pytorch.org.\n",
    "\n",
    "Other Layers and Functions\n",
    "--------------------------\n",
    "\n",
    "Data Manipulation Layers\n",
    "========================\n",
    "\n",
    "There are other layer types that perform important functions in models,\n",
    "but don't participate in the learning process themselves.\n",
    "\n",
    "**Max pooling** (and its twin, min pooling) reduce a tensor by combining\n",
    "cells, and assigning the maximum value of the input cells to the output\n",
    "cell (we saw this). For example:\n"
   ]
  },
  {
   "cell_type": "code",
   "execution_count": 7,
   "id": "faaf0b8e",
   "metadata": {
    "collapsed": false,
    "execution": {
     "iopub.execute_input": "2024-07-26T23:20:25.373712Z",
     "iopub.status.busy": "2024-07-26T23:20:25.373241Z",
     "iopub.status.idle": "2024-07-26T23:20:25.387647Z",
     "shell.execute_reply": "2024-07-26T23:20:25.386408Z"
    },
    "jupyter": {
     "outputs_hidden": false
    },
    "papermill": {
     "duration": 0.025828,
     "end_time": "2024-07-26T23:20:25.390635",
     "exception": false,
     "start_time": "2024-07-26T23:20:25.364807",
     "status": "completed"
    },
    "tags": []
   },
   "outputs": [
    {
     "name": "stdout",
     "output_type": "stream",
     "text": [
      "tensor([[[0.4594, 0.4297, 0.4716, 0.3777, 0.9808, 0.4396],\n",
      "         [0.1889, 0.3387, 0.1353, 0.5542, 0.2414, 0.1576],\n",
      "         [0.5905, 0.9494, 0.2147, 0.1275, 0.3579, 0.6289],\n",
      "         [0.9512, 0.6113, 0.2965, 0.4853, 0.5546, 0.9326],\n",
      "         [0.5529, 0.2776, 0.9819, 0.0528, 0.4406, 0.9137],\n",
      "         [0.6774, 0.0268, 0.9430, 0.4657, 0.2018, 0.2616]]])\n",
      "tensor([[[0.9494, 0.9808],\n",
      "         [0.9819, 0.9326]]])\n"
     ]
    }
   ],
   "source": [
    "my_tensor = torch.rand(1, 6, 6)\n",
    "print(my_tensor)\n",
    "\n",
    "maxpool_layer = torch.nn.MaxPool2d(3)\n",
    "print(maxpool_layer(my_tensor))"
   ]
  },
  {
   "cell_type": "markdown",
   "id": "a2bbd1d9",
   "metadata": {
    "papermill": {
     "duration": 0.007814,
     "end_time": "2024-07-26T23:20:25.405799",
     "exception": false,
     "start_time": "2024-07-26T23:20:25.397985",
     "status": "completed"
    },
    "tags": []
   },
   "source": [
    "If you look closely at the values above, you'll see that each of the\n",
    "values in the maxpooled output is the maximum value of each quadrant of\n",
    "the 6x6 input.\n",
    "\n",
    "**Normalization layers** re-center and normalize the output of one layer\n",
    "before feeding it to another. Centering and scaling the intermediate\n",
    "tensors has a number of beneficial effects, such as letting you use\n",
    "higher learning rates without exploding/vanishing gradients.\n"
   ]
  },
  {
   "cell_type": "code",
   "execution_count": 8,
   "id": "5449e9b3",
   "metadata": {
    "collapsed": false,
    "execution": {
     "iopub.execute_input": "2024-07-26T23:20:25.422342Z",
     "iopub.status.busy": "2024-07-26T23:20:25.421846Z",
     "iopub.status.idle": "2024-07-26T23:20:25.449547Z",
     "shell.execute_reply": "2024-07-26T23:20:25.448343Z"
    },
    "jupyter": {
     "outputs_hidden": false
    },
    "papermill": {
     "duration": 0.03899,
     "end_time": "2024-07-26T23:20:25.452269",
     "exception": false,
     "start_time": "2024-07-26T23:20:25.413279",
     "status": "completed"
    },
    "tags": []
   },
   "outputs": [
    {
     "name": "stdout",
     "output_type": "stream",
     "text": [
      "tensor([[[16.9136, 12.4810, 22.4416,  8.1577],\n",
      "         [23.0225,  8.7324, 12.2101,  5.8237],\n",
      "         [ 7.4411,  6.1259, 22.4533, 18.5223],\n",
      "         [18.9760, 22.9711,  9.6318,  5.7801]]])\n",
      "tensor(13.8553)\n",
      "tensor([[[ 0.3616, -0.4753,  1.4054, -1.2916],\n",
      "         [ 1.6243, -0.5706, -0.0364, -1.0173],\n",
      "         [-0.8840, -1.0717,  1.2584,  0.6974],\n",
      "         [ 0.6702,  1.2477, -0.6806, -1.2373]]],\n",
      "       grad_fn=<NativeBatchNormBackward0>)\n",
      "tensor(-2.9802e-08, grad_fn=<MeanBackward0>)\n"
     ]
    }
   ],
   "source": [
    "my_tensor = torch.rand(1, 4, 4) * 20 + 5\n",
    "print(my_tensor)\n",
    "\n",
    "print(my_tensor.mean())\n",
    "\n",
    "norm_layer = torch.nn.BatchNorm1d(4)\n",
    "normed_tensor = norm_layer(my_tensor)\n",
    "print(normed_tensor)\n",
    "\n",
    "print(normed_tensor.mean())"
   ]
  },
  {
   "cell_type": "markdown",
   "id": "67b472ee",
   "metadata": {
    "papermill": {
     "duration": 0.008063,
     "end_time": "2024-07-26T23:20:25.467931",
     "exception": false,
     "start_time": "2024-07-26T23:20:25.459868",
     "status": "completed"
    },
    "tags": []
   },
   "source": [
    "Running the cell above, we've added a large scaling factor and offset to\n",
    "an input tensor; you should see the input tensor's `mean()` somewhere in\n",
    "the neighborhood of 15. After running it through the normalization\n",
    "layer, you can see that the values are smaller, and grouped around zero\n",
    "- in fact, the mean should be very small (\\> 1e-8).\n",
    "\n",
    "This is beneficial because many activation functions (discussed below)\n",
    "have their strongest gradients near 0, but sometimes suffer from\n",
    "vanishing or exploding gradients for inputs that drive them far away\n",
    "from zero. Keeping the data centered around the area of steepest\n",
    "gradient will tend to mean faster, better learning and higher feasible\n",
    "learning rates.\n",
    "\n",
    "**Dropout layers** are a tool for encouraging *sparse representations*\n",
    "in your model - that is, pushing it to do inference with less data.\n",
    "\n",
    "Dropout layers work by randomly setting parts of the input tensor\n",
    "*during training* - dropout layers are always turned off for inference.\n",
    "This forces the model to learn against this masked or reduced dataset.\n",
    "For example:\n"
   ]
  },
  {
   "cell_type": "code",
   "execution_count": 9,
   "id": "01eca5c9",
   "metadata": {
    "collapsed": false,
    "execution": {
     "iopub.execute_input": "2024-07-26T23:20:25.484956Z",
     "iopub.status.busy": "2024-07-26T23:20:25.484490Z",
     "iopub.status.idle": "2024-07-26T23:20:25.500539Z",
     "shell.execute_reply": "2024-07-26T23:20:25.499058Z"
    },
    "jupyter": {
     "outputs_hidden": false
    },
    "papermill": {
     "duration": 0.027638,
     "end_time": "2024-07-26T23:20:25.503226",
     "exception": false,
     "start_time": "2024-07-26T23:20:25.475588",
     "status": "completed"
    },
    "tags": []
   },
   "outputs": [
    {
     "name": "stdout",
     "output_type": "stream",
     "text": [
      "tensor([[[0.0000, 0.0000, 0.1858, 0.0000],\n",
      "         [1.3271, 1.6643, 0.8286, 0.0000],\n",
      "         [0.0000, 1.4653, 0.8078, 0.1181],\n",
      "         [1.5928, 1.0981, 0.0000, 1.3693]]])\n",
      "tensor([[[0.0000, 0.0000, 0.0000, 1.2053],\n",
      "         [0.0000, 0.0000, 0.0000, 0.0000],\n",
      "         [0.3222, 0.0000, 0.8078, 0.0000],\n",
      "         [0.0000, 0.0000, 0.0000, 1.3693]]])\n"
     ]
    }
   ],
   "source": [
    "my_tensor = torch.rand(1, 4, 4)\n",
    "\n",
    "dropout = torch.nn.Dropout(p=0.4)\n",
    "print(dropout(my_tensor))\n",
    "print(dropout(my_tensor))"
   ]
  },
  {
   "cell_type": "markdown",
   "id": "85b2b940",
   "metadata": {
    "papermill": {
     "duration": 0.007338,
     "end_time": "2024-07-26T23:20:25.518693",
     "exception": false,
     "start_time": "2024-07-26T23:20:25.511355",
     "status": "completed"
    },
    "tags": []
   },
   "source": [
    "Above, you can see the effect of dropout on a sample tensor. You can use\n",
    "the optional `p` argument to set the probability of an individual weight\n",
    "dropping out; if you don't it defaults to 0.5.\n",
    "\n",
    "Activation Functions\n",
    "====================\n",
    "\n",
    "Activation functions make deep learning possible. A neural network is\n",
    "really a program - with many parameters - that *simulates a mathematical\n",
    "function*. If all we did was multiple tensors by layer weights\n",
    "repeatedly, we could only simulate *linear functions;* further, there\n",
    "would be no point to having many layers, as the whole network would\n",
    "reduce could be reduced to a single matrix multiplication. Inserting\n",
    "*non-linear* activation functions between layers is what allows a deep\n",
    "learning model to simulate any function, rather than just linear ones.\n",
    "\n",
    "`torch.nn.Module` has objects encapsulating all of the major activation\n",
    "functions including ReLU and its many variants, Tanh, Hardtanh, sigmoid,\n",
    "and more. It also includes other functions, such as Softmax, that are\n",
    "most useful at the output stage of a model.\n",
    "\n",
    "Loss Functions\n",
    "==============\n",
    "\n",
    "Loss functions tell us how far a model's prediction is from the correct\n",
    "answer. PyTorch contains a variety of loss functions, including common\n",
    "MSE (mean squared error = L2 norm), Cross Entropy Loss and Negative\n",
    "Likelihood Loss (useful for classifiers), and others.\n"
   ]
  }
 ],
 "metadata": {
  "kaggle": {
   "accelerator": "none",
   "dataSources": [],
   "isGpuEnabled": false,
   "isInternetEnabled": true,
   "language": "python",
   "sourceType": "notebook"
  },
  "kernelspec": {
   "display_name": "Python 3",
   "language": "python",
   "name": "python3"
  },
  "language_info": {
   "codemirror_mode": {
    "name": "ipython",
    "version": 3
   },
   "file_extension": ".py",
   "mimetype": "text/x-python",
   "name": "python",
   "nbconvert_exporter": "python",
   "pygments_lexer": "ipython3",
   "version": "3.10.13"
  },
  "papermill": {
   "default_parameters": {},
   "duration": 9.136868,
   "end_time": "2024-07-26T23:20:26.451530",
   "environment_variables": {},
   "exception": null,
   "input_path": "__notebook__.ipynb",
   "output_path": "__notebook__.ipynb",
   "parameters": {},
   "start_time": "2024-07-26T23:20:17.314662",
   "version": "2.5.0"
  }
 },
 "nbformat": 4,
 "nbformat_minor": 5
}
