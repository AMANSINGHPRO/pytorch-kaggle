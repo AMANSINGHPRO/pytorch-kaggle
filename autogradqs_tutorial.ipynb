{
 "cells": [
  {
   "cell_type": "code",
   "execution_count": 1,
   "id": "783dd176",
   "metadata": {
    "collapsed": false,
    "execution": {
     "iopub.execute_input": "2024-07-26T22:10:21.127129Z",
     "iopub.status.busy": "2024-07-26T22:10:21.126673Z",
     "iopub.status.idle": "2024-07-26T22:10:21.139544Z",
     "shell.execute_reply": "2024-07-26T22:10:21.138301Z"
    },
    "jupyter": {
     "outputs_hidden": false
    },
    "papermill": {
     "duration": 0.022392,
     "end_time": "2024-07-26T22:10:21.142259",
     "exception": false,
     "start_time": "2024-07-26T22:10:21.119867",
     "status": "completed"
    },
    "tags": []
   },
   "outputs": [],
   "source": [
    "# For tips on running notebooks in Google Colab, see\n",
    "# https://pytorch.org/tutorials/beginner/colab\n",
    "%matplotlib inline"
   ]
  },
  {
   "cell_type": "markdown",
   "id": "bcb9a448",
   "metadata": {
    "papermill": {
     "duration": 0.004472,
     "end_time": "2024-07-26T22:10:21.151899",
     "exception": false,
     "start_time": "2024-07-26T22:10:21.147427",
     "status": "completed"
    },
    "tags": []
   },
   "source": [
    "[Learn the Basics](intro.html) \\|\\|\n",
    "[Quickstart](quickstart_tutorial.html) \\|\\|\n",
    "[Tensors](tensorqs_tutorial.html) \\|\\| [Datasets &\n",
    "DataLoaders](data_tutorial.html) \\|\\|\n",
    "[Transforms](transforms_tutorial.html) \\|\\| [Build\n",
    "Model](buildmodel_tutorial.html) \\|\\| **Autograd** \\|\\|\n",
    "[Optimization](optimization_tutorial.html) \\|\\| [Save & Load\n",
    "Model](saveloadrun_tutorial.html)\n",
    "\n",
    "Automatic Differentiation with `torch.autograd`\n",
    "===============================================\n",
    "\n",
    "When training neural networks, the most frequently used algorithm is\n",
    "**back propagation**. In this algorithm, parameters (model weights) are\n",
    "adjusted according to the **gradient** of the loss function with respect\n",
    "to the given parameter.\n",
    "\n",
    "To compute those gradients, PyTorch has a built-in differentiation\n",
    "engine called `torch.autograd`. It supports automatic computation of\n",
    "gradient for any computational graph.\n",
    "\n",
    "Consider the simplest one-layer neural network, with input `x`,\n",
    "parameters `w` and `b`, and some loss function. It can be defined in\n",
    "PyTorch in the following manner:\n"
   ]
  },
  {
   "cell_type": "code",
   "execution_count": 2,
   "id": "d04ee24b",
   "metadata": {
    "collapsed": false,
    "execution": {
     "iopub.execute_input": "2024-07-26T22:10:21.163322Z",
     "iopub.status.busy": "2024-07-26T22:10:21.162934Z",
     "iopub.status.idle": "2024-07-26T22:10:24.754584Z",
     "shell.execute_reply": "2024-07-26T22:10:24.753334Z"
    },
    "jupyter": {
     "outputs_hidden": false
    },
    "papermill": {
     "duration": 3.600412,
     "end_time": "2024-07-26T22:10:24.757110",
     "exception": false,
     "start_time": "2024-07-26T22:10:21.156698",
     "status": "completed"
    },
    "tags": []
   },
   "outputs": [],
   "source": [
    "import torch\n",
    "\n",
    "x = torch.ones(5)  # input tensor\n",
    "y = torch.zeros(3)  # expected output\n",
    "w = torch.randn(5, 3, requires_grad=True)\n",
    "b = torch.randn(3, requires_grad=True)\n",
    "z = torch.matmul(x, w)+b\n",
    "loss = torch.nn.functional.binary_cross_entropy_with_logits(z, y)"
   ]
  },
  {
   "cell_type": "markdown",
   "id": "6d70eebc",
   "metadata": {
    "papermill": {
     "duration": 0.004524,
     "end_time": "2024-07-26T22:10:24.766538",
     "exception": false,
     "start_time": "2024-07-26T22:10:24.762014",
     "status": "completed"
    },
    "tags": []
   },
   "source": [
    "Tensors, Functions and Computational graph\n",
    "==========================================\n",
    "\n",
    "This code defines the following **computational graph**:\n",
    "\n",
    "![](https://pytorch.org/tutorials/_static/img/basics/comp-graph.png)\n",
    "\n",
    "In this network, `w` and `b` are **parameters**, which we need to\n",
    "optimize. Thus, we need to be able to compute the gradients of loss\n",
    "function with respect to those variables. In order to do that, we set\n",
    "the `requires_grad` property of those tensors.\n"
   ]
  },
  {
   "cell_type": "markdown",
   "id": "1aab2ced",
   "metadata": {
    "papermill": {
     "duration": 0.004571,
     "end_time": "2024-07-26T22:10:24.775889",
     "exception": false,
     "start_time": "2024-07-26T22:10:24.771318",
     "status": "completed"
    },
    "tags": []
   },
   "source": [
    "<div style=\"background-color: #54c7ec; color: #fff; font-weight: 700; padding-left: 10px; padding-top: 5px; padding-bottom: 5px\"><strong>NOTE:</strong></div>\n",
    "<div style=\"background-color: #f3f4f7; padding-left: 10px; padding-top: 10px; padding-bottom: 10px; padding-right: 10px\">\n",
    "<p>You can set the value of <code>requires_grad</code> when creating atensor, or later by using <code>x.requires_grad_(True)</code> method.</p>\n",
    "</div>\n"
   ]
  },
  {
   "cell_type": "markdown",
   "id": "92e39cd2",
   "metadata": {
    "papermill": {
     "duration": 0.004355,
     "end_time": "2024-07-26T22:10:24.785011",
     "exception": false,
     "start_time": "2024-07-26T22:10:24.780656",
     "status": "completed"
    },
    "tags": []
   },
   "source": [
    "A function that we apply to tensors to construct computational graph is\n",
    "in fact an object of class `Function`. This object knows how to compute\n",
    "the function in the *forward* direction, and also how to compute its\n",
    "derivative during the *backward propagation* step. A reference to the\n",
    "backward propagation function is stored in `grad_fn` property of a\n",
    "tensor. You can find more information of `Function` [in the\n",
    "documentation](https://pytorch.org/docs/stable/autograd.html#function).\n"
   ]
  },
  {
   "cell_type": "code",
   "execution_count": 3,
   "id": "eea3d85e",
   "metadata": {
    "collapsed": false,
    "execution": {
     "iopub.execute_input": "2024-07-26T22:10:24.796785Z",
     "iopub.status.busy": "2024-07-26T22:10:24.795691Z",
     "iopub.status.idle": "2024-07-26T22:10:24.802618Z",
     "shell.execute_reply": "2024-07-26T22:10:24.801001Z"
    },
    "jupyter": {
     "outputs_hidden": false
    },
    "papermill": {
     "duration": 0.01528,
     "end_time": "2024-07-26T22:10:24.804912",
     "exception": false,
     "start_time": "2024-07-26T22:10:24.789632",
     "status": "completed"
    },
    "tags": []
   },
   "outputs": [
    {
     "name": "stdout",
     "output_type": "stream",
     "text": [
      "Gradient function for z = <AddBackward0 object at 0x7d414fc9a530>\n",
      "Gradient function for loss = <BinaryCrossEntropyWithLogitsBackward0 object at 0x7d414fc9a7a0>\n"
     ]
    }
   ],
   "source": [
    "print(f\"Gradient function for z = {z.grad_fn}\")\n",
    "print(f\"Gradient function for loss = {loss.grad_fn}\")"
   ]
  },
  {
   "cell_type": "markdown",
   "id": "a26d3d49",
   "metadata": {
    "papermill": {
     "duration": 0.004739,
     "end_time": "2024-07-26T22:10:24.814692",
     "exception": false,
     "start_time": "2024-07-26T22:10:24.809953",
     "status": "completed"
    },
    "tags": []
   },
   "source": [
    "Computing Gradients\n",
    "===================\n",
    "\n",
    "To optimize weights of parameters in the neural network, we need to\n",
    "compute the derivatives of our loss function with respect to parameters,\n",
    "namely, we need $\\frac{\\partial loss}{\\partial w}$ and\n",
    "$\\frac{\\partial loss}{\\partial b}$ under some fixed values of `x` and\n",
    "`y`. To compute those derivatives, we call `loss.backward()`, and then\n",
    "retrieve the values from `w.grad` and `b.grad`:\n"
   ]
  },
  {
   "cell_type": "code",
   "execution_count": 4,
   "id": "0887d6fc",
   "metadata": {
    "collapsed": false,
    "execution": {
     "iopub.execute_input": "2024-07-26T22:10:24.827561Z",
     "iopub.status.busy": "2024-07-26T22:10:24.826793Z",
     "iopub.status.idle": "2024-07-26T22:10:24.877066Z",
     "shell.execute_reply": "2024-07-26T22:10:24.875692Z"
    },
    "jupyter": {
     "outputs_hidden": false
    },
    "papermill": {
     "duration": 0.058901,
     "end_time": "2024-07-26T22:10:24.879258",
     "exception": false,
     "start_time": "2024-07-26T22:10:24.820357",
     "status": "completed"
    },
    "tags": []
   },
   "outputs": [
    {
     "name": "stdout",
     "output_type": "stream",
     "text": [
      "tensor([[0.3028, 0.2122, 0.2353],\n",
      "        [0.3028, 0.2122, 0.2353],\n",
      "        [0.3028, 0.2122, 0.2353],\n",
      "        [0.3028, 0.2122, 0.2353],\n",
      "        [0.3028, 0.2122, 0.2353]])\n",
      "tensor([0.3028, 0.2122, 0.2353])\n"
     ]
    }
   ],
   "source": [
    "loss.backward()\n",
    "print(w.grad)\n",
    "print(b.grad)"
   ]
  },
  {
   "cell_type": "markdown",
   "id": "796d650b",
   "metadata": {
    "papermill": {
     "duration": 0.004839,
     "end_time": "2024-07-26T22:10:24.889147",
     "exception": false,
     "start_time": "2024-07-26T22:10:24.884308",
     "status": "completed"
    },
    "tags": []
   },
   "source": [
    "<div style=\"background-color: #54c7ec; color: #fff; font-weight: 700; padding-left: 10px; padding-top: 5px; padding-bottom: 5px\"><strong>NOTE:</strong></div>\n",
    "<div style=\"background-color: #f3f4f7; padding-left: 10px; padding-top: 10px; padding-bottom: 10px; padding-right: 10px\">\n",
    "<ul>\n",
    "<li>We can only obtain the <code>grad</code> properties for the leafnodes of the computational graph, which have <code>requires_grad</code> propertyset to <code>True</code>. For all other nodes in our graph, gradients will not beavailable.- We can only perform gradient calculations using<code>backward</code> once on a given graph, for performance reasons. If we needto do several <code>backward</code> calls on the same graph, we need to pass<code>retain_graph=True</code> to the <code>backward</code> call.</li>\n",
    "</ul>\n",
    "</div>\n"
   ]
  },
  {
   "cell_type": "markdown",
   "id": "05e43b99",
   "metadata": {
    "papermill": {
     "duration": 0.004675,
     "end_time": "2024-07-26T22:10:24.898921",
     "exception": false,
     "start_time": "2024-07-26T22:10:24.894246",
     "status": "completed"
    },
    "tags": []
   },
   "source": [
    "Disabling Gradient Tracking\n",
    "===========================\n",
    "\n",
    "By default, all tensors with `requires_grad=True` are tracking their\n",
    "computational history and support gradient computation. However, there\n",
    "are some cases when we do not need to do that, for example, when we have\n",
    "trained the model and just want to apply it to some input data, i.e. we\n",
    "only want to do *forward* computations through the network. We can stop\n",
    "tracking computations by surrounding our computation code with\n",
    "`torch.no_grad()` block:\n"
   ]
  },
  {
   "cell_type": "code",
   "execution_count": 5,
   "id": "b46617a0",
   "metadata": {
    "collapsed": false,
    "execution": {
     "iopub.execute_input": "2024-07-26T22:10:24.910431Z",
     "iopub.status.busy": "2024-07-26T22:10:24.910030Z",
     "iopub.status.idle": "2024-07-26T22:10:24.917996Z",
     "shell.execute_reply": "2024-07-26T22:10:24.916743Z"
    },
    "jupyter": {
     "outputs_hidden": false
    },
    "papermill": {
     "duration": 0.016419,
     "end_time": "2024-07-26T22:10:24.920340",
     "exception": false,
     "start_time": "2024-07-26T22:10:24.903921",
     "status": "completed"
    },
    "tags": []
   },
   "outputs": [
    {
     "name": "stdout",
     "output_type": "stream",
     "text": [
      "True\n",
      "False\n"
     ]
    }
   ],
   "source": [
    "z = torch.matmul(x, w)+b\n",
    "print(z.requires_grad)\n",
    "\n",
    "with torch.no_grad():\n",
    "    z = torch.matmul(x, w)+b\n",
    "print(z.requires_grad)"
   ]
  },
  {
   "cell_type": "markdown",
   "id": "f14ac5f5",
   "metadata": {
    "papermill": {
     "duration": 0.004726,
     "end_time": "2024-07-26T22:10:24.930357",
     "exception": false,
     "start_time": "2024-07-26T22:10:24.925631",
     "status": "completed"
    },
    "tags": []
   },
   "source": [
    "Another way to achieve the same result is to use the `detach()` method\n",
    "on the tensor:\n"
   ]
  },
  {
   "cell_type": "code",
   "execution_count": 6,
   "id": "cb2a06ee",
   "metadata": {
    "collapsed": false,
    "execution": {
     "iopub.execute_input": "2024-07-26T22:10:24.942566Z",
     "iopub.status.busy": "2024-07-26T22:10:24.941550Z",
     "iopub.status.idle": "2024-07-26T22:10:24.948463Z",
     "shell.execute_reply": "2024-07-26T22:10:24.947202Z"
    },
    "jupyter": {
     "outputs_hidden": false
    },
    "papermill": {
     "duration": 0.015602,
     "end_time": "2024-07-26T22:10:24.950972",
     "exception": false,
     "start_time": "2024-07-26T22:10:24.935370",
     "status": "completed"
    },
    "tags": []
   },
   "outputs": [
    {
     "name": "stdout",
     "output_type": "stream",
     "text": [
      "False\n"
     ]
    }
   ],
   "source": [
    "z = torch.matmul(x, w)+b\n",
    "z_det = z.detach()\n",
    "print(z_det.requires_grad)"
   ]
  },
  {
   "cell_type": "markdown",
   "id": "13497057",
   "metadata": {
    "papermill": {
     "duration": 0.00497,
     "end_time": "2024-07-26T22:10:24.961323",
     "exception": false,
     "start_time": "2024-07-26T22:10:24.956353",
     "status": "completed"
    },
    "tags": []
   },
   "source": [
    "There are reasons you might want to disable gradient tracking:\n",
    "\n",
    ":   -   To mark some parameters in your neural network as **frozen\n",
    "        parameters**.\n",
    "    -   To **speed up computations** when you are only doing forward\n",
    "        pass, because computations on tensors that do not track\n",
    "        gradients would be more efficient.\n"
   ]
  },
  {
   "cell_type": "markdown",
   "id": "69b6c97d",
   "metadata": {
    "papermill": {
     "duration": 0.005056,
     "end_time": "2024-07-26T22:10:24.971836",
     "exception": false,
     "start_time": "2024-07-26T22:10:24.966780",
     "status": "completed"
    },
    "tags": []
   },
   "source": [
    "More on Computational Graphs\n",
    "============================\n",
    "\n",
    "Conceptually, autograd keeps a record of data (tensors) and all executed\n",
    "operations (along with the resulting new tensors) in a directed acyclic\n",
    "graph (DAG) consisting of\n",
    "[Function](https://pytorch.org/docs/stable/autograd.html#torch.autograd.Function)\n",
    "objects. In this DAG, leaves are the input tensors, roots are the output\n",
    "tensors. By tracing this graph from roots to leaves, you can\n",
    "automatically compute the gradients using the chain rule.\n",
    "\n",
    "In a forward pass, autograd does two things simultaneously:\n",
    "\n",
    "-   run the requested operation to compute a resulting tensor\n",
    "-   maintain the operation's *gradient function* in the DAG.\n",
    "\n",
    "The backward pass kicks off when `.backward()` is called on the DAG\n",
    "root. `autograd` then:\n",
    "\n",
    "-   computes the gradients from each `.grad_fn`,\n",
    "-   accumulates them in the respective tensor's `.grad` attribute\n",
    "-   using the chain rule, propagates all the way to the leaf tensors.\n",
    "\n",
    "<div style=\"background-color: #54c7ec; color: #fff; font-weight: 700; padding-left: 10px; padding-top: 5px; padding-bottom: 5px\"><strong>NOTE:</strong></div>\n",
    "<div style=\"background-color: #f3f4f7; padding-left: 10px; padding-top: 10px; padding-bottom: 10px; padding-right: 10px\">\n",
    "<p>An important thing to note is that the graph is recreated from scratch; after each<code>.backward()</code> call, autograd starts populating a new graph. This isexactly what allows you to use control flow statements in your model;you can change the shape, size and operations at every iteration ifneeded.</p>\n",
    "</div>\n"
   ]
  },
  {
   "cell_type": "markdown",
   "id": "a7e9aeb1",
   "metadata": {
    "papermill": {
     "duration": 0.004946,
     "end_time": "2024-07-26T22:10:24.982180",
     "exception": false,
     "start_time": "2024-07-26T22:10:24.977234",
     "status": "completed"
    },
    "tags": []
   },
   "source": [
    "Optional Reading: Tensor Gradients and Jacobian Products\n",
    "========================================================\n",
    "\n",
    "In many cases, we have a scalar loss function, and we need to compute\n",
    "the gradient with respect to some parameters. However, there are cases\n",
    "when the output function is an arbitrary tensor. In this case, PyTorch\n",
    "allows you to compute so-called **Jacobian product**, and not the actual\n",
    "gradient.\n",
    "\n",
    "For a vector function $\\vec{y}=f(\\vec{x})$, where\n",
    "$\\vec{x}=\\langle x_1,\\dots,x_n\\rangle$ and\n",
    "$\\vec{y}=\\langle y_1,\\dots,y_m\\rangle$, a gradient of $\\vec{y}$ with\n",
    "respect to $\\vec{x}$ is given by **Jacobian matrix**:\n",
    "\n",
    "$$\\begin{aligned}\n",
    "J=\\left(\\begin{array}{ccc}\n",
    "   \\frac{\\partial y_{1}}{\\partial x_{1}} & \\cdots & \\frac{\\partial y_{1}}{\\partial x_{n}}\\\\\n",
    "   \\vdots & \\ddots & \\vdots\\\\\n",
    "   \\frac{\\partial y_{m}}{\\partial x_{1}} & \\cdots & \\frac{\\partial y_{m}}{\\partial x_{n}}\n",
    "   \\end{array}\\right)\n",
    "\\end{aligned}$$\n",
    "\n",
    "Instead of computing the Jacobian matrix itself, PyTorch allows you to\n",
    "compute **Jacobian Product** $v^T\\cdot J$ for a given input vector\n",
    "$v=(v_1 \\dots v_m)$. This is achieved by calling `backward` with $v$ as\n",
    "an argument. The size of $v$ should be the same as the size of the\n",
    "original tensor, with respect to which we want to compute the product:\n"
   ]
  },
  {
   "cell_type": "code",
   "execution_count": 7,
   "id": "4476af6e",
   "metadata": {
    "collapsed": false,
    "execution": {
     "iopub.execute_input": "2024-07-26T22:10:24.994146Z",
     "iopub.status.busy": "2024-07-26T22:10:24.993733Z",
     "iopub.status.idle": "2024-07-26T22:10:25.009539Z",
     "shell.execute_reply": "2024-07-26T22:10:25.008294Z"
    },
    "jupyter": {
     "outputs_hidden": false
    },
    "papermill": {
     "duration": 0.024817,
     "end_time": "2024-07-26T22:10:25.012139",
     "exception": false,
     "start_time": "2024-07-26T22:10:24.987322",
     "status": "completed"
    },
    "tags": []
   },
   "outputs": [
    {
     "name": "stdout",
     "output_type": "stream",
     "text": [
      "First call\n",
      "tensor([[4., 2., 2., 2., 2.],\n",
      "        [2., 4., 2., 2., 2.],\n",
      "        [2., 2., 4., 2., 2.],\n",
      "        [2., 2., 2., 4., 2.]])\n",
      "\n",
      "Second call\n",
      "tensor([[8., 4., 4., 4., 4.],\n",
      "        [4., 8., 4., 4., 4.],\n",
      "        [4., 4., 8., 4., 4.],\n",
      "        [4., 4., 4., 8., 4.]])\n",
      "\n",
      "Call after zeroing gradients\n",
      "tensor([[4., 2., 2., 2., 2.],\n",
      "        [2., 4., 2., 2., 2.],\n",
      "        [2., 2., 4., 2., 2.],\n",
      "        [2., 2., 2., 4., 2.]])\n"
     ]
    }
   ],
   "source": [
    "inp = torch.eye(4, 5, requires_grad=True)\n",
    "out = (inp+1).pow(2).t()\n",
    "out.backward(torch.ones_like(out), retain_graph=True)\n",
    "print(f\"First call\\n{inp.grad}\")\n",
    "out.backward(torch.ones_like(out), retain_graph=True)\n",
    "print(f\"\\nSecond call\\n{inp.grad}\")\n",
    "inp.grad.zero_()\n",
    "out.backward(torch.ones_like(out), retain_graph=True)\n",
    "print(f\"\\nCall after zeroing gradients\\n{inp.grad}\")"
   ]
  },
  {
   "cell_type": "markdown",
   "id": "1800243b",
   "metadata": {
    "papermill": {
     "duration": 0.005233,
     "end_time": "2024-07-26T22:10:25.023722",
     "exception": false,
     "start_time": "2024-07-26T22:10:25.018489",
     "status": "completed"
    },
    "tags": []
   },
   "source": [
    "Notice that when we call `backward` for the second time with the same\n",
    "argument, the value of the gradient is different. This happens because\n",
    "when doing `backward` propagation, PyTorch **accumulates the\n",
    "gradients**, i.e. the value of computed gradients is added to the `grad`\n",
    "property of all leaf nodes of computational graph. If you want to\n",
    "compute the proper gradients, you need to zero out the `grad` property\n",
    "before. In real-life training an *optimizer* helps us to do this.\n"
   ]
  },
  {
   "cell_type": "markdown",
   "id": "205d07b6",
   "metadata": {
    "papermill": {
     "duration": 0.005058,
     "end_time": "2024-07-26T22:10:25.034124",
     "exception": false,
     "start_time": "2024-07-26T22:10:25.029066",
     "status": "completed"
    },
    "tags": []
   },
   "source": [
    "<div style=\"background-color: #54c7ec; color: #fff; font-weight: 700; padding-left: 10px; padding-top: 5px; padding-bottom: 5px\"><strong>NOTE:</strong></div>\n",
    "<div style=\"background-color: #f3f4f7; padding-left: 10px; padding-top: 10px; padding-bottom: 10px; padding-right: 10px\">\n",
    "<p>Previously we were calling <code>backward()</code> function withoutparameters. This is essentially equivalent to calling<code>backward(torch.tensor(1.0))</code>, which is a useful way to compute thegradients in case of a scalar-valued function, such as loss duringneural network training.</p>\n",
    "</div>\n"
   ]
  },
  {
   "cell_type": "markdown",
   "id": "8fc635b6",
   "metadata": {
    "papermill": {
     "duration": 0.005211,
     "end_time": "2024-07-26T22:10:25.044687",
     "exception": false,
     "start_time": "2024-07-26T22:10:25.039476",
     "status": "completed"
    },
    "tags": []
   },
   "source": [
    "------------------------------------------------------------------------\n"
   ]
  },
  {
   "cell_type": "markdown",
   "id": "f585a972",
   "metadata": {
    "papermill": {
     "duration": 0.005165,
     "end_time": "2024-07-26T22:10:25.055222",
     "exception": false,
     "start_time": "2024-07-26T22:10:25.050057",
     "status": "completed"
    },
    "tags": []
   },
   "source": [
    "Further Reading\n",
    "===============\n",
    "\n",
    "-   [Autograd\n",
    "    Mechanics](https://pytorch.org/docs/stable/notes/autograd.html)\n"
   ]
  }
 ],
 "metadata": {
  "kaggle": {
   "accelerator": "none",
   "dataSources": [],
   "isGpuEnabled": false,
   "isInternetEnabled": true,
   "language": "python",
   "sourceType": "notebook"
  },
  "kernelspec": {
   "display_name": "Python 3",
   "language": "python",
   "name": "python3"
  },
  "language_info": {
   "codemirror_mode": {
    "name": "ipython",
    "version": 3
   },
   "file_extension": ".py",
   "mimetype": "text/x-python",
   "name": "python",
   "nbconvert_exporter": "python",
   "pygments_lexer": "ipython3",
   "version": "3.10.13"
  },
  "papermill": {
   "default_parameters": {},
   "duration": 7.603097,
   "end_time": "2024-07-26T22:10:25.883601",
   "environment_variables": {},
   "exception": null,
   "input_path": "__notebook__.ipynb",
   "output_path": "__notebook__.ipynb",
   "parameters": {},
   "start_time": "2024-07-26T22:10:18.280504",
   "version": "2.5.0"
  }
 },
 "nbformat": 4,
 "nbformat_minor": 5
}
