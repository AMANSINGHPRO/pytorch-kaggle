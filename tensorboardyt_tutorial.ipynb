{
 "cells": [
  {
   "cell_type": "code",
   "execution_count": 1,
   "id": "e4aa7c0a",
   "metadata": {
    "collapsed": false,
    "execution": {
     "iopub.execute_input": "2024-07-26T23:23:12.207535Z",
     "iopub.status.busy": "2024-07-26T23:23:12.207055Z",
     "iopub.status.idle": "2024-07-26T23:23:12.225308Z",
     "shell.execute_reply": "2024-07-26T23:23:12.223918Z"
    },
    "jupyter": {
     "outputs_hidden": false
    },
    "papermill": {
     "duration": 0.030393,
     "end_time": "2024-07-26T23:23:12.228619",
     "exception": false,
     "start_time": "2024-07-26T23:23:12.198226",
     "status": "completed"
    },
    "tags": []
   },
   "outputs": [],
   "source": [
    "# For tips on running notebooks in Google Colab, see\n",
    "# https://pytorch.org/tutorials/beginner/colab\n",
    "%matplotlib inline"
   ]
  },
  {
   "cell_type": "markdown",
   "id": "908aa5f9",
   "metadata": {
    "papermill": {
     "duration": 0.006211,
     "end_time": "2024-07-26T23:23:12.241452",
     "exception": false,
     "start_time": "2024-07-26T23:23:12.235241",
     "status": "completed"
    },
    "tags": []
   },
   "source": [
    "[Introduction](introyt1_tutorial.html) \\|\\|\n",
    "[Tensors](tensors_deeper_tutorial.html) \\|\\|\n",
    "[Autograd](autogradyt_tutorial.html) \\|\\| [Building\n",
    "Models](modelsyt_tutorial.html) \\|\\| **TensorBoard Support** \\|\\|\n",
    "[Training Models](trainingyt.html) \\|\\| [Model\n",
    "Understanding](captumyt.html)\n",
    "\n",
    "PyTorch TensorBoard Support\n",
    "===========================\n",
    "\n",
    "Follow along with the video below or on\n",
    "[youtube](https://www.youtube.com/watch?v=6CEld3hZgqc).\n",
    "\n"
   ]
  },
  {
   "cell_type": "code",
   "execution_count": 2,
   "id": "f4627712",
   "metadata": {
    "execution": {
     "iopub.execute_input": "2024-07-26T23:23:12.255931Z",
     "iopub.status.busy": "2024-07-26T23:23:12.255500Z",
     "iopub.status.idle": "2024-07-26T23:23:12.265197Z",
     "shell.execute_reply": "2024-07-26T23:23:12.263885Z"
    },
    "papermill": {
     "duration": 0.020343,
     "end_time": "2024-07-26T23:23:12.268281",
     "exception": false,
     "start_time": "2024-07-26T23:23:12.247938",
     "status": "completed"
    },
    "tags": []
   },
   "outputs": [
    {
     "data": {
      "text/html": [
       "\n",
       "<div style=\"margin-top:10px; margin-bottom:10px;\">\n",
       "  <iframe width=\"560\" height=\"315\" src=\"https://www.youtube.com/embed/6CEld3hZgqc\" frameborder=\"0\" allow=\"accelerometer; encrypted-media; gyroscope; picture-in-picture\" allowfullscreen></iframe>\n",
       "</div>\n"
      ],
      "text/plain": [
       "<IPython.core.display.HTML object>"
      ]
     },
     "metadata": {},
     "output_type": "display_data"
    }
   ],
   "source": [
    "# Run this cell to load the video\n",
    "from IPython.display import display, HTML\n",
    "html_code = \"\"\"\n",
    "<div style=\"margin-top:10px; margin-bottom:10px;\">\n",
    "  <iframe width=\"560\" height=\"315\" src=\"https://www.youtube.com/embed/6CEld3hZgqc\" frameborder=\"0\" allow=\"accelerometer; encrypted-media; gyroscope; picture-in-picture\" allowfullscreen></iframe>\n",
    "</div>\n",
    "\"\"\"\n",
    "display(HTML(html_code))"
   ]
  },
  {
   "cell_type": "markdown",
   "id": "7a7aaf0f",
   "metadata": {
    "papermill": {
     "duration": 0.006139,
     "end_time": "2024-07-26T23:23:12.280938",
     "exception": false,
     "start_time": "2024-07-26T23:23:12.274799",
     "status": "completed"
    },
    "tags": []
   },
   "source": [
    "\n",
    "\n",
    "Before You Start\n",
    "----------------\n",
    "\n",
    "To run this tutorial, you'll need to install PyTorch, TorchVision,\n",
    "Matplotlib, and TensorBoard.\n",
    "\n",
    "With `conda`:\n",
    "\n",
    "``` {.sourceCode .sh}\n",
    "conda install pytorch torchvision -c pytorch\n",
    "conda install matplotlib tensorboard\n",
    "```\n",
    "\n",
    "With `pip`:\n",
    "\n",
    "``` {.sourceCode .sh}\n",
    "pip install torch torchvision matplotlib tensorboard\n",
    "```\n",
    "\n",
    "Once the dependencies are installed, restart this notebook in the Python\n",
    "environment where you installed them.\n",
    "\n",
    "Introduction\n",
    "------------\n",
    "\n",
    "In this notebook, we'll be training a variant of LeNet-5 against the\n",
    "Fashion-MNIST dataset. Fashion-MNIST is a set of image tiles depicting\n",
    "various garments, with ten class labels indicating the type of garment\n",
    "depicted.\n"
   ]
  },
  {
   "cell_type": "code",
   "execution_count": 3,
   "id": "94042510",
   "metadata": {
    "collapsed": false,
    "execution": {
     "iopub.execute_input": "2024-07-26T23:23:12.295786Z",
     "iopub.status.busy": "2024-07-26T23:23:12.295281Z",
     "iopub.status.idle": "2024-07-26T23:23:36.025113Z",
     "shell.execute_reply": "2024-07-26T23:23:36.023775Z"
    },
    "jupyter": {
     "outputs_hidden": false
    },
    "papermill": {
     "duration": 23.741247,
     "end_time": "2024-07-26T23:23:36.028465",
     "exception": false,
     "start_time": "2024-07-26T23:23:12.287218",
     "status": "completed"
    },
    "tags": []
   },
   "outputs": [
    {
     "name": "stderr",
     "output_type": "stream",
     "text": [
      "2024-07-26 23:23:21.828005: E external/local_xla/xla/stream_executor/cuda/cuda_dnn.cc:9261] Unable to register cuDNN factory: Attempting to register factory for plugin cuDNN when one has already been registered\n",
      "2024-07-26 23:23:21.828178: E external/local_xla/xla/stream_executor/cuda/cuda_fft.cc:607] Unable to register cuFFT factory: Attempting to register factory for plugin cuFFT when one has already been registered\n",
      "2024-07-26 23:23:22.017589: E external/local_xla/xla/stream_executor/cuda/cuda_blas.cc:1515] Unable to register cuBLAS factory: Attempting to register factory for plugin cuBLAS when one has already been registered\n"
     ]
    }
   ],
   "source": [
    "# PyTorch model and training necessities\n",
    "import torch\n",
    "import torch.nn as nn\n",
    "import torch.nn.functional as F\n",
    "import torch.optim as optim\n",
    "\n",
    "# Image datasets and image manipulation\n",
    "import torchvision\n",
    "import torchvision.transforms as transforms\n",
    "\n",
    "# Image display\n",
    "import matplotlib.pyplot as plt\n",
    "import numpy as np\n",
    "\n",
    "# PyTorch TensorBoard support\n",
    "from torch.utils.tensorboard import SummaryWriter\n",
    "\n",
    "# In case you are using an environment that has TensorFlow installed,\n",
    "# such as Google Colab, uncomment the following code to avoid\n",
    "# a bug with saving embeddings to your TensorBoard directory\n",
    "\n",
    "# import tensorflow as tf\n",
    "# import tensorboard as tb\n",
    "# tf.io.gfile = tb.compat.tensorflow_stub.io.gfile"
   ]
  },
  {
   "cell_type": "markdown",
   "id": "f010ce86",
   "metadata": {
    "papermill": {
     "duration": 0.006366,
     "end_time": "2024-07-26T23:23:36.041776",
     "exception": false,
     "start_time": "2024-07-26T23:23:36.035410",
     "status": "completed"
    },
    "tags": []
   },
   "source": [
    "Showing Images in TensorBoard\n",
    "=============================\n",
    "\n",
    "Let's start by adding sample images from our dataset to TensorBoard:\n"
   ]
  },
  {
   "cell_type": "code",
   "execution_count": 4,
   "id": "d3f94922",
   "metadata": {
    "collapsed": false,
    "execution": {
     "iopub.execute_input": "2024-07-26T23:23:36.057156Z",
     "iopub.status.busy": "2024-07-26T23:23:36.056448Z",
     "iopub.status.idle": "2024-07-26T23:23:50.454282Z",
     "shell.execute_reply": "2024-07-26T23:23:50.452655Z"
    },
    "jupyter": {
     "outputs_hidden": false
    },
    "papermill": {
     "duration": 14.409696,
     "end_time": "2024-07-26T23:23:50.457964",
     "exception": false,
     "start_time": "2024-07-26T23:23:36.048268",
     "status": "completed"
    },
    "tags": []
   },
   "outputs": [
    {
     "name": "stdout",
     "output_type": "stream",
     "text": [
      "Downloading http://fashion-mnist.s3-website.eu-central-1.amazonaws.com/train-images-idx3-ubyte.gz\n",
      "Downloading http://fashion-mnist.s3-website.eu-central-1.amazonaws.com/train-images-idx3-ubyte.gz to ./data/FashionMNIST/raw/train-images-idx3-ubyte.gz\n"
     ]
    },
    {
     "name": "stderr",
     "output_type": "stream",
     "text": [
      "100%|██████████| 26421880/26421880 [00:09<00:00, 2874876.18it/s]\n"
     ]
    },
    {
     "name": "stdout",
     "output_type": "stream",
     "text": [
      "Extracting ./data/FashionMNIST/raw/train-images-idx3-ubyte.gz to ./data/FashionMNIST/raw\n",
      "\n",
      "Downloading http://fashion-mnist.s3-website.eu-central-1.amazonaws.com/train-labels-idx1-ubyte.gz\n",
      "Downloading http://fashion-mnist.s3-website.eu-central-1.amazonaws.com/train-labels-idx1-ubyte.gz to ./data/FashionMNIST/raw/train-labels-idx1-ubyte.gz\n"
     ]
    },
    {
     "name": "stderr",
     "output_type": "stream",
     "text": [
      "100%|██████████| 29515/29515 [00:00<00:00, 208689.25it/s]\n"
     ]
    },
    {
     "name": "stdout",
     "output_type": "stream",
     "text": [
      "Extracting ./data/FashionMNIST/raw/train-labels-idx1-ubyte.gz to ./data/FashionMNIST/raw\n",
      "\n",
      "Downloading http://fashion-mnist.s3-website.eu-central-1.amazonaws.com/t10k-images-idx3-ubyte.gz\n",
      "Downloading http://fashion-mnist.s3-website.eu-central-1.amazonaws.com/t10k-images-idx3-ubyte.gz to ./data/FashionMNIST/raw/t10k-images-idx3-ubyte.gz\n"
     ]
    },
    {
     "name": "stderr",
     "output_type": "stream",
     "text": [
      "100%|██████████| 4422102/4422102 [00:01<00:00, 3905219.34it/s]\n"
     ]
    },
    {
     "name": "stdout",
     "output_type": "stream",
     "text": [
      "Extracting ./data/FashionMNIST/raw/t10k-images-idx3-ubyte.gz to ./data/FashionMNIST/raw\n",
      "\n",
      "Downloading http://fashion-mnist.s3-website.eu-central-1.amazonaws.com/t10k-labels-idx1-ubyte.gz\n",
      "Downloading http://fashion-mnist.s3-website.eu-central-1.amazonaws.com/t10k-labels-idx1-ubyte.gz to ./data/FashionMNIST/raw/t10k-labels-idx1-ubyte.gz\n"
     ]
    },
    {
     "name": "stderr",
     "output_type": "stream",
     "text": [
      "100%|██████████| 5148/5148 [00:00<00:00, 16855797.81it/s]"
     ]
    },
    {
     "name": "stdout",
     "output_type": "stream",
     "text": [
      "Extracting ./data/FashionMNIST/raw/t10k-labels-idx1-ubyte.gz to ./data/FashionMNIST/raw\n",
      "\n"
     ]
    },
    {
     "name": "stderr",
     "output_type": "stream",
     "text": [
      "\n"
     ]
    },
    {
     "data": {
      "image/png": "[encoded data removed]",
      "text/plain": [
       "<Figure size 640x480 with 1 Axes>"
      ]
     },
     "metadata": {},
     "output_type": "display_data"
    }
   ],
   "source": [
    "# Gather datasets and prepare them for consumption\n",
    "transform = transforms.Compose(\n",
    "    [transforms.ToTensor(),\n",
    "    transforms.Normalize((0.5,), (0.5,))])\n",
    "\n",
    "# Store separate training and validations splits in ./data\n",
    "training_set = torchvision.datasets.FashionMNIST('./data',\n",
    "    download=True,\n",
    "    train=True,\n",
    "    transform=transform)\n",
    "validation_set = torchvision.datasets.FashionMNIST('./data',\n",
    "    download=True,\n",
    "    train=False,\n",
    "    transform=transform)\n",
    "\n",
    "training_loader = torch.utils.data.DataLoader(training_set,\n",
    "                                              batch_size=4,\n",
    "                                              shuffle=True,\n",
    "                                              num_workers=2)\n",
    "\n",
    "\n",
    "validation_loader = torch.utils.data.DataLoader(validation_set,\n",
    "                                                batch_size=4,\n",
    "                                                shuffle=False,\n",
    "                                                num_workers=2)\n",
    "\n",
    "# Class labels\n",
    "classes = ('T-shirt/top', 'Trouser', 'Pullover', 'Dress', 'Coat',\n",
    "        'Sandal', 'Shirt', 'Sneaker', 'Bag', 'Ankle Boot')\n",
    "\n",
    "# Helper function for inline image display\n",
    "def matplotlib_imshow(img, one_channel=False):\n",
    "    if one_channel:\n",
    "        img = img.mean(dim=0)\n",
    "    img = img / 2 + 0.5     # unnormalize\n",
    "    npimg = img.numpy()\n",
    "    if one_channel:\n",
    "        plt.imshow(npimg, cmap=\"Greys\")\n",
    "    else:\n",
    "        plt.imshow(np.transpose(npimg, (1, 2, 0)))\n",
    "\n",
    "# Extract a batch of 4 images\n",
    "dataiter = iter(training_loader)\n",
    "images, labels = next(dataiter)\n",
    "\n",
    "# Create a grid from the images and show them\n",
    "img_grid = torchvision.utils.make_grid(images)\n",
    "matplotlib_imshow(img_grid, one_channel=True)"
   ]
  },
  {
   "cell_type": "markdown",
   "id": "cb2f83fe",
   "metadata": {
    "papermill": {
     "duration": 0.015579,
     "end_time": "2024-07-26T23:23:50.489626",
     "exception": false,
     "start_time": "2024-07-26T23:23:50.474047",
     "status": "completed"
    },
    "tags": []
   },
   "source": [
    "Above, we used TorchVision and Matplotlib to create a visual grid of a\n",
    "minibatch of our input data. Below, we use the `add_image()` call on\n",
    "`SummaryWriter` to log the image for consumption by TensorBoard, and we\n",
    "also call `flush()` to make sure it's written to disk right away.\n"
   ]
  },
  {
   "cell_type": "code",
   "execution_count": 5,
   "id": "d1af30cc",
   "metadata": {
    "collapsed": false,
    "execution": {
     "iopub.execute_input": "2024-07-26T23:23:50.525168Z",
     "iopub.status.busy": "2024-07-26T23:23:50.524691Z",
     "iopub.status.idle": "2024-07-26T23:23:50.538620Z",
     "shell.execute_reply": "2024-07-26T23:23:50.537567Z"
    },
    "jupyter": {
     "outputs_hidden": false
    },
    "papermill": {
     "duration": 0.035136,
     "end_time": "2024-07-26T23:23:50.541229",
     "exception": false,
     "start_time": "2024-07-26T23:23:50.506093",
     "status": "completed"
    },
    "tags": []
   },
   "outputs": [],
   "source": [
    "# Default log_dir argument is \"runs\" - but it's good to be specific\n",
    "# torch.utils.tensorboard.SummaryWriter is imported above\n",
    "writer = SummaryWriter('runs/fashion_mnist_experiment_1')\n",
    "\n",
    "# Write image data to TensorBoard log dir\n",
    "writer.add_image('Four Fashion-MNIST Images', img_grid)\n",
    "writer.flush()\n",
    "\n",
    "# To view, start TensorBoard on the command line with:\n",
    "#   tensorboard --logdir=runs\n",
    "# ...and open a browser tab to http://localhost:6006/"
   ]
  },
  {
   "cell_type": "markdown",
   "id": "1977c090",
   "metadata": {
    "papermill": {
     "duration": 0.015837,
     "end_time": "2024-07-26T23:23:50.574176",
     "exception": false,
     "start_time": "2024-07-26T23:23:50.558339",
     "status": "completed"
    },
    "tags": []
   },
   "source": [
    "If you start TensorBoard at the command line and open it in a new\n",
    "browser tab (usually at [localhost:6006](localhost:6006)), you should\n",
    "see the image grid under the IMAGES tab.\n",
    "\n",
    "Graphing Scalars to Visualize Training\n",
    "======================================\n",
    "\n",
    "TensorBoard is useful for tracking the progress and efficacy of your\n",
    "training. Below, we'll run a training loop, track some metrics, and save\n",
    "the data for TensorBoard's consumption.\n",
    "\n",
    "Let's define a model to categorize our image tiles, and an optimizer and\n",
    "loss function for training:\n"
   ]
  },
  {
   "cell_type": "code",
   "execution_count": 6,
   "id": "f8f51c01",
   "metadata": {
    "collapsed": false,
    "execution": {
     "iopub.execute_input": "2024-07-26T23:23:50.608412Z",
     "iopub.status.busy": "2024-07-26T23:23:50.607458Z",
     "iopub.status.idle": "2024-07-26T23:23:50.626030Z",
     "shell.execute_reply": "2024-07-26T23:23:50.624583Z"
    },
    "jupyter": {
     "outputs_hidden": false
    },
    "papermill": {
     "duration": 0.038786,
     "end_time": "2024-07-26T23:23:50.628970",
     "exception": false,
     "start_time": "2024-07-26T23:23:50.590184",
     "status": "completed"
    },
    "tags": []
   },
   "outputs": [],
   "source": [
    "class Net(nn.Module):\n",
    "    def __init__(self):\n",
    "        super(Net, self).__init__()\n",
    "        self.conv1 = nn.Conv2d(1, 6, 5)\n",
    "        self.pool = nn.MaxPool2d(2, 2)\n",
    "        self.conv2 = nn.Conv2d(6, 16, 5)\n",
    "        self.fc1 = nn.Linear(16 * 4 * 4, 120)\n",
    "        self.fc2 = nn.Linear(120, 84)\n",
    "        self.fc3 = nn.Linear(84, 10)\n",
    "\n",
    "    def forward(self, x):\n",
    "        x = self.pool(F.relu(self.conv1(x)))\n",
    "        x = self.pool(F.relu(self.conv2(x)))\n",
    "        x = x.view(-1, 16 * 4 * 4)\n",
    "        x = F.relu(self.fc1(x))\n",
    "        x = F.relu(self.fc2(x))\n",
    "        x = self.fc3(x)\n",
    "        return x\n",
    "    \n",
    "\n",
    "net = Net()\n",
    "criterion = nn.CrossEntropyLoss()\n",
    "optimizer = optim.SGD(net.parameters(), lr=0.001, momentum=0.9)"
   ]
  },
  {
   "cell_type": "markdown",
   "id": "419273b1",
   "metadata": {
    "papermill": {
     "duration": 0.0159,
     "end_time": "2024-07-26T23:23:50.661216",
     "exception": false,
     "start_time": "2024-07-26T23:23:50.645316",
     "status": "completed"
    },
    "tags": []
   },
   "source": [
    "Now let's train a single epoch, and evaluate the training vs. validation\n",
    "set losses every 1000 batches:\n"
   ]
  },
  {
   "cell_type": "code",
   "execution_count": 7,
   "id": "1a2f8887",
   "metadata": {
    "collapsed": false,
    "execution": {
     "iopub.execute_input": "2024-07-26T23:23:50.695585Z",
     "iopub.status.busy": "2024-07-26T23:23:50.694650Z",
     "iopub.status.idle": "2024-07-26T23:27:39.733010Z",
     "shell.execute_reply": "2024-07-26T23:27:39.731489Z"
    },
    "jupyter": {
     "outputs_hidden": false
    },
    "papermill": {
     "duration": 229.07626,
     "end_time": "2024-07-26T23:27:39.753415",
     "exception": false,
     "start_time": "2024-07-26T23:23:50.677155",
     "status": "completed"
    },
    "tags": []
   },
   "outputs": [
    {
     "name": "stdout",
     "output_type": "stream",
     "text": [
      "2500\n",
      "Batch 1000\n",
      "Batch 2000\n",
      "Batch 3000\n",
      "Batch 4000\n",
      "Batch 5000\n",
      "Batch 6000\n",
      "Batch 7000\n",
      "Batch 8000\n",
      "Batch 9000\n",
      "Batch 10000\n",
      "Batch 11000\n",
      "Batch 12000\n",
      "Batch 13000\n",
      "Batch 14000\n",
      "Batch 15000\n",
      "Finished Training\n"
     ]
    }
   ],
   "source": [
    "print(len(validation_loader))\n",
    "for epoch in range(1):  # loop over the dataset multiple times\n",
    "    running_loss = 0.0\n",
    "\n",
    "    for i, data in enumerate(training_loader, 0):\n",
    "        # basic training loop\n",
    "        inputs, labels = data\n",
    "        optimizer.zero_grad()\n",
    "        outputs = net(inputs)\n",
    "        loss = criterion(outputs, labels)\n",
    "        loss.backward()\n",
    "        optimizer.step()\n",
    "\n",
    "        running_loss += loss.item()\n",
    "        if i % 1000 == 999:    # Every 1000 mini-batches...\n",
    "            print('Batch {}'.format(i + 1))\n",
    "            # Check against the validation set\n",
    "            running_vloss = 0.0\n",
    "            \n",
    "            # In evaluation mode some model specific operations can be omitted eg. dropout layer\n",
    "            net.train(False) # Switching to evaluation mode, eg. turning off regularisation\n",
    "            for j, vdata in enumerate(validation_loader, 0):\n",
    "                vinputs, vlabels = vdata\n",
    "                voutputs = net(vinputs)\n",
    "                vloss = criterion(voutputs, vlabels)\n",
    "                running_vloss += vloss.item()\n",
    "            net.train(True) # Switching back to training mode, eg. turning on regularisation\n",
    "            \n",
    "            avg_loss = running_loss / 1000\n",
    "            avg_vloss = running_vloss / len(validation_loader)\n",
    "            \n",
    "            # Log the running loss averaged per batch\n",
    "            writer.add_scalars('Training vs. Validation Loss',\n",
    "                            { 'Training' : avg_loss, 'Validation' : avg_vloss },\n",
    "                            epoch * len(training_loader) + i)\n",
    "\n",
    "            running_loss = 0.0\n",
    "print('Finished Training')\n",
    "\n",
    "writer.flush()"
   ]
  },
  {
   "cell_type": "markdown",
   "id": "2668b003",
   "metadata": {
    "papermill": {
     "duration": 0.017461,
     "end_time": "2024-07-26T23:27:39.789073",
     "exception": false,
     "start_time": "2024-07-26T23:27:39.771612",
     "status": "completed"
    },
    "tags": []
   },
   "source": [
    "Switch to your open TensorBoard and have a look at the SCALARS tab.\n",
    "\n",
    "Visualizing Your Model\n",
    "======================\n",
    "\n",
    "TensorBoard can also be used to examine the data flow within your model.\n",
    "To do this, call the `add_graph()` method with a model and sample input:\n"
   ]
  },
  {
   "cell_type": "code",
   "execution_count": 8,
   "id": "77f48f5b",
   "metadata": {
    "collapsed": false,
    "execution": {
     "iopub.execute_input": "2024-07-26T23:27:39.827273Z",
     "iopub.status.busy": "2024-07-26T23:27:39.826838Z",
     "iopub.status.idle": "2024-07-26T23:27:40.177213Z",
     "shell.execute_reply": "2024-07-26T23:27:40.175092Z"
    },
    "jupyter": {
     "outputs_hidden": false
    },
    "papermill": {
     "duration": 0.374342,
     "end_time": "2024-07-26T23:27:40.181284",
     "exception": false,
     "start_time": "2024-07-26T23:27:39.806942",
     "status": "completed"
    },
    "tags": []
   },
   "outputs": [],
   "source": [
    "# Again, grab a single mini-batch of images\n",
    "dataiter = iter(training_loader)\n",
    "images, labels = next(dataiter)\n",
    "\n",
    "# add_graph() will trace the sample input through your model,\n",
    "# and render it as a graph.\n",
    "writer.add_graph(net, images)\n",
    "writer.flush()"
   ]
  },
  {
   "cell_type": "markdown",
   "id": "3dbcd5a1",
   "metadata": {
    "papermill": {
     "duration": 0.017277,
     "end_time": "2024-07-26T23:27:40.217075",
     "exception": false,
     "start_time": "2024-07-26T23:27:40.199798",
     "status": "completed"
    },
    "tags": []
   },
   "source": [
    "When you switch over to TensorBoard, you should see a GRAPHS tab.\n",
    "Double-click the \"NET\" node to see the layers and data flow within your\n",
    "model.\n",
    "\n",
    "Visualizing Your Dataset with Embeddings\n",
    "========================================\n",
    "\n",
    "The 28-by-28 image tiles we're using can be modeled as 784-dimensional\n",
    "vectors (28 \\* 28 = 784). It can be instructive to project this to a\n",
    "lower-dimensional representation. The `add_embedding()` method will\n",
    "project a set of data onto the three dimensions with highest variance,\n",
    "and display them as an interactive 3D chart. The `add_embedding()`\n",
    "method does this automatically by projecting to the three dimensions\n",
    "with highest variance.\n",
    "\n",
    "Below, we'll take a sample of our data, and generate such an embedding:\n"
   ]
  },
  {
   "cell_type": "code",
   "execution_count": 9,
   "id": "8e8fac99",
   "metadata": {
    "collapsed": false,
    "execution": {
     "iopub.execute_input": "2024-07-26T23:27:40.259272Z",
     "iopub.status.busy": "2024-07-26T23:27:40.257672Z",
     "iopub.status.idle": "2024-07-26T23:27:40.539381Z",
     "shell.execute_reply": "2024-07-26T23:27:40.538078Z"
    },
    "jupyter": {
     "outputs_hidden": false
    },
    "papermill": {
     "duration": 0.306117,
     "end_time": "2024-07-26T23:27:40.542247",
     "exception": false,
     "start_time": "2024-07-26T23:27:40.236130",
     "status": "completed"
    },
    "tags": []
   },
   "outputs": [],
   "source": [
    "# Select a random subset of data and corresponding labels\n",
    "def select_n_random(data, labels, n=100):\n",
    "    assert len(data) == len(labels)\n",
    "\n",
    "    perm = torch.randperm(len(data))\n",
    "    return data[perm][:n], labels[perm][:n]\n",
    "\n",
    "# Extract a random subset of data\n",
    "images, labels = select_n_random(training_set.data, training_set.targets)\n",
    "\n",
    "# get the class labels for each image\n",
    "class_labels = [classes[label] for label in labels]\n",
    "\n",
    "# log embeddings\n",
    "features = images.view(-1, 28 * 28)\n",
    "writer.add_embedding(features,\n",
    "                    metadata=class_labels,\n",
    "                    label_img=images.unsqueeze(1))\n",
    "writer.flush()\n",
    "writer.close()"
   ]
  },
  {
   "cell_type": "markdown",
   "id": "371d395c",
   "metadata": {
    "papermill": {
     "duration": 0.017533,
     "end_time": "2024-07-26T23:27:40.577626",
     "exception": false,
     "start_time": "2024-07-26T23:27:40.560093",
     "status": "completed"
    },
    "tags": []
   },
   "source": [
    "Now if you switch to TensorBoard and select the PROJECTOR tab, you\n",
    "should see a 3D representation of the projection. You can rotate and\n",
    "zoom the model. Examine it at large and small scales, and see whether\n",
    "you can spot patterns in the projected data and the clustering of\n",
    "labels.\n",
    "\n",
    "For better visibility, it's recommended to:\n",
    "\n",
    "-   Select \"label\" from the \"Color by\" drop-down on the left.\n",
    "-   Toggle the Night Mode icon along the top to place the light-colored\n",
    "    images on a dark background.\n",
    "\n",
    "Other Resources\n",
    "===============\n",
    "\n",
    "For more information, have a look at:\n",
    "\n",
    "-   PyTorch documentation on\n",
    "    [torch.utils.tensorboard.SummaryWriter](https://pytorch.org/docs/stable/tensorboard.html?highlight=summarywriter)\n",
    "-   Tensorboard tutorial content in the [PyTorch.org\n",
    "    Tutorials](https://pytorch.org/tutorials/)\n",
    "-   For more information about TensorBoard, see the [TensorBoard\n",
    "    documentation](https://www.tensorflow.org/tensorboard)\n"
   ]
  }
 ],
 "metadata": {
  "kaggle": {
   "accelerator": "none",
   "dataSources": [],
   "isGpuEnabled": false,
   "isInternetEnabled": true,
   "language": "python",
   "sourceType": "notebook"
  },
  "kernelspec": {
   "display_name": "Python 3",
   "language": "python",
   "name": "python3"
  },
  "language_info": {
   "codemirror_mode": {
    "name": "ipython",
    "version": 3
   },
   "file_extension": ".py",
   "mimetype": "text/x-python",
   "name": "python",
   "nbconvert_exporter": "python",
   "pygments_lexer": "ipython3",
   "version": "3.10.13"
  },
  "papermill": {
   "default_parameters": {},
   "duration": 274.374641,
   "end_time": "2024-07-26T23:27:43.219785",
   "environment_variables": {},
   "exception": null,
   "input_path": "__notebook__.ipynb",
   "output_path": "__notebook__.ipynb",
   "parameters": {},
   "start_time": "2024-07-26T23:23:08.845144",
   "version": "2.5.0"
  }
 },
 "nbformat": 4,
 "nbformat_minor": 5
}
